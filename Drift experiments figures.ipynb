{
 "cells": [
  {
   "cell_type": "markdown",
   "metadata": {},
   "source": [
    "# Drift experiments figures"
   ]
  },
  {
   "cell_type": "code",
   "execution_count": null,
   "metadata": {},
   "outputs": [],
   "source": [
    "# Disable plots for git (use saved images to share)\n",
    "plot_images = False\n",
    "\n",
    "import yaml\n",
    "import os.path\n",
    "import pickle\n",
    "import matplotlib.pyplot as plt\n",
    "\n",
    "# Set data paths\n",
    "config          = yaml.safe_load(open(\"config.yaml\", \"r\"))\n",
    "results_file = os.path.join(config[\"EXPERIMENTS_DIRECTORY\"], \"results_a\")\n",
    "results_bow50_image = os.path.join(config[\"EXPERIMENTS_DIRECTORY\"], \"results_a_bow50.svg\")\n",
    "results_bow768_image = os.path.join(config[\"EXPERIMENTS_DIRECTORY\"], \"results_a_bow768.svg\")\n",
    "\n",
    "# Load data\n",
    "print(results_file)\n",
    "if os.path.isfile(results_file):\n",
    "    with open(results_file, \"rb\") as handle:\n",
    "        results = pickle.load(handle)"
   ]
  },
  {
   "cell_type": "code",
   "execution_count": null,
   "metadata": {},
   "outputs": [],
   "source": [
    "# Data overview\n",
    "for data_id in results:\n",
    "    print(data_id)\n",
    "    for x in results[data_id]:\n",
    "        print(\"\", x)"
   ]
  },
  {
   "cell_type": "code",
   "execution_count": null,
   "metadata": {},
   "outputs": [],
   "source": [
    "# https://realpython.com/python-matplotlib-guide/\n",
    "# https://matplotlib.org/stable/gallery/lines_bars_and_markers/simple_plot.html\n",
    "\n",
    "import numpy as np\n",
    "target_percentages = [0, 0.05, 0.1, 0.15, 0.2, 0.25, 0.3, 0.35, 0.4, 0.45, 0.5, 0.55, 0.6, 0.65, 0.7, 0.75, 0.8, 0.85, 0.9, 0.95, 1]\n",
    "x = np.divide(target_percentages, 2)\n",
    "\n",
    "if(plot_images):\n",
    "    fig, ax = plt.subplots()\n",
    "    ax.plot(x, results[\"bow_50\"][\"AlibiKSDetector\"][\"predictions\"], label='KS')\n",
    "    ax.plot(x, results[\"bow_50\"][\"CosineDetector\"][\"predictions\"], label='Cosine')\n",
    "    ax.plot(x, results[\"bow_50\"][\"FCITDetector\"][\"predictions\"], label='FCIT')\n",
    "    ax.plot(x, results[\"bow_50\"][\"AlibiMMDDetector\"][\"predictions\"], label='MMD')\n",
    "    plt.legend(loc='center right')\n",
    "    ax.set(xlabel='Percentage of injected negative words', ylabel='p-value',\n",
    "           title='Drift detection: Bag of Words with 50 dimensions')\n",
    "    ax.grid()\n",
    "    fig.savefig(results_bow50_image)\n",
    "    plt.show()"
   ]
  },
  {
   "cell_type": "code",
   "execution_count": null,
   "metadata": {},
   "outputs": [],
   "source": [
    "import numpy as np\n",
    "target_percentages = [0, 0.05, 0.1, 0.15, 0.2, 0.25, 0.3, 0.35, 0.4, 0.45, 0.5, 0.55, 0.6, 0.65, 0.7, 0.75, 0.8, 0.85, 0.9, 0.95, 1]\n",
    "x = np.divide(target_percentages, 2)\n",
    "\n",
    "if(plot_images):\n",
    "    fig, ax = plt.subplots()\n",
    "    ax.plot(x, results[\"bow_768\"][\"AlibiKSDetector\"][\"predictions\"], label='KS')\n",
    "    ax.plot(x, results[\"bow_768\"][\"CosineDetector\"][\"predictions\"], label='Cosine')\n",
    "    ax.plot(x, results[\"bow_768\"][\"AlibiMMDDetector\"][\"predictions\"], label='MMD')\n",
    "    plt.legend(loc='center right')\n",
    "    ax.set(xlabel='Percentage of injected negative words', ylabel='p-value',\n",
    "           title='Drift detection: Bag of Words with 768 dimensions')\n",
    "    ax.grid()\n",
    "    fig.savefig(results_bow768_image)\n",
    "    plt.show()"
   ]
  },
  {
   "cell_type": "markdown",
   "metadata": {},
   "source": [
    "# bow 50"
   ]
  },
  {
   "cell_type": "code",
   "execution_count": null,
   "metadata": {},
   "outputs": [],
   "source": [
    "def print_results(data_id):\n",
    "    print(data_id)\n",
    "    for detector_id in results[data_id]:\n",
    "        print()\n",
    "        print(detector_id)\n",
    "        print(\"Runtime\",\n",
    "              results[data_id][detector_id][\"time_detect\"],\n",
    "              results[data_id][detector_id][\"time_fit\"])\n",
    "        print(\"Predictions\",\n",
    "              results[data_id][detector_id][\"predictions\"])\n",
    "        if(plot_images):\n",
    "            plt.plot(results[data_id][detector_id][\"predictions\"])"
   ]
  },
  {
   "cell_type": "code",
   "execution_count": null,
   "metadata": {},
   "outputs": [],
   "source": [
    "print_results(\"bow_50\")"
   ]
  },
  {
   "cell_type": "code",
   "execution_count": null,
   "metadata": {},
   "outputs": [],
   "source": [
    "if(plot_images):\n",
    "    plt.plot(results[\"bow_50\"][\"AlibiKSDetector\"][\"predictions\"])"
   ]
  },
  {
   "cell_type": "code",
   "execution_count": null,
   "metadata": {},
   "outputs": [],
   "source": [
    "if(plot_images):\n",
    "    plt.plot(results[\"bow_50\"][\"CosineDetector\"][\"predictions\"])"
   ]
  },
  {
   "cell_type": "code",
   "execution_count": null,
   "metadata": {},
   "outputs": [],
   "source": [
    "if(plot_images):\n",
    "    plt.plot(results[\"bow_50\"][\"FCITDetector\"][\"predictions\"])"
   ]
  },
  {
   "cell_type": "code",
   "execution_count": null,
   "metadata": {},
   "outputs": [],
   "source": [
    "if(plot_images):\n",
    "    plt.plot(results[\"bow_50\"][\"AlibiMMDDetector\"][\"predictions\"])"
   ]
  },
  {
   "cell_type": "markdown",
   "metadata": {},
   "source": [
    "# bow 768"
   ]
  },
  {
   "cell_type": "code",
   "execution_count": null,
   "metadata": {},
   "outputs": [],
   "source": [
    "print_results(\"bow_768\")"
   ]
  },
  {
   "cell_type": "code",
   "execution_count": null,
   "metadata": {},
   "outputs": [],
   "source": [
    "if(plot_images):\n",
    "    plt.plot(results[\"bow_768\"][\"AlibiKSDetector\"][\"predictions\"])"
   ]
  },
  {
   "cell_type": "code",
   "execution_count": null,
   "metadata": {},
   "outputs": [],
   "source": [
    "if(plot_images):\n",
    "    plt.plot(results[\"bow_768\"][\"CosineDetector\"][\"predictions\"])"
   ]
  },
  {
   "cell_type": "code",
   "execution_count": null,
   "metadata": {},
   "outputs": [],
   "source": []
  }
 ],
 "metadata": {
  "kernelspec": {
   "display_name": "Python (EML4U)",
   "language": "python",
   "name": "eml4u"
  },
  "language_info": {
   "codemirror_mode": {
    "name": "ipython",
    "version": 3
   },
   "file_extension": ".py",
   "mimetype": "text/x-python",
   "name": "python",
   "nbconvert_exporter": "python",
   "pygments_lexer": "ipython3",
   "version": "3.8.5"
  }
 },
 "nbformat": 4,
 "nbformat_minor": 4
}

