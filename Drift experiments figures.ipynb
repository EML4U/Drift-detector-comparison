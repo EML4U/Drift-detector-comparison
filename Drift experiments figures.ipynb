{
 "cells": [
  {
   "cell_type": "markdown",
   "metadata": {},
   "source": [
    "# Drift experiments figures"
   ]
  },
  {
   "cell_type": "code",
   "execution_count": 10,
   "metadata": {},
   "outputs": [
    {
     "name": "stdout",
     "output_type": "stream",
     "text": [
      "/home/eml4u/EML4U/data/amazon/results_a\n"
     ]
    }
   ],
   "source": [
    "# Disable plots for git (use saved images to share)\n",
    "plot_images = False\n",
    "\n",
    "import yaml\n",
    "import os.path\n",
    "import pickle\n",
    "import matplotlib.pyplot as plt\n",
    "\n",
    "# Set data paths\n",
    "config          = yaml.safe_load(open(\"config.yaml\", \"r\"))\n",
    "results_file = os.path.join(config[\"EXPERIMENTS_DIRECTORY\"], \"results_a\")\n",
    "results_bow50_image = os.path.join(config[\"EXPERIMENTS_DIRECTORY\"], \"results_a_bow50.svg\")\n",
    "results_bow768_image = os.path.join(config[\"EXPERIMENTS_DIRECTORY\"], \"results_a_bow768.svg\")\n",
    "\n",
    "# Load data\n",
    "print(results_file)\n",
    "if os.path.isfile(results_file):\n",
    "    with open(results_file, \"rb\") as handle:\n",
    "        results = pickle.load(handle)"
   ]
  },
  {
   "cell_type": "code",
   "execution_count": 11,
   "metadata": {},
   "outputs": [
    {
     "name": "stdout",
     "output_type": "stream",
     "text": [
      "bow_50\n",
      " AlibiKSDetector\n",
      " CosineDetector\n",
      " FCITDetector\n",
      " AlibiMMDDetector\n",
      " AlibiLSDDDetector\n",
      "bow_768\n",
      " AlibiKSDetector\n",
      " CosineDetector\n",
      " AlibiMMDDetector\n"
     ]
    }
   ],
   "source": [
    "# Data overview\n",
    "for data_id in results:\n",
    "    print(data_id)\n",
    "    for x in results[data_id]:\n",
    "        print(\"\", x)"
   ]
  },
  {
   "cell_type": "code",
   "execution_count": 12,
   "metadata": {},
   "outputs": [],
   "source": [
    "# https://realpython.com/python-matplotlib-guide/\n",
    "# https://matplotlib.org/stable/gallery/lines_bars_and_markers/simple_plot.html\n",
    "\n",
    "import numpy as np\n",
    "target_percentages = [0, 0.05, 0.1, 0.15, 0.2, 0.25, 0.3, 0.35, 0.4, 0.45, 0.5, 0.55, 0.6, 0.65, 0.7, 0.75, 0.8, 0.85, 0.9, 0.95, 1]\n",
    "x = np.divide(target_percentages, 2)\n",
    "\n",
    "if(plot_images):\n",
    "    fig, ax = plt.subplots()\n",
    "    ax.plot(x, results[\"bow_50\"][\"AlibiKSDetector\"][\"predictions\"], label='KS')\n",
    "    ax.plot(x, results[\"bow_50\"][\"CosineDetector\"][\"predictions\"], label='Cosine')\n",
    "    ax.plot(x, results[\"bow_50\"][\"FCITDetector\"][\"predictions\"], label='FCIT')\n",
    "    ax.plot(x, results[\"bow_50\"][\"AlibiMMDDetector\"][\"predictions\"], label='MMD')\n",
    "    ax.plot(x, results[\"bow_50\"][\"AlibiLSDDDetector\"][\"predictions\"], label='LSDDD')\n",
    "    plt.legend(loc='center right')\n",
    "    ax.set(xlabel='Percentage of injected negative words', ylabel='p-value',\n",
    "           title='Drift detection: Bag of Words with 50 dimensions')\n",
    "    ax.grid()\n",
    "    fig.savefig(results_bow50_image)\n",
    "    plt.show()"
   ]
  },
  {
   "cell_type": "code",
   "execution_count": 13,
   "metadata": {},
   "outputs": [],
   "source": [
    "import numpy as np\n",
    "target_percentages = [0, 0.05, 0.1, 0.15, 0.2, 0.25, 0.3, 0.35, 0.4, 0.45, 0.5, 0.55, 0.6, 0.65, 0.7, 0.75, 0.8, 0.85, 0.9, 0.95, 1]\n",
    "x = np.divide(target_percentages, 2)\n",
    "\n",
    "if(plot_images):\n",
    "    fig, ax = plt.subplots()\n",
    "    ax.plot(x, results[\"bow_768\"][\"AlibiKSDetector\"][\"predictions\"], label='KS')\n",
    "    ax.plot(x, results[\"bow_768\"][\"CosineDetector\"][\"predictions\"], label='Cosine')\n",
    "    ax.plot(x, results[\"bow_768\"][\"AlibiMMDDetector\"][\"predictions\"], label='MMD')\n",
    "    plt.legend(loc='center right')\n",
    "    ax.set(xlabel='Percentage of injected negative words', ylabel='p-value',\n",
    "           title='Drift detection: Bag of Words with 768 dimensions')\n",
    "    ax.grid()\n",
    "    fig.savefig(results_bow768_image)\n",
    "    plt.show()"
   ]
  },
  {
   "cell_type": "markdown",
   "metadata": {},
   "source": [
    "# bow 50"
   ]
  },
  {
   "cell_type": "code",
   "execution_count": 14,
   "metadata": {},
   "outputs": [],
   "source": [
    "def print_results(data_id):\n",
    "    print(data_id)\n",
    "    for detector_id in results[data_id]:\n",
    "        print()\n",
    "        print(detector_id)\n",
    "        print(\"Runtime\",\n",
    "              results[data_id][detector_id][\"time_detect\"],\n",
    "              results[data_id][detector_id][\"time_fit\"])\n",
    "        print(\"Predictions\",\n",
    "              results[data_id][detector_id][\"predictions\"])\n",
    "        if(plot_images):\n",
    "            plt.plot(results[data_id][detector_id][\"predictions\"])"
   ]
  },
  {
   "cell_type": "code",
   "execution_count": 15,
   "metadata": {},
   "outputs": [
    {
     "name": "stdout",
     "output_type": "stream",
     "text": [
      "bow_50\n",
      "\n",
      "AlibiKSDetector\n",
      "Runtime 6.28516960144043 6.246566772460938e-05\n",
      "Predictions [0.51078886, 0.40789464, 0.37253818, 0.33638242, 0.2744994, 0.25984728, 0.23708226, 0.21869467, 0.20442879, 0.165477, 0.16117598, 0.13752618, 0.13512623, 0.12036519, 0.09977074, 0.09861998, 0.09784328, 0.079722695, 0.09069573, 0.08291133, 0.075421974]\n",
      "\n",
      "CosineDetector\n",
      "Runtime 5.943364858627319 0.006986141204833984\n",
      "Predictions [0.9989252, 0.99872714, 0.9984572, 0.99807703, 0.9976228, 0.9969852, 0.9962551, 0.9953646, 0.9945061, 0.9933997, 0.9922485, 0.9910583, 0.9897113, 0.9883817, 0.98679733, 0.98516333, 0.9835125, 0.9815969, 0.97976726, 0.9778374, 0.97567135]\n",
      "\n",
      "FCITDetector\n",
      "Runtime 483.87776589393616 0.0013320446014404297\n",
      "Predictions [9.713941234650133e-06, 0.0005125054589427554, 7.143366800832564e-05, 0.00015029437346598078, 9.527222561590889e-06, 0.0015207194594144757, 8.38207643355886e-06, 8.713528820263508e-05, 0.00018864406113537383, 0.00016513465971875214, 0.0002937245571760743, 8.681195378110121e-05, 0.0007190441868918988, 0.0009804558879240358, 3.0387509687148454e-06, 0.00010800101403999513, 0.00024750220449508084, 0.00013708738345238948, 0.003900579969107685, 9.03351324102659e-05, 0.0001025826263131577]\n",
      "\n",
      "AlibiMMDDetector\n",
      "Runtime 3234.7483360767365 15.747519731521606\n",
      "Predictions [0.8199999928474426, 0.2199999988079071, 0.0, 0.0, 0.0, 0.0, 0.0, 0.0, 0.0, 0.0, 0.0, 0.0, 0.0, 0.0, 0.0, 0.0, 0.0, 0.0, 0.0, 0.0, 0.0]\n",
      "\n",
      "AlibiLSDDDetector\n",
      "Runtime 52.9299418926239 15.901162385940552\n",
      "Predictions [0.8500000238418579, 0.2199999988079071, 0.019999999552965164, 0.0, 0.0, 0.0, 0.0, 0.0, 0.0, 0.0, 0.0, 0.0, 0.0, 0.0, 0.0, 0.0, 0.0, 0.0, 0.0, 0.0, 0.0]\n"
     ]
    }
   ],
   "source": [
    "print_results(\"bow_50\")"
   ]
  },
  {
   "cell_type": "code",
   "execution_count": 16,
   "metadata": {},
   "outputs": [],
   "source": [
    "if(plot_images):\n",
    "    plt.plot(results[\"bow_50\"][\"AlibiKSDetector\"][\"predictions\"])"
   ]
  },
  {
   "cell_type": "code",
   "execution_count": 17,
   "metadata": {},
   "outputs": [],
   "source": [
    "if(plot_images):\n",
    "    plt.plot(results[\"bow_50\"][\"CosineDetector\"][\"predictions\"])"
   ]
  },
  {
   "cell_type": "code",
   "execution_count": 18,
   "metadata": {},
   "outputs": [],
   "source": [
    "if(plot_images):\n",
    "    plt.plot(results[\"bow_50\"][\"FCITDetector\"][\"predictions\"])"
   ]
  },
  {
   "cell_type": "code",
   "execution_count": 19,
   "metadata": {},
   "outputs": [],
   "source": [
    "if(plot_images):\n",
    "    plt.plot(results[\"bow_50\"][\"AlibiMMDDetector\"][\"predictions\"])"
   ]
  },
  {
   "cell_type": "code",
   "execution_count": 20,
   "metadata": {},
   "outputs": [],
   "source": [
    "if(plot_images):\n",
    "    plt.plot(results[\"bow_50\"][\"AlibiLSDDDetector\"][\"predictions\"])"
   ]
  },
  {
   "cell_type": "markdown",
   "metadata": {},
   "source": [
    "# bow 768"
   ]
  },
  {
   "cell_type": "code",
   "execution_count": 21,
   "metadata": {},
   "outputs": [
    {
     "name": "stdout",
     "output_type": "stream",
     "text": [
      "bow_768\n",
      "\n",
      "AlibiKSDetector\n",
      "Runtime 78.06494069099426 4.649162292480469e-05\n",
      "Predictions [0.51008314, 0.49886286, 0.4815251, 0.46080306, 0.44444004, 0.42147303, 0.40360108, 0.37133455, 0.34559998, 0.32888284, 0.31053445, 0.2856724, 0.2656401, 0.24574478, 0.23950554, 0.2210834, 0.21252106, 0.1946199, 0.18059862, 0.1687605, 0.16253084]\n",
      "\n",
      "CosineDetector\n",
      "Runtime 7.180832147598267 0.012276887893676758\n",
      "Predictions [0.99790823, 0.99789876, 0.9978256, 0.9977554, 0.9976584, 0.9975157, 0.99735415, 0.99716794, 0.9969376, 0.99670625, 0.99643385, 0.9961323, 0.9957928, 0.99553275, 0.9951681, 0.9947151, 0.9942925, 0.9938109, 0.9933638, 0.9928708, 0.99228996]\n",
      "\n",
      "AlibiMMDDetector\n",
      "Runtime 3367.0329155921936 16.759654760360718\n",
      "Predictions [0.4099999964237213, 0.3700000047683716, 0.23999999463558197, 0.11999999731779099, 0.05999999865889549, 0.009999999776482582, 0.009999999776482582, 0.009999999776482582, 0.0, 0.0, 0.0, 0.0, 0.0, 0.0, 0.0, 0.0, 0.0, 0.0, 0.0, 0.0, 0.0]\n"
     ]
    }
   ],
   "source": [
    "print_results(\"bow_768\")"
   ]
  },
  {
   "cell_type": "code",
   "execution_count": 22,
   "metadata": {},
   "outputs": [],
   "source": [
    "if(plot_images):\n",
    "    plt.plot(results[\"bow_768\"][\"AlibiKSDetector\"][\"predictions\"])"
   ]
  },
  {
   "cell_type": "code",
   "execution_count": 23,
   "metadata": {},
   "outputs": [],
   "source": [
    "if(plot_images):\n",
    "    plt.plot(results[\"bow_768\"][\"CosineDetector\"][\"predictions\"])"
   ]
  },
  {
   "cell_type": "code",
   "execution_count": null,
   "metadata": {},
   "outputs": [],
   "source": []
  }
 ],
 "metadata": {
  "kernelspec": {
   "display_name": "Python (EML4U)",
   "language": "python",
   "name": "eml4u"
  },
  "language_info": {
   "codemirror_mode": {
    "name": "ipython",
    "version": 3
   },
   "file_extension": ".py",
   "mimetype": "text/x-python",
   "name": "python",
   "nbconvert_exporter": "python",
   "pygments_lexer": "ipython3",
   "version": "3.8.5"
  }
 },
 "nbformat": 4,
 "nbformat_minor": 4
}

