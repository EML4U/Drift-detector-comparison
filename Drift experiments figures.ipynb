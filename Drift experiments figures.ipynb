{
 "cells": [
  {
   "cell_type": "markdown",
   "metadata": {},
   "source": [
    "# Drift experiments figures"
   ]
  },
  {
   "cell_type": "code",
   "execution_count": 51,
   "metadata": {},
   "outputs": [
    {
     "name": "stdout",
     "output_type": "stream",
     "text": [
      "/home/eml4u/EML4U/data/amazon/results_a\n"
     ]
    }
   ],
   "source": [
    "import yaml\n",
    "import os.path\n",
    "import pickle\n",
    "\n",
    "# Set data paths\n",
    "config          = yaml.safe_load(open(\"config.yaml\", \"r\"))\n",
    "results_file = os.path.join(config[\"EXPERIMENTS_DIRECTORY\"], \"results_a\")\n",
    "\n",
    "# Load data\n",
    "print(results_file)\n",
    "if os.path.isfile(results_file):\n",
    "    with open(results_file, \"rb\") as handle:\n",
    "        results = pickle.load(handle)"
   ]
  },
  {
   "cell_type": "code",
   "execution_count": 52,
   "metadata": {},
   "outputs": [],
   "source": [
    "import matplotlib.pyplot as plt\n",
    "\n",
    "def print_results(data_id):\n",
    "    print(data_id)\n",
    "    for detector_id in results[data_id]:\n",
    "        print()\n",
    "        print(detector_id)\n",
    "        print(\"Runtime\",\n",
    "              results[data_id][detector_id][\"time_detect\"],\n",
    "              results[data_id][detector_id][\"time_fit\"])\n",
    "        print(\"Runtime\",\n",
    "              results[data_id][detector_id][\"predictions\"])\n",
    "        plt.plot(results[data_id][detector_id][\"predictions\"])"
   ]
  },
  {
   "cell_type": "code",
   "execution_count": 53,
   "metadata": {},
   "outputs": [
    {
     "name": "stdout",
     "output_type": "stream",
     "text": [
      "bow_50\n",
      "bow_768\n"
     ]
    }
   ],
   "source": [
    "for data_id in results:\n",
    "    print(data_id)"
   ]
  },
  {
   "cell_type": "code",
   "execution_count": 54,
   "metadata": {},
   "outputs": [
    {
     "name": "stdout",
     "output_type": "stream",
     "text": [
      "bow_50\n",
      "\n",
      "AlibiKSDetector\n",
      "Runtime 6.28516960144043 6.246566772460938e-05\n",
      "Runtime [0.51078886, 0.40789464, 0.37253818, 0.33638242, 0.2744994, 0.25984728, 0.23708226, 0.21869467, 0.20442879, 0.165477, 0.16117598, 0.13752618, 0.13512623, 0.12036519, 0.09977074, 0.09861998, 0.09784328, 0.079722695, 0.09069573, 0.08291133, 0.075421974]\n",
      "\n",
      "CosineDetector\n",
      "Runtime 5.943364858627319 0.006986141204833984\n",
      "Runtime [0.9989252, 0.99872714, 0.9984572, 0.99807703, 0.9976228, 0.9969852, 0.9962551, 0.9953646, 0.9945061, 0.9933997, 0.9922485, 0.9910583, 0.9897113, 0.9883817, 0.98679733, 0.98516333, 0.9835125, 0.9815969, 0.97976726, 0.9778374, 0.97567135]\n"
     ]
    },
    {
     "data": {
      "image/png": "[encoded data removed]",
      "text/plain": [
       "<Figure size 432x288 with 1 Axes>"
      ]
     },
     "metadata": {
      "needs_background": "light"
     },
     "output_type": "display_data"
    }
   ],
   "source": [
    "print_results(\"bow_50\")"
   ]
  },
  {
   "cell_type": "code",
   "execution_count": 55,
   "metadata": {},
   "outputs": [
    {
     "name": "stdout",
     "output_type": "stream",
     "text": [
      "bow_768\n",
      "\n",
      "AlibiKSDetector\n",
      "Runtime 78.06494069099426 4.649162292480469e-05\n",
      "Runtime [0.51008314, 0.49886286, 0.4815251, 0.46080306, 0.44444004, 0.42147303, 0.40360108, 0.37133455, 0.34559998, 0.32888284, 0.31053445, 0.2856724, 0.2656401, 0.24574478, 0.23950554, 0.2210834, 0.21252106, 0.1946199, 0.18059862, 0.1687605, 0.16253084]\n",
      "\n",
      "CosineDetector\n",
      "Runtime 7.180832147598267 0.012276887893676758\n",
      "Runtime [0.99790823, 0.99789876, 0.9978256, 0.9977554, 0.9976584, 0.9975157, 0.99735415, 0.99716794, 0.9969376, 0.99670625, 0.99643385, 0.9961323, 0.9957928, 0.99553275, 0.9951681, 0.9947151, 0.9942925, 0.9938109, 0.9933638, 0.9928708, 0.99228996]\n"
     ]
    },
    {
     "data": {
      "image/png": "[encoded data removed]",
      "text/plain": [
       "<Figure size 432x288 with 1 Axes>"
      ]
     },
     "metadata": {
      "needs_background": "light"
     },
     "output_type": "display_data"
    }
   ],
   "source": [
    "print_results(\"bow_768\")"
   ]
  },
  {
   "cell_type": "code",
   "execution_count": null,
   "metadata": {},
   "outputs": [],
   "source": []
  }
 ],
 "metadata": {
  "kernelspec": {
   "display_name": "Python (EML4U)",
   "language": "python",
   "name": "eml4u"
  },
  "language_info": {
   "codemirror_mode": {
    "name": "ipython",
    "version": 3
   },
   "file_extension": ".py",
   "mimetype": "text/x-python",
   "name": "python",
   "nbconvert_exporter": "python",
   "pygments_lexer": "ipython3",
   "version": "3.8.5"
  }
 },
 "nbformat": 4,
 "nbformat_minor": 4
}

