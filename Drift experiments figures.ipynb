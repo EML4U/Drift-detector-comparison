{
 "cells": [
  {
   "cell_type": "markdown",
   "metadata": {},
   "source": [
    "# Drift experiments figures"
   ]
  },
  {
   "cell_type": "code",
   "execution_count": null,
   "metadata": {},
   "outputs": [],
   "source": [
    "# Disable plots for git (use saved images to share)\n",
    "plot_images = False\n",
    "\n",
    "import yaml\n",
    "import os.path\n",
    "import pickle\n",
    "import matplotlib.pyplot as plt\n",
    "\n",
    "# Set data paths\n",
    "config          = yaml.safe_load(open(\"config.yaml\", \"r\"))\n",
    "results_file = os.path.join(config[\"EXPERIMENTS_DIRECTORY\"], \"results_a\")\n",
    "results_bow50_pdf = os.path.join(config[\"EXPERIMENTS_DIRECTORY\"], \"results_a_bow50.pdf\")\n",
    "results_bow50_image = os.path.join(config[\"EXPERIMENTS_DIRECTORY\"], \"results_a_bow50.png\")\n",
    "results_bow768_pdf = os.path.join(config[\"EXPERIMENTS_DIRECTORY\"], \"results_a_bow768.pdf\")\n",
    "results_bow768_image = os.path.join(config[\"EXPERIMENTS_DIRECTORY\"], \"results_a_bow768.png\")\n",
    "\n",
    "# Load data\n",
    "print(results_file)\n",
    "if os.path.isfile(results_file):\n",
    "    with open(results_file, \"rb\") as handle:\n",
    "        results = pickle.load(handle)"
   ]
  },
  {
   "cell_type": "code",
   "execution_count": null,
   "metadata": {},
   "outputs": [],
   "source": [
    "# Data overview\n",
    "for data_id in results:\n",
    "    print(data_id)\n",
    "    for x in results[data_id]:\n",
    "        print(\"\", x)"
   ]
  },
  {
   "cell_type": "code",
   "execution_count": null,
   "metadata": {},
   "outputs": [],
   "source": [
    "# https://realpython.com/python-matplotlib-guide/\n",
    "# https://matplotlib.org/stable/gallery/lines_bars_and_markers/simple_plot.html\n",
    "\n",
    "# https://matplotlib.org/stable/tutorials/colors/colors.html\n",
    "# 'tab:blue''tab:orange''tab:green''tab:red''tab:purple''tab:brown''tab:pink''tab:gray''tab:olive''tab:cyan'\n",
    "\n",
    "from matplotlib.ticker import (MultipleLocator, AutoMinorLocator)\n",
    "import numpy as np\n",
    "target_percentages = [0, 0.05, 0.1, 0.15, 0.2, 0.25, 0.3, 0.35, 0.4, 0.45, 0.5, 0.55, 0.6, 0.65, 0.7, 0.75, 0.8, 0.85, 0.9, 0.95, 1]\n",
    "x = np.divide(target_percentages, 2)\n",
    "#print(x)\n",
    "\n",
    "if(plot_images):\n",
    "    linewidth=1.5\n",
    "    fig, ax = plt.subplots()\n",
    "    #ax.plot(x, results[\"bow_50\"][\"CosineDetector\"][\"predictions\"], label='Cosine', color='tab:purple', linewidth=linewidth)\n",
    "    ax.plot(x, results[\"bow_50\"][\"AlibiKSDetector\"][\"predictions\"], label='KS', color='tab:green', linewidth=linewidth)\n",
    "    ax.plot(x, results[\"bow_50\"][\"AlibiLSDDDetector\"][\"predictions\"], label='LSDD', color='tab:orange', linewidth=linewidth)\n",
    "    ax.plot(x, results[\"bow_50\"][\"AlibiMMDDetector\"][\"predictions\"], '--', label='MMD', color='tab:brown', linewidth=linewidth)\n",
    "    ax.plot(x, results[\"bow_50\"][\"FCITDetector\"][\"predictions\"], ':', label='FCIT', color='tab:blue', linewidth=linewidth)\n",
    "    ax.plot(x, results[\"bow_50\"][\"AlibiChiSquaredDetector\"][\"predictions\"], label='ChiSquared', color='tab:red', linewidth=linewidth)\n",
    "    #ax.plot(x, results[\"bow_50\"][\"AlibiChiSquaredDetector-FDR\"][\"predictions\"], ':', label='ChiSquared', color='tab:red', linewidth=linewidth)\n",
    "    plt.legend(loc='center right')\n",
    "    ax.set(xlabel='Percentage of injected negative words', ylabel='p-value',\n",
    "           title='Drift detection: Bag of Words with 50 dimensions')\n",
    "    ax.grid(color='#dddddd')\n",
    "    ax.xaxis.set_minor_locator(AutoMinorLocator(4))\n",
    "    \n",
    "    #ax.grid(b=True, linestyle='-', linewidth=1, which=\"both\")\n",
    "    #plt.tick_params(which='major', length=11, color='r')\n",
    "    #plt.tick_params(which='minor', length=4, color='r')\n",
    "    #ax.grid(which='major', b=True)\n",
    "    #ax.grid(which='minor', b=True)\n",
    "    #plt.xticks(x)\n",
    "    #plt.minorticks_on()\n",
    "    #plt.tick_params(axis='x', which='major', bottom=True)\n",
    "\n",
    "    fig.savefig(results_bow50_pdf)\n",
    "    fig.savefig(results_bow50_image, dpi=150)\n",
    "    plt.show()"
   ]
  },
  {
   "cell_type": "code",
   "execution_count": null,
   "metadata": {},
   "outputs": [],
   "source": [
    "import numpy as np\n",
    "target_percentages = [0, 0.05, 0.1, 0.15, 0.2, 0.25, 0.3, 0.35, 0.4, 0.45, 0.5, 0.55, 0.6, 0.65, 0.7, 0.75, 0.8, 0.85, 0.9, 0.95, 1]\n",
    "x = np.divide(target_percentages, 2)\n",
    "\n",
    "if(plot_images):\n",
    "    linewidth=1.5\n",
    "    fig, ax = plt.subplots()\n",
    "    #ax.plot(x, results[\"bow_768\"][\"CosineDetector\"][\"predictions\"], label='Cosine', color='tab:purple', linewidth=linewidth)\n",
    "    ax.plot(x, results[\"bow_768\"][\"AlibiKSDetector\"][\"predictions\"], label='KS', color='tab:green', linewidth=linewidth)\n",
    "    ax.plot(x, results[\"bow_768\"][\"AlibiLSDDDetector\"][\"predictions\"], label='LSDD', color='tab:orange', linewidth=linewidth)\n",
    "    ax.plot(x, results[\"bow_768\"][\"AlibiMMDDetector\"][\"predictions\"], '--', label='MMD', color='tab:brown', linewidth=linewidth)\n",
    "    plt.legend(loc='center right')\n",
    "    ax.set(xlabel='Percentage of injected negative words', ylabel='p-value',\n",
    "           title='Drift detection: Bag of Words with 768 dimensions')\n",
    "    ax.grid(color='#dddddd')\n",
    "    ax.xaxis.set_minor_locator(AutoMinorLocator(4))\n",
    "    fig.savefig(results_bow768_pdf)\n",
    "    fig.savefig(results_bow768_image, dpi=150)\n",
    "    plt.show()"
   ]
  },
  {
   "cell_type": "markdown",
   "metadata": {},
   "source": [
    "# bow 50"
   ]
  },
  {
   "cell_type": "code",
   "execution_count": null,
   "metadata": {},
   "outputs": [],
   "source": [
    "def print_results(data_id):\n",
    "    print(data_id)\n",
    "    for detector_id in results[data_id]:\n",
    "        print()\n",
    "        print(detector_id)\n",
    "        print(\"Runtime\",\n",
    "              results[data_id][detector_id][\"time_detect\"],\n",
    "              results[data_id][detector_id][\"time_fit\"])\n",
    "        print(\"Predictions\",\n",
    "              results[data_id][detector_id][\"predictions\"])\n",
    "        if(plot_images):\n",
    "            plt.plot(results[data_id][detector_id][\"predictions\"])"
   ]
  },
  {
   "cell_type": "code",
   "execution_count": null,
   "metadata": {},
   "outputs": [],
   "source": [
    "print_results(\"bow_50\")"
   ]
  },
  {
   "cell_type": "code",
   "execution_count": null,
   "metadata": {},
   "outputs": [],
   "source": [
    "if(plot_images):\n",
    "    plt.plot(results[\"bow_50\"][\"AlibiKSDetector\"][\"predictions\"])"
   ]
  },
  {
   "cell_type": "code",
   "execution_count": null,
   "metadata": {},
   "outputs": [],
   "source": [
    "if(plot_images):\n",
    "    plt.plot(results[\"bow_50\"][\"CosineDetector\"][\"predictions\"])"
   ]
  },
  {
   "cell_type": "code",
   "execution_count": null,
   "metadata": {},
   "outputs": [],
   "source": [
    "if(plot_images):\n",
    "    plt.plot(results[\"bow_50\"][\"FCITDetector\"][\"predictions\"])"
   ]
  },
  {
   "cell_type": "code",
   "execution_count": null,
   "metadata": {},
   "outputs": [],
   "source": [
    "if(plot_images):\n",
    "    plt.plot(results[\"bow_50\"][\"AlibiMMDDetector\"][\"predictions\"])"
   ]
  },
  {
   "cell_type": "code",
   "execution_count": null,
   "metadata": {},
   "outputs": [],
   "source": [
    "if(plot_images):\n",
    "    plt.plot(results[\"bow_50\"][\"AlibiLSDDDetector\"][\"predictions\"])"
   ]
  },
  {
   "cell_type": "code",
   "execution_count": null,
   "metadata": {},
   "outputs": [],
   "source": [
    "if(plot_images):\n",
    "    plt.plot(results[\"bow_50\"][\"AlibiChiSquaredDetector\"][\"predictions\"])"
   ]
  },
  {
   "cell_type": "markdown",
   "metadata": {},
   "source": [
    "# bow 768"
   ]
  },
  {
   "cell_type": "code",
   "execution_count": null,
   "metadata": {},
   "outputs": [],
   "source": [
    "print_results(\"bow_768\")"
   ]
  },
  {
   "cell_type": "code",
   "execution_count": null,
   "metadata": {},
   "outputs": [],
   "source": [
    "if(plot_images):\n",
    "    plt.plot(results[\"bow_768\"][\"AlibiKSDetector\"][\"predictions\"])"
   ]
  },
  {
   "cell_type": "code",
   "execution_count": null,
   "metadata": {},
   "outputs": [],
   "source": [
    "if(plot_images):\n",
    "    plt.plot(results[\"bow_768\"][\"AlibiMMDDetector\"][\"predictions\"])"
   ]
  },
  {
   "cell_type": "code",
   "execution_count": null,
   "metadata": {},
   "outputs": [],
   "source": [
    "if(plot_images):\n",
    "    plt.plot(results[\"bow_768\"][\"CosineDetector\"][\"predictions\"])"
   ]
  },
  {
   "cell_type": "code",
   "execution_count": null,
   "metadata": {},
   "outputs": [],
   "source": [
    "if(plot_images):\n",
    "    plt.plot(results[\"bow_768\"][\"AlibiLSDDDetector\"][\"predictions\"])"
   ]
  },
  {
   "cell_type": "code",
   "execution_count": null,
   "metadata": {},
   "outputs": [],
   "source": [
    "# Print results\n",
    "if(True):\n",
    "    print(\"Runtimes (fit and detect) in minutes:\")\n",
    "    from pprint import pprint\n",
    "    for data_id in results:\n",
    "        times = {}\n",
    "        for detector_id in results[data_id]:\n",
    "            time = 0\n",
    "            for key in results[data_id][detector_id]:\n",
    "                if(key == \"time_detect\" or key == \"time_fit\"):\n",
    "                    time += results[data_id][detector_id][key]\n",
    "            times[detector_id] = time/60\n",
    "        pprint(sorted(times.items(), key=lambda item: item[1]))"
   ]
  },
  {
   "cell_type": "code",
   "execution_count": null,
   "metadata": {},
   "outputs": [],
   "source": [
    "# Print results\n",
    "if(False):\n",
    "    from pprint import pprint\n",
    "    pprint(results)"
   ]
  },
  {
   "cell_type": "code",
   "execution_count": null,
   "metadata": {},
   "outputs": [],
   "source": []
  }
 ],
 "metadata": {
  "language_info": {
   "name": "python",
   "pygments_lexer": "ipython3"
  }
 },
 "nbformat": 4,
 "nbformat_minor": 4
}
