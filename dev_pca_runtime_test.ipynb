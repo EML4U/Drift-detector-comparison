{
 "cells": [
  {
   "cell_type": "markdown",
   "metadata": {},
   "source": [
    "# PCA runtime test\n",
    "\n",
    "- https://scikit-learn.org/stable/modules/generated/sklearn.decomposition.PCA.html\n",
    "- https://scikit-learn.org/stable/auto_examples/decomposition/plot_pca_iris.html"
   ]
  },
  {
   "cell_type": "markdown",
   "metadata": {},
   "source": [
    "## Load data"
   ]
  },
  {
   "cell_type": "code",
   "execution_count": 1,
   "metadata": {},
   "outputs": [
    {
     "name": "stdout",
     "output_type": "stream",
     "text": [
      "bow_768_file /home/eml4u/EML4U/data/amazon/amazon_drift_bow_768.pickle\n"
     ]
    }
   ],
   "source": [
    "import yaml\n",
    "import os.path\n",
    "import pickle\n",
    "\n",
    "# Set data paths\n",
    "config          = yaml.safe_load(open(\"config.yaml\", \"r\"))\n",
    "bow_768_file = os.path.join(config[\"EMBEDDINGS_DIRECTORY\"], \"amazon_drift_bow_768.pickle\")\n",
    "print(\"bow_768_file\", bow_768_file)\n",
    "\n",
    "# Load data\n",
    "data = {}\n",
    "with open(bow_768_file, \"rb\") as handle:\n",
    "    data[\"bow_768\"] = pickle.load(handle)"
   ]
  },
  {
   "cell_type": "markdown",
   "metadata": {},
   "source": [
    "## Split data"
   ]
  },
  {
   "cell_type": "code",
   "execution_count": 2,
   "metadata": {},
   "outputs": [
    {
     "name": "stdout",
     "output_type": "stream",
     "text": [
      "Train Data. Size: 500 Dimension: 768\n",
      "Test Data. Size: 9500 Dimension: 768\n"
     ]
    }
   ],
   "source": [
    "train_data_size = 500\n",
    "train_data = data[\"bow_768\"]['orig'][0][:train_data_size]\n",
    "test_data = data[\"bow_768\"]['orig'][0][train_data_size:]\n",
    "print(\"Train Data. Size:\", len(train_data),\"Dimension:\", len(train_data[0]))\n",
    "print(\"Test Data. Size:\", len(test_data),\"Dimension:\", len(test_data[0]))"
   ]
  },
  {
   "cell_type": "markdown",
   "metadata": {},
   "source": [
    "## Reduce dimensions"
   ]
  },
  {
   "cell_type": "code",
   "execution_count": 3,
   "metadata": {},
   "outputs": [
    {
     "name": "stdout",
     "output_type": "stream",
     "text": [
      "Runtime (seconds) 0.06365585327148438\n",
      "1626107475.7857342\n",
      "Reduced Data. Size: 9500 Dimension: 50\n"
     ]
    }
   ],
   "source": [
    "from sklearn.decomposition import PCA\n",
    "import numpy as np\n",
    "import time\n",
    "\n",
    "target_dimensions = 50\n",
    "\n",
    "begin = time.time()\n",
    "pca = PCA(n_components=target_dimensions)\n",
    "pca.fit(train_data)\n",
    "reduced_data = pca.transform(test_data)\n",
    "\n",
    "print(\"Runtime (seconds)\", time.time() - begin)\n",
    "print(time.time())\n",
    "print(\"Reduced Data. Size:\", len(reduced_data),\"Dimension:\", len(reduced_data[0]))"
   ]
  },
  {
   "cell_type": "code",
   "execution_count": 4,
   "metadata": {},
   "outputs": [
    {
     "name": "stdout",
     "output_type": "stream",
     "text": [
      "n_components_ 50\n",
      "n_features_ 768\n",
      "n_samples_ 500\n"
     ]
    }
   ],
   "source": [
    "print(\"n_components_\", pca.n_components_)\n",
    "print(\"n_features_\", pca.n_features_)\n",
    "print(\"n_samples_\", pca.n_samples_)\n",
    "\n",
    "# Just for interest: Test inverse transform (did not produce usable data)\n",
    "if(False):\n",
    "    index = 100\n",
    "    print(test_data[index][:10])\n",
    "    print(pca.inverse_transform(reduced_data[index])[:10])"
   ]
  },
  {
   "cell_type": "code",
   "execution_count": null,
   "metadata": {},
   "outputs": [],
   "source": []
  }
 ],
 "metadata": {
  "kernelspec": {
   "display_name": "Python (EML4U)",
   "language": "python",
   "name": "eml4u"
  },
  "language_info": {
   "codemirror_mode": {
    "name": "ipython",
    "version": 3
   },
   "file_extension": ".py",
   "mimetype": "text/x-python",
   "name": "python",
   "nbconvert_exporter": "python",
   "pygments_lexer": "ipython3",
   "version": "3.8.5"
  }
 },
 "nbformat": 4,
 "nbformat_minor": 4
}

