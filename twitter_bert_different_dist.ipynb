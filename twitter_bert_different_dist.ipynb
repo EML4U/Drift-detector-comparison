{
 "cells": [
  {
   "cell_type": "code",
   "execution_count": null,
   "metadata": {},
   "outputs": [],
   "source": [
    "import pickle\n",
    "from detectors import *\n",
    "import matplotlib.pyplot as plt\n",
    "import numpy as np"
   ]
  },
  {
   "cell_type": "markdown",
   "metadata": {},
   "source": [
    "# load data"
   ]
  },
  {
   "cell_type": "code",
   "execution_count": null,
   "metadata": {},
   "outputs": [],
   "source": [
    "with open('data/twitter/twitter_bert_768_diff_dist.pickle', 'rb') as handle:\n",
    "    data = pickle.load(handle)"
   ]
  },
  {
   "cell_type": "markdown",
   "metadata": {},
   "source": [
    "# initiate detectors"
   ]
  },
  {
   "cell_type": "code",
   "execution_count": null,
   "metadata": {},
   "outputs": [],
   "source": [
    "detectors = {}\n",
    "\n",
    "csdd = CosineSimilarityDriftDetector()\n",
    "detectors['csdd'] = csdd\n",
    "\n",
    "kts = KernelTwoSampleDriftDetector()\n",
    "detectors['kts'] = kts\n",
    "\n",
    "aks = AlibiKSDetector()\n",
    "detectors['aks'] = aks\n",
    "\n",
    "acs = AlibiChiSquaredDetector()\n",
    "detectors['acs'] = acs\n",
    "\n",
    "ammd = AlibiMMDDetector()\n",
    "detectors['ammd'] = ammd"
   ]
  },
  {
   "cell_type": "markdown",
   "metadata": {},
   "source": [
    "# tests"
   ]
  },
  {
   "cell_type": "code",
   "execution_count": null,
   "metadata": {},
   "outputs": [],
   "source": [
    "results_124 = {x: [] for x in detectors}\n",
    "results_192 = {x: [] for x in detectors}\n",
    "results_480 = {x: [] for x in detectors}\n",
    "\n",
    "for i in range(8):\n",
    "    for detector in detectors:\n",
    "        detectors[detector].fit(np.array(data['100'][0][i]))\n",
    "        results_124[detector].append(detectors[detector].predict_proba(np.array(data['124'][0][i])))\n",
    "        results_192[detector].append(detectors[detector].predict_proba(np.array(data['192'][0][i])))\n",
    "        results_480[detector].append(detectors[detector].predict_proba(np.array(data['480'][0][i])))\n",
    "        \n",
    "        \n",
    "results = {x: [np.mean(results_124[x]), np.mean(results_192[x]), np.mean(results_480[x])] for x in detectors}"
   ]
  },
  {
   "cell_type": "markdown",
   "metadata": {},
   "source": [
    "# plot graphs"
   ]
  },
  {
   "cell_type": "code",
   "execution_count": null,
   "metadata": {},
   "outputs": [],
   "source": [
    "for result in results:\n",
    "    plt.plot(results[result])\n",
    "    plt.xticks(ticks=range(0,3), labels=['124 + 24h', '192 + 24h', '480 + 24h'], rotation=60)\n",
    "    plt.savefig('figures/by_dataset/twitter_bert_768_different_dist/{}.pdf'.format(result), format='pdf')\n",
    "    plt.show()\n",
    "    \n",
    "for result in results:\n",
    "    plt.plot(results[result])\n",
    "\n",
    "plt.xticks(ticks=range(0,3), labels=['124 + 24h', '192 + 24h', '480 + 24h'], rotation=60)\n",
    "plt.savefig('figures/by_dataset/twitter_bert_768_different_dist/{}.pdf'.format('all'), format='pdf')\n",
    "plt.show()"
   ]
  },
  {
   "cell_type": "code",
   "execution_count": null,
   "metadata": {},
   "outputs": [],
   "source": [
    "print(results)"
   ]
  },
  {
   "cell_type": "code",
   "execution_count": null,
   "metadata": {},
   "outputs": [],
   "source": []
  }
 ],
 "metadata": {
  "language_info": {
   "name": "python",
   "pygments_lexer": "ipython3"
  }
 },
 "nbformat": 4,
 "nbformat_minor": 4
}
