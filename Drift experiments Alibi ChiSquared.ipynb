{
 "cells": [
  {
   "cell_type": "markdown",
   "metadata": {},
   "source": [
    "# Alibi Detect / Chi-Squared\n",
    "\n",
    "Note: Slow computation, no result so far\n",
    "\n",
    "See: https://docs.seldon.io/projects/alibi-detect/en/stable/methods/chisquaredrift.html"
   ]
  },
  {
   "cell_type": "code",
   "execution_count": 2,
   "metadata": {},
   "outputs": [],
   "source": [
    "import pickle\n",
    "import matplotlib.pyplot as plt\n",
    "\n",
    "from detectors.AlibiChiSquaredDetector import AlibiChiSquaredDetector"
   ]
  },
  {
   "cell_type": "markdown",
   "metadata": {},
   "source": [
    "# load data"
   ]
  },
  {
   "cell_type": "code",
   "execution_count": 3,
   "metadata": {},
   "outputs": [],
   "source": [
    "# Robert\n",
    "file = 'data/movies/embeddings/amazon_small_gradual_drift.pickle'\n",
    "\n",
    "# EML4U Experiment server\n",
    "file = '../../data/amazon/amazon_small_gradual_drift.pickle'\n",
    "\n",
    "with open(file, 'rb') as handle:\n",
    "    gradual_dict = pickle.load(handle)"
   ]
  },
  {
   "cell_type": "code",
   "execution_count": 4,
   "metadata": {},
   "outputs": [
    {
     "name": "stdout",
     "output_type": "stream",
     "text": [
      "gradual_dict['drifted'][0]:  <class 'list'> 11\n",
      "gradual_dict['drifted'][0][0]:  <class 'numpy.ndarray'> 2500\n"
     ]
    }
   ],
   "source": [
    "print(\"gradual_dict['drifted'][0]: \", type(gradual_dict['drifted'][0]), len(gradual_dict['drifted'][0]))\n",
    "print(\"gradual_dict['drifted'][0][0]: \", type(gradual_dict['drifted'][0][0]), len(gradual_dict['drifted'][0][0]))"
   ]
  },
  {
   "cell_type": "markdown",
   "metadata": {},
   "source": [
    "# initiate detector"
   ]
  },
  {
   "cell_type": "code",
   "execution_count": 5,
   "metadata": {},
   "outputs": [
    {
     "data": {
      "text/plain": [
       "AlibiChiSquaredDetector()"
      ]
     },
     "execution_count": 5,
     "metadata": {},
     "output_type": "execute_result"
    }
   ],
   "source": [
    "detector = AlibiChiSquaredDetector()\n",
    "detector.fit(gradual_dict['orig'][0])"
   ]
  },
  {
   "cell_type": "markdown",
   "metadata": {},
   "source": [
    "# general tests"
   ]
  },
  {
   "cell_type": "code",
   "execution_count": null,
   "metadata": {},
   "outputs": [],
   "source": [
    "# Boolean values\n",
    "if(True):\n",
    "    p_s = []\n",
    "    for percentage in gradual_dict['drifted'][0]:\n",
    "        p_s.append(detector.predict(percentage))\n",
    "    print(p_s)\n",
    "\n",
    "# Float values\n",
    "if(True):\n",
    "    p_s = []\n",
    "    for percentage in gradual_dict['drifted'][0]:\n",
    "        p_s.append(detector.predict_proba(percentage))\n",
    "    print(p_s)"
   ]
  },
  {
   "cell_type": "markdown",
   "metadata": {},
   "source": [
    "# plotting results"
   ]
  },
  {
   "cell_type": "code",
   "execution_count": null,
   "metadata": {},
   "outputs": [],
   "source": [
    "plt.plot(p_s)"
   ]
  },
  {
   "cell_type": "code",
   "execution_count": null,
   "metadata": {},
   "outputs": [],
   "source": []
  }
 ],
 "metadata": {
  "kernelspec": {
   "display_name": "Python (EML4U)",
   "language": "python",
   "name": "eml4u"
  },
  "language_info": {
   "codemirror_mode": {
    "name": "ipython",
    "version": 3
   },
   "file_extension": ".py",
   "mimetype": "text/x-python",
   "name": "python",
   "nbconvert_exporter": "python",
   "pygments_lexer": "ipython3",
   "version": "3.8.5"
  }
 },
 "nbformat": 4,
 "nbformat_minor": 4
}

