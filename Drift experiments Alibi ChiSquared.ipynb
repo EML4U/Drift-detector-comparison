{
 "cells": [
  {
   "cell_type": "markdown",
   "metadata": {},
   "source": [
    "# Alibi Detect / Chi-Squared\n",
    "\n",
    "Note: Slow computation, no result so far\n",
    "\n",
    "See: https://docs.seldon.io/projects/alibi-detect/en/stable/methods/chisquaredrift.html"
   ]
  },
  {
   "cell_type": "code",
   "execution_count": null,
   "metadata": {},
   "outputs": [],
   "source": [
    "import pickle\n",
    "import matplotlib.pyplot as plt\n",
    "\n",
    "from detectors.AlibiChiSquaredDetector import AlibiChiSquaredDetector\n",
    "import numpy as np"
   ]
  },
  {
   "cell_type": "markdown",
   "metadata": {},
   "source": [
    "# load data"
   ]
  },
  {
   "cell_type": "code",
   "execution_count": null,
   "metadata": {},
   "outputs": [],
   "source": [
    "# Robert\n",
    "file = 'data/movies/embeddings/amazon_bert_finetuned_b.pickle'\n",
    "\n",
    "# EML4U Experiment server\n",
    "#file = '../../data/amazon/amazon_small_gradual_drift.pickle'\n",
    "\n",
    "with open(file, 'rb') as handle:\n",
    "    gradual_dict = pickle.load(handle)\n",
    "    \n",
    "target_percentages = [0, 0.005, 0.01, 0.02, 0.04, 0.1, 0.2, 0.4, 0.6, 0.8, 1.0, 2.0, 4.0, 10.0, 20.0, 50.0, 100.0]"
   ]
  },
  {
   "cell_type": "code",
   "execution_count": null,
   "metadata": {},
   "outputs": [],
   "source": [
    "print(\"gradual_dict['drifted'][0]: \", type(gradual_dict['drifted'][0]), len(gradual_dict['drifted'][0]))\n",
    "print(\"gradual_dict['drifted'][0][0]: \", type(gradual_dict['drifted'][0][0]), len(gradual_dict['drifted'][0][0]))"
   ]
  },
  {
   "cell_type": "markdown",
   "metadata": {},
   "source": [
    "# initiate detector"
   ]
  },
  {
   "cell_type": "code",
   "execution_count": null,
   "metadata": {},
   "outputs": [],
   "source": [
    "detector = AlibiChiSquaredDetector()\n",
    "detector.fit(gradual_dict['orig'][0])"
   ]
  },
  {
   "cell_type": "markdown",
   "metadata": {},
   "source": [
    "# general tests"
   ]
  },
  {
   "cell_type": "code",
   "execution_count": null,
   "metadata": {},
   "outputs": [],
   "source": [
    "# Boolean values\n",
    "if(True):\n",
    "    p_s = []\n",
    "    for percentage in gradual_dict['drifted'][0]:\n",
    "        p_s.append(detector.predict(percentage))\n",
    "    print(p_s)\n",
    "\n",
    "# Float values\n",
    "if(True):\n",
    "    p_s = []\n",
    "    for percentage in gradual_dict['drifted'][0]:\n",
    "        p_s.append(detector.predict_proba(percentage))\n",
    "    print(p_s)"
   ]
  },
  {
   "cell_type": "markdown",
   "metadata": {},
   "source": [
    "# plotting results"
   ]
  },
  {
   "cell_type": "code",
   "execution_count": null,
   "metadata": {},
   "outputs": [],
   "source": [
    "plt.plot(p_s)\n",
    "plt.xticks(ticks=np.arange(len(target_percentages)), labels=target_percentages, rotation=60)\n",
    "plt.savefig('figures/drift_detectors/alibi/chi2_finetuned_b.pdf', format='pdf')"
   ]
  },
  {
   "cell_type": "code",
   "execution_count": null,
   "metadata": {},
   "outputs": [],
   "source": []
  }
 ],
 "metadata": {
  "language_info": {
   "name": "python",
   "pygments_lexer": "ipython3"
  }
 },
 "nbformat": 4,
 "nbformat_minor": 4
}
