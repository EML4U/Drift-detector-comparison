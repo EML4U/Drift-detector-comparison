{
 "cells": [
  {
   "cell_type": "code",
   "execution_count": 1,
   "metadata": {},
   "outputs": [],
   "source": [
    "import pickle\n",
    "from matplotlib import pyplot as plt\n",
    "import random\n",
    "import datetime\n",
    "import numpy as np"
   ]
  },
  {
   "cell_type": "code",
   "execution_count": 3,
   "metadata": {},
   "outputs": [],
   "source": [
    "with open('../data/twitter/election_dataset_raw.pickle', 'rb') as handle:\n",
    "    twitter = pickle.load(handle)\n",
    "biden, trump = twitter['biden'], twitter['trump']"
   ]
  },
  {
   "cell_type": "code",
   "execution_count": 4,
   "metadata": {},
   "outputs": [],
   "source": [
    "\n",
    "def count_entries(dataset, timeframe='hours', log=False):\n",
    "    timefactor = 1 if timeframe == 'hours' else 24\n",
    "    counts = []\n",
    "    min_date = min([x[0] for x in dataset])\n",
    "    max_date = max([x[0] for x in dataset])\n",
    "    for each in range((max_date - min_date).days*(24 if timeframe == 'hours' else 1)):\n",
    "        d = min_date + datetime.timedelta(hours=each*timefactor)\n",
    "        l = len([x for x in dataset if x[0] > d and x[0] < d + datetime.timedelta(hours=timefactor)])\n",
    "        if log and l > 0:\n",
    "            counts.append(np.log(l))\n",
    "        else:\n",
    "            counts.append(l)\n",
    "    return counts"
   ]
  },
  {
   "cell_type": "code",
   "execution_count": null,
   "metadata": {},
   "outputs": [],
   "source": [
    "d_set = biden+trump\n",
    "d_counts = count_entries(d_set, timeframe='days')\n",
    "h_conts = count_entries(d_set)\n",
    "\n",
    "days = (max([x[0] for x in d_set]) - min([x[0] for x in d_set])).days\n",
    "hours = days*24\n",
    "l = [(min([x[0] for x in d_set]) + datetime.timedelta(days=y-1)).date() for y in range(days)]\n"
   ]
  },
  {
   "cell_type": "code",
   "execution_count": null,
   "metadata": {},
   "outputs": [],
   "source": [
    "fig=plt.figure(figsize=(8,4))\n",
    "ax=fig.add_subplot(111, label=\"1\")\n",
    "ax2=fig.add_subplot(111, label=\"2\", frame_on=False)\n",
    "\n",
    "\n",
    "plt.sca(ax)\n",
    "plt.plot(d_counts, color=\"C0\")\n",
    "plt.xticks(ticks=range(0, days)[::4], labels=l[::4], rotation=20)\n",
    "ax.set_ylabel(\"tweets per day\", color=\"C0\")\n",
    "ax.tick_params(axis='y', colors=\"C0\")\n",
    "\n",
    "plt.sca(ax2)\n",
    "plt.plot(h_conts, color=\"C3\")\n",
    "ax2.yaxis.tick_right()\n",
    "ax2.set_ylabel(\"tweets per hour\", color=\"C3\")\n",
    "ax2.tick_params(axis='y', colors=\"C3\")\n",
    "ax2.yaxis.set_label_position('right') \n",
    "plt.xticks([])#ticks=range(0, hours)[::4*25], labels=l[::4], rotation=20)\n",
    "plt.savefig('../data/twitter/tweet_counts.pdf', format='pdf')\n",
    "plt.show()\n"
   ]
  }
 ],
 "metadata": {
  "kernelspec": {
   "display_name": "Python 3",
   "language": "python",
   "name": "python3"
  },
  "language_info": {
   "codemirror_mode": {
    "name": "ipython",
    "version": 3
   },
   "file_extension": ".py",
   "mimetype": "text/x-python",
   "name": "python",
   "nbconvert_exporter": "python",
   "pygments_lexer": "ipython3",
   "version": "3.8.5"
  }
 },
 "nbformat": 4,
 "nbformat_minor": 4
}
