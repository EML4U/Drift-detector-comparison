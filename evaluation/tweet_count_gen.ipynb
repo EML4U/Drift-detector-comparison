{
 "cells": [
  {
   "cell_type": "code",
   "execution_count": null,
   "metadata": {},
   "outputs": [],
   "source": [
    "import pickle\n",
    "from matplotlib import pyplot as plt\n",
    "import random\n",
    "import datetime\n",
    "import numpy as np"
   ]
  },
  {
   "cell_type": "code",
   "execution_count": null,
   "metadata": {},
   "outputs": [],
   "source": [
    "with open('../data/twitter/election_dataset_raw.pickle', 'rb') as handle:\n",
    "    twitter = pickle.load(handle)\n",
    "biden, trump = twitter['biden'], twitter['trump']"
   ]
  },
  {
   "cell_type": "code",
   "execution_count": null,
   "metadata": {},
   "outputs": [],
   "source": [
    "\n",
    "def count_entries(dataset, timeframe='hours', log=False):\n",
    "    timefactor = 1 if timeframe == 'hours' else 24\n",
    "    counts = []\n",
    "    min_date = min([x[0] for x in dataset])\n",
    "    max_date = max([x[0] for x in dataset])\n",
    "    for each in range((max_date - min_date).days*(24 if timeframe == 'hours' else 1)):\n",
    "        d = min_date + datetime.timedelta(hours=each*timefactor)\n",
    "        l = len([x for x in dataset if x[0] > d and x[0] < d + datetime.timedelta(hours=timefactor)])\n",
    "        if log and l > 0:\n",
    "            counts.append(np.log(l))\n",
    "        else:\n",
    "            counts.append(l)\n",
    "    return counts"
   ]
  },
  {
   "cell_type": "code",
   "execution_count": null,
   "metadata": {},
   "outputs": [],
   "source": [
    "d_set = biden+trump\n",
    "d_counts = count_entries(d_set, timeframe='days')\n",
    "h_conts = count_entries(d_set)\n",
    "\n",
    "days = (max([x[0] for x in d_set]) - min([x[0] for x in d_set])).days\n",
    "hours = days*24\n",
    "l = [(min([x[0] for x in d_set]) + datetime.timedelta(days=y-1)).date() for y in range(days)]\n"
   ]
  },
  {
   "cell_type": "code",
   "execution_count": null,
   "metadata": {},
   "outputs": [],
   "source": [
    "fig=plt.figure(figsize=(8,4))\n",
    "ax=fig.add_subplot(111, label=\"1\")\n",
    "ax2=fig.add_subplot(111, label=\"2\", frame_on=False)\n",
    "\n",
    "\n",
    "plt.sca(ax)\n",
    "plt.plot(d_counts, color='tab:red', label=\"tweets per day\", linestyle='--', linewidth=2)\n",
    "plt.legend(loc=\"upper left\", fontsize=\"large\")\n",
    "plt.xticks(ticks=range(0, days)[::4], labels=l[::4])\n",
    "ax.set_ylabel(\"tweets per day\", color=\"tab:red\")\n",
    "ax.tick_params(axis='y', colors=\"tab:red\")\n",
    "ax.grid(color='#dddddd')\n",
    "#ax.set_xlim([-0.03, ylim_top])\n",
    "#ax.yaxis.set_tick_params(weight=\"bold\")\n",
    "#ax.xaxis.set_tick_params(labelsize=11)\n",
    "\n",
    "plt.sca(ax2)\n",
    "plt.plot(h_conts, color=\"tab:blue\", label=\"tweets per hour\")\n",
    "plt.legend(loc=\"upper center\", fontsize=\"large\")\n",
    "ax2.yaxis.tick_right()\n",
    "ax2.set_ylabel(\"tweets per hour\", color=\"tab:blue\")\n",
    "ax2.tick_params(axis='y', colors=\"tab:blue\")\n",
    "ax2.yaxis.set_label_position('right') \n",
    "plt.xticks([])#ticks=range(0, hours)[::4*25], labels=l[::4], rotation=20)\n",
    "\n",
    "fig.set_size_inches(10, 2.5)\n",
    "fig.tight_layout()\n",
    "plt.savefig('../data/twitter/tweet_counts.pdf', format='pdf')\n",
    "plt.show()\n"
   ]
  },
  {
   "cell_type": "code",
   "execution_count": null,
   "metadata": {},
   "outputs": [],
   "source": []
  },
  {
   "cell_type": "code",
   "execution_count": null,
   "metadata": {},
   "outputs": [],
   "source": []
  },
  {
   "cell_type": "code",
   "execution_count": null,
   "metadata": {},
   "outputs": [],
   "source": [
    "print(l[::4])"
   ]
  },
  {
   "cell_type": "code",
   "execution_count": null,
   "metadata": {},
   "outputs": [],
   "source": [
    "print(h_conts)"
   ]
  },
  {
   "cell_type": "code",
   "execution_count": null,
   "metadata": {},
   "outputs": [],
   "source": [
    "print(d_counts)"
   ]
  },
  {
   "cell_type": "code",
   "execution_count": null,
   "metadata": {},
   "outputs": [],
   "source": []
  },
  {
   "cell_type": "code",
   "execution_count": null,
   "metadata": {},
   "outputs": [],
   "source": []
  },
  {
   "cell_type": "code",
   "execution_count": null,
   "metadata": {},
   "outputs": [],
   "source": []
  }
 ],
 "metadata": {
  "language_info": {
   "name": "python",
   "pygments_lexer": "ipython3"
  }
 },
 "nbformat": 4,
 "nbformat_minor": 4
}
