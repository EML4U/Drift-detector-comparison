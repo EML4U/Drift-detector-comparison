{
 "cells": [
  {
   "cell_type": "markdown",
   "metadata": {},
   "source": [
    "# Plots\n",
    "\n",
    "This note book consists of\n",
    "- functions which should used in every plot to ensure the same style in every plot (good for readers)\n",
    "- two cells for every experiment file\n",
    "    - first cell sets/resets data according to experiments files\n",
    "    - second cell reads data and crates plots"
   ]
  },
  {
   "cell_type": "code",
   "execution_count": 1,
   "metadata": {},
   "outputs": [],
   "source": [
    "from os import listdir\n",
    "from os.path import isfile, join\n",
    "import pickle\n",
    "import numpy as np\n",
    "import matplotlib.pyplot as plt\n",
    "from matplotlib.ticker import AutoMinorLocator\n",
    "import pprint\n",
    "import os"
   ]
  },
  {
   "cell_type": "markdown",
   "metadata": {},
   "source": [
    "### config"
   ]
  },
  {
   "cell_type": "code",
   "execution_count": 2,
   "metadata": {},
   "outputs": [],
   "source": [
    "results_directory = \"../data/results/\""
   ]
  },
  {
   "cell_type": "markdown",
   "metadata": {},
   "source": [
    "### load data\n",
    "load all result files, individual data will be selected later"
   ]
  },
  {
   "cell_type": "code",
   "execution_count": 3,
   "metadata": {},
   "outputs": [
    {
     "name": "stdout",
     "output_type": "stream",
     "text": [
      "twitter_diff_dist   ../data/results/twitter_diff_dist.pickle   <class 'tuple'>   3\n",
      "twitter_drift_induction   ../data/results/twitter_drift_induction.pickle   <class 'dict'>   3\n",
      "amazon_diff_classes   ../data/results/amazon_diff_classes.pickle   <class 'dict'>   3\n",
      "amazon_same_dist   ../data/results/amazon_same_dist.pickle   <class 'dict'>   3\n",
      "twitter_same_dist   ../data/results/twitter_same_dist.pickle   <class 'dict'>   3\n",
      "twitter_diff_classes   ../data/results/twitter_diff_classes.pickle   <class 'dict'>   3\n",
      "amazon_drift_induction   ../data/results/amazon_drift_induction.pickle   <class 'dict'>   3\n"
     ]
    }
   ],
   "source": [
    "results_meta = {}\n",
    "\n",
    "# get files and ids\n",
    "for name in listdir(results_directory):\n",
    "    path = join(results_directory, name)\n",
    "    if isfile(path):\n",
    "        id = name[:-7]\n",
    "        results_meta[id] = {\"result_pickle\":path}\n",
    "\n",
    "# add data\n",
    "for key in results_meta:\n",
    "    with open(results_meta[key][\"result_pickle\"], 'rb') as handle:\n",
    "        results_meta[key][\"data\"] = pickle.load(handle)\n",
    "\n",
    "# print info\n",
    "for key in results_meta: \n",
    "    print(\n",
    "        key, \" \",\n",
    "        results_meta[key][\"result_pickle\"], \" \",\n",
    "        type(results_meta[key][\"data\"]), \" \",\n",
    "        len(results_meta[key][\"data\"])\n",
    "    )  "
   ]
  },
  {
   "cell_type": "markdown",
   "metadata": {},
   "source": [
    "### plot functions\n",
    "functions to ensure same layout in every plot"
   ]
  },
  {
   "cell_type": "code",
   "execution_count": 46,
   "metadata": {},
   "outputs": [],
   "source": [
    "def get_label(detector_name):\n",
    "    mappings = {\n",
    "        \"cdbd\" : \"CDBD\",\n",
    "        \"csdd\" : \"Cosine Similarity\",\n",
    "        \"kts\" : \"KTS/MMD\", # \"Kernel Two Sample\",\n",
    "        \"aks\" : \"KS\",\n",
    "        \"lsdd\" : \"LSDD\",\n",
    "        \"ammd\" : \"MMD\",\n",
    "    }\n",
    "    if(detector_name in mappings):\n",
    "        return mappings[detector_name]\n",
    "    else:\n",
    "        print(\"Unknown detector label:\", detector_name)\n",
    "        return detector_name\n",
    "\n",
    "\n",
    "def get_plot_config(detector_label, config={}):\n",
    "    # detector_label: See get_label(detector_name)\n",
    "    # config:         See https://matplotlib.org/stable/api/_as_gen/matplotlib.axes.Axes.plot.html\n",
    "    \n",
    "    # Often similar: Kernel Two Sample, LSDD, MMD\n",
    "    # https://matplotlib.org/stable/tutorials/colors/colors.html\n",
    "    # 'tab:blue''tab:orange''tab:green''tab:red''tab:purple''tab:brown''tab:pink''tab:gray''tab:olive''tab:cyan'\n",
    "    # '-' or 'solid' / '--' or 'dashed' / '-.' or 'dashdot' / ':' or 'dotted'\n",
    "    linewidth = 1.6 #1.2\n",
    "    linewidth_thicker = 2 #1.6\n",
    "    linewidth_thick = 2.4 #2\n",
    "    if(detector_label == \"CDBD\"):\n",
    "        config.update(color='tab:green',  linestyle='-.',  linewidth=linewidth_thicker)  # formerly color='tab:green',  linestyle='-',  linewidth=linewidth\n",
    "    elif(detector_label == \"Cosine Similarity\"):\n",
    "        config.update(color='tab:gray',   linestyle=':',  linewidth=linewidth_thick)\n",
    "    elif(detector_label == \"KTS/MMD\"): # CLOSE ONE  # formerly \"Kernel Two Sample\"\n",
    "        config.update(color='tab:orange',    linestyle='-',  linewidth=linewidth_thicker)  # formerly color='tab:red',    linestyle='-',  linewidth=linewidth_thicker\n",
    "    elif(detector_label == \"KS\"):\n",
    "        config.update(color='tab:purple', linestyle='--', linewidth=linewidth)\n",
    "    elif(detector_label == \"LSDD\"): # CLOSE ONE\n",
    "        config.update(color='tab:blue', linestyle=':', linewidth=linewidth_thick)  # formerly color='tab:orange', linestyle='-.', linewidth=linewidth_thicker\n",
    "    elif(detector_label == \"MMD\"): # CLOSE ONE\n",
    "        config.update(color='tab:blue',   linestyle='--', linewidth=linewidth_thicker)\n",
    "    else: # Not used in default cases\n",
    "        config.update(color='tab:olive',  linestyle='-',  linewidth=linewidth)\n",
    "    return config\n",
    "\n",
    "\n",
    "def plot_diff_dist(plot_data, legend_loc=\"upper center\", ylim_top=1.03, pdf_filename=None, ylabel=True):\n",
    "    \n",
    "    # sort by label for legend\n",
    "    labels_to_detectors = {}\n",
    "    for detector in plot_data:\n",
    "        labels_to_detectors[get_label(detector)] = detector\n",
    "\n",
    "    # add lines\n",
    "    fig, ax = plt.subplots()\n",
    "    for label in sorted(labels_to_detectors):\n",
    "        detector = labels_to_detectors[label]\n",
    "        ax.plot(plot_data[detector], label=label, **get_plot_config(label, {}))\n",
    "\n",
    "    # plot config\n",
    "    ax.grid(color='#dddddd')\n",
    "    ax.set_ylim([-0.03, ylim_top])\n",
    "    if ylabel:\n",
    "        plt.ylabel('p-value', fontsize=\"large\")\n",
    "    else:\n",
    "        plt.ylabel(' ', fontsize=\"large\")\n",
    "    #plt.xlabel('x axis', fontsize=\"xx-large\")\n",
    "    #plt.xticks(ticks=range(0,3), labels=['124 + 24h', '192 + 24h', '480 + 24h'])\n",
    "    #plt.xticks(ticks=range(0,3), labels=[r'$t_2$', r'$t_{debate}$', r'$t_{election}$'], fontsize=\"large\")\n",
    "    #plt.xticks(ticks=range(0,3), labels=['t$_\\mathrm{\\,2}$', 't$_\\mathrm{\\,debate}$', 't$_\\mathrm{\\,election}$'])\n",
    "    plt.xticks(ticks=range(0,3), labels=['t$_\\mathrm{\\,2}$', 't$_\\mathrm{\\ d\\,e\\,b\\,a\\,t\\,e}$', 't$_\\mathrm{\\ e\\,l\\,e\\,c\\,t\\,i\\,o\\,n}$'], fontsize=\"large\")\n",
    "\n",
    "    \n",
    "    #plt.xlabel('Primary T$_{eff}$')\n",
    "    #            Primary T$_\\mathrm{eff}$' \n",
    "    \n",
    "    fig.set_size_inches(3, 2)\n",
    "    plt.legend(loc=legend_loc)\n",
    "\n",
    "    # save\n",
    "    if pdf_filename is not None:\n",
    "        fig.tight_layout()\n",
    "        print(\"Saving\", pdf_filename)\n",
    "        fig.savefig(pdf_filename, format='pdf')\n",
    "\n",
    "    plt.show()"
   ]
  },
  {
   "cell_type": "markdown",
   "metadata": {},
   "source": [
    "# twitter_diff_dist"
   ]
  },
  {
   "cell_type": "code",
   "execution_count": 47,
   "metadata": {},
   "outputs": [],
   "source": [
    "# set config from notebook\n",
    "modes = ['bert_768', 'bow_50', 'bow_768']\n",
    "detectors = {\n",
    "    'csdd': \"\",\n",
    "    'kts' : \"\",\n",
    "    'aks' : \"\",\n",
    "    'ammd': \"\",\n",
    "    'lsdd': \"\",\n",
    "    'cdbd': \"\",\n",
    "}\n",
    "result_pickle = results_meta[\"twitter_diff_dist\"][\"result_pickle\"]\n",
    "try:\n",
    "    del results\n",
    "except NameError:\n",
    "    pass"
   ]
  },
  {
   "cell_type": "code",
   "execution_count": 48,
   "metadata": {},
   "outputs": [
    {
     "name": "stdout",
     "output_type": "stream",
     "text": [
      "Loading result pickle:  ../data/results/twitter_diff_dist.pickle\n",
      "bert_768\n",
      "Saving ../figures/by_dataset/twitter_bert_768_diff_dist_all.pdf\n"
     ]
    },
    {
     "data": {
      "image/png": "[encoded data removed]",
      "text/plain": [
       "<Figure size 216x144 with 1 Axes>"
      ]
     },
     "metadata": {
      "needs_background": "light"
     },
     "output_type": "display_data"
    },
    {
     "name": "stdout",
     "output_type": "stream",
     "text": [
      "bow_50\n",
      "Saving ../figures/by_dataset/twitter_bow_50_diff_dist_all.pdf\n"
     ]
    },
    {
     "data": {
      "image/png": "[encoded data removed]",
      "text/plain": [
       "<Figure size 216x144 with 1 Axes>"
      ]
     },
     "metadata": {
      "needs_background": "light"
     },
     "output_type": "display_data"
    },
    {
     "name": "stdout",
     "output_type": "stream",
     "text": [
      "bow_768\n",
      "Saving ../figures/by_dataset/twitter_bow_768_diff_dist_all.pdf\n"
     ]
    },
    {
     "data": {
      "image/png": "[encoded data removed]",
      "text/plain": [
       "<Figure size 216x144 with 1 Axes>"
      ]
     },
     "metadata": {
      "needs_background": "light"
     },
     "output_type": "display_data"
    }
   ],
   "source": [
    "# load results if not existing\n",
    "try:\n",
    "    results\n",
    "except NameError:\n",
    "    print('Loading result pickle: ', result_pickle)\n",
    "    with open(result_pickle, 'rb') as handle:\n",
    "        (results_124, results_192, results_480) = pickle.load(handle)\n",
    "\n",
    "# plot\n",
    "data = {}\n",
    "for mode in modes:\n",
    "    print(mode)\n",
    "    data[mode] = {}\n",
    "    for detector in detectors:\n",
    "        \n",
    "        if(detector == \"csdd\" or detector == \"ammd\"): # Remove CosSim and MMD\n",
    "            continue\n",
    "        if(detector == \"cdbd\"): # Remove cdbd\n",
    "            continue\n",
    "            \n",
    "        data[mode][detector] = [np.mean(r[mode][detector]['predictions']) for r in (results_124, results_192, results_480)]\n",
    "\n",
    "    if(mode == \"bow_50\"):\n",
    "        plot_diff_dist(data[mode], pdf_filename=\"../figures/by_dataset/twitter_\" + mode + \"_diff_dist_all.pdf\", ylim_top=0.5, legend_loc=\"upper right\",  ylabel=True)\n",
    "    else:\n",
    "        plot_diff_dist(data[mode], pdf_filename=\"../figures/by_dataset/twitter_\" + mode + \"_diff_dist_all.pdf\", ylim_top=0.5, legend_loc=\"upper right\",  ylabel=False)"
   ]
  },
  {
   "cell_type": "code",
   "execution_count": null,
   "metadata": {},
   "outputs": [],
   "source": []
  }
 ],
 "metadata": {
  "kernelspec": {
   "display_name": "Python (EML4U)",
   "language": "python",
   "name": "eml4u"
  },
  "language_info": {
   "codemirror_mode": {
    "name": "ipython",
    "version": 3
   },
   "file_extension": ".py",
   "mimetype": "text/x-python",
   "name": "python",
   "nbconvert_exporter": "python",
   "pygments_lexer": "ipython3",
   "version": "3.8.5"
  }
 },
 "nbformat": 4,
 "nbformat_minor": 4
}

