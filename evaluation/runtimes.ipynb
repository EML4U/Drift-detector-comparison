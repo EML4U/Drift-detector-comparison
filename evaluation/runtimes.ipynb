{
 "cells": [
  {
   "cell_type": "markdown",
   "metadata": {},
   "source": [
    "# Runtimes"
   ]
  },
  {
   "cell_type": "code",
   "execution_count": 1,
   "metadata": {},
   "outputs": [],
   "source": [
    "from pprint import pprint\n",
    "import numpy as np"
   ]
  },
  {
   "cell_type": "markdown",
   "metadata": {},
   "source": [
    "## Load results"
   ]
  },
  {
   "cell_type": "code",
   "execution_count": 2,
   "metadata": {},
   "outputs": [
    {
     "name": "stdout",
     "output_type": "stream",
     "text": [
      "amazon_diff_classes       ../data/results/amazon_diff_classes.pickle         <class 'dict'> 3\n",
      "amazon_drift_induction    ../data/results/amazon_drift_induction.pickle      <class 'dict'> 3\n",
      "amazon_same_dist          ../data/results/amazon_same_dist.pickle            <class 'dict'> 3\n",
      "twitter_diff_classes      ../data/results/twitter_diff_classes.pickle        <class 'dict'> 3\n",
      "twitter_drift_induction   ../data/results/twitter_drift_induction.pickle     <class 'dict'> 3\n",
      "twitter_same_dist         ../data/results/twitter_same_dist.pickle           <class 'dict'> 3\n",
      "twitter_diff_dist_124     ../data/results/twitter_same_dist.pickle           <class 'dict'> 3\n",
      "twitter_diff_dist_192     ../data/results/twitter_same_dist.pickle           <class 'dict'> 3\n",
      "twitter_diff_dist_480     ../data/results/twitter_same_dist.pickle           <class 'dict'> 3\n"
     ]
    }
   ],
   "source": [
    "from results_reader import (read_results, print_results, get_result_ids)\n",
    "\n",
    "results_directory = \"../data/results/\"\n",
    "\n",
    "results = read_results(results_directory, print_info=True)"
   ]
  },
  {
   "cell_type": "markdown",
   "metadata": {},
   "source": [
    "## Print overview"
   ]
  },
  {
   "cell_type": "code",
   "execution_count": 3,
   "metadata": {},
   "outputs": [],
   "source": [
    "if False: # Everything\n",
    "    print_results(results)\n",
    "if False: # Every runtime\n",
    "    print_results(results, ids=[], modes=[], detectors=[], keys=[\"time_detect\", \"time_fit\"])\n",
    "if False: # Fit runtime -> float or none\n",
    "    print_results(results, ids=[], modes=[], detectors=[], keys=[\"time_fit\"])\n",
    "if False:  # Detect runtime -> list or dict or none\n",
    "    print_results(results, ids=[], modes=[], detectors=[], keys=[\"time_detect\"])"
   ]
  },
  {
   "cell_type": "markdown",
   "metadata": {},
   "source": [
    "## Filter and collect data"
   ]
  },
  {
   "cell_type": "code",
   "execution_count": 4,
   "metadata": {},
   "outputs": [],
   "source": [
    "def filter_data(results, ids=[], modes=[], detectors=[], keys=[]):\n",
    "    \n",
    "    # Do not overwrite in iterations\n",
    "    if(len(keys) != 1):\n",
    "        print(\"Implemented for only 1 key\")\n",
    "        return\n",
    "\n",
    "    # Create structure based on detectors\n",
    "    results_ = {}\n",
    "    for id_ in ids if ids else results:\n",
    "        data = results[id_][\"data\"]\n",
    "        for mode in modes if modes else data:\n",
    "            for detector in detectors if detectors else data[mode]:\n",
    "                if not detector in results_:\n",
    "                    results_[detector] = {}\n",
    "                if not id_ in results_[detector]:\n",
    "                    results_[detector][id_] = {}\n",
    "                if not mode in results_[detector][id_]:\n",
    "                    results_[detector][id_][mode] = {}\n",
    "                if not \"sum\" in results_[detector]:\n",
    "                    results_[detector][\"sum\"] = 0\n",
    "\n",
    "    # Collect data\n",
    "    for id_ in ids if ids else results:\n",
    "        data = results[id_][\"data\"]\n",
    "        for mode in modes if modes else data:\n",
    "            for detector in detectors if detectors else data[mode]:\n",
    "                for key in keys if keys else data[mode][detector]:\n",
    "                    if(key in data[mode][detector] and data[mode][detector][key]):\n",
    "                        \n",
    "                        if(isinstance(data[mode][detector][key], list)):\n",
    "                            results_[detector][id_][mode] = np.sum(data[mode][detector][key])\n",
    "                            results_[detector][\"sum\"]    += np.sum(data[mode][detector][key])\n",
    "                        \n",
    "                        elif(isinstance(data[mode][detector][key], dict)):\n",
    "                            s = 0\n",
    "                            for k in data[mode][detector][key]:\n",
    "                                s += np.sum(data[mode][detector][key][k])\n",
    "                            results_[detector][id_][mode] = s\n",
    "                            results_[detector][\"sum\"]    += s\n",
    " \n",
    "                        else:\n",
    "                            results_[detector][id_][mode] = data[mode][detector][key]\n",
    "                            results_[detector][\"sum\"]    += data[mode][detector][key]\n",
    "    return results_\n",
    "\n",
    "fit_times = filter_data(results, keys=[\"time_fit\"])\n",
    "det_times = filter_data(results, keys=[\"time_detect\"])\n",
    "\n",
    "if(False):\n",
    "    pprint(fit_times)\n",
    "if(False):\n",
    "    pprint(det_times)"
   ]
  },
  {
   "cell_type": "markdown",
   "metadata": {},
   "source": [
    "## Detectors and labels"
   ]
  },
  {
   "cell_type": "code",
   "execution_count": 5,
   "metadata": {},
   "outputs": [
    {
     "name": "stdout",
     "output_type": "stream",
     "text": [
      "['aks', 'ammd', 'cdbd', 'csdd', 'kts', 'lsdd']\n"
     ]
    }
   ],
   "source": [
    "def get_label(detector_name):\n",
    "    mappings = {\n",
    "        \"cdbd\" : \"CDBD\",\n",
    "        \"csdd\" : \"Cosine Similarity\",\n",
    "        \"kts\" : \"KTS/MMD\", # \"Kernel Two Sample\",\n",
    "        \"aks\" : \"KS\",\n",
    "        \"lsdd\" : \"LSDD\",\n",
    "        \"ammd\" : \"MMD\",\n",
    "    }\n",
    "    if(detector_name in mappings):\n",
    "        return mappings[detector_name]\n",
    "    else:\n",
    "        print(\"Unknown detector label:\", detector_name)\n",
    "        return detector_name\n",
    "    \n",
    "ids, modes, detectors, keys = get_result_ids(results)\n",
    "if(False):\n",
    "    print(ids)\n",
    "    print(modes)\n",
    "    print(keys)\n",
    "print(detectors)\n",
    "\n",
    "labels_to_detectors = {}\n",
    "for detector in detectors:\n",
    "    labels_to_detectors[get_label(detector)] = detector"
   ]
  },
  {
   "cell_type": "markdown",
   "metadata": {},
   "source": [
    "## Print"
   ]
  },
  {
   "cell_type": "code",
   "execution_count": 6,
   "metadata": {},
   "outputs": [
    {
     "name": "stdout",
     "output_type": "stream",
     "text": [
      "In min  In hours  Detector\n",
      "   8.2     0.14   CDBD\n",
      "   0.8     0.01   Cosine Similarity (excluded from overall)\n",
      "   4.5     0.08   KS\n",
      "3490.9    58.18   KTS/MMD\n",
      "   0.4     0.01   LSDD\n",
      "  87.5     1.46   MMD (excluded from overall)\n",
      "\n",
      "Overall (in minutes): 3504.0\n",
      "Overall (in hours):     58.4\n"
     ]
    }
   ],
   "source": [
    "def f(value):\n",
    "    value = np.round(value, 1)\n",
    "    #value = format(value, '.2f')\n",
    "    value = str(value).rjust(6)\n",
    "    return value\n",
    "def fh(value):\n",
    "    value = np.round(value, 2)\n",
    "    #value = format(value, '.4f')\n",
    "    value = str(value).rjust(6)\n",
    "    return value\n",
    "\n",
    "overall = 0\n",
    "overallHours = 0\n",
    "\n",
    "print(\"In min  In hours  Detector\", sep=\"   \")\n",
    "\n",
    "for label in sorted(labels_to_detectors):\n",
    "    detector = labels_to_detectors[label]\n",
    "    \n",
    "    minutes = (fit_times[detector][\"sum\"] + det_times[detector][\"sum\"]) / 60\n",
    "    hours   = (fit_times[detector][\"sum\"] + det_times[detector][\"sum\"]) / 60 / 60\n",
    "    \n",
    "    if(detector == \"ammd\" or detector == \"csdd\"):\n",
    "        print(f(minutes), fh(hours), get_label(detector) + \" (excluded from overall)\", sep=\"   \")\n",
    "\n",
    "    else:\n",
    "        print(f(minutes), fh(hours), get_label(detector), sep=\"   \")\n",
    "        overall += minutes\n",
    "        overallHours += hours\n",
    "        \n",
    "print()\n",
    "print(\"Overall (in minutes):\", f(overall))\n",
    "print(\"Overall (in hours):  \", fh(overallHours))"
   ]
  },
  {
   "cell_type": "code",
   "execution_count": null,
   "metadata": {},
   "outputs": [],
   "source": []
  }
 ],
 "metadata": {
  "kernelspec": {
   "display_name": "Python (project)",
   "language": "python",
   "name": "project"
  },
  "language_info": {
   "codemirror_mode": {
    "name": "ipython",
    "version": 3
   },
   "file_extension": ".py",
   "mimetype": "text/x-python",
   "name": "python",
   "nbconvert_exporter": "python",
   "pygments_lexer": "ipython3",
   "version": "3.8.5"
  }
 },
 "nbformat": 4,
 "nbformat_minor": 4
}

