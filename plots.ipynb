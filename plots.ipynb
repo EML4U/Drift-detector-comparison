{
 "cells": [
  {
   "cell_type": "markdown",
   "metadata": {},
   "source": [
    "# Figures twitter_diff_dist.pickle"
   ]
  },
  {
   "cell_type": "code",
   "execution_count": 1,
   "metadata": {},
   "outputs": [],
   "source": [
    "import pickle\n",
    "import numpy as np\n",
    "import matplotlib.pyplot as plt\n",
    "import pprint"
   ]
  },
  {
   "cell_type": "markdown",
   "metadata": {},
   "source": [
    "### load data"
   ]
  },
  {
   "cell_type": "code",
   "execution_count": 2,
   "metadata": {},
   "outputs": [],
   "source": [
    "result_pickle = 'data/results/twitter_diff_dist.pickle'\n",
    "with open(result_pickle, 'rb') as handle:\n",
    "    (results_124, results_192, results_480) = pickle.load(handle)"
   ]
  },
  {
   "cell_type": "markdown",
   "metadata": {},
   "source": [
    "### config"
   ]
  },
  {
   "cell_type": "code",
   "execution_count": 3,
   "metadata": {},
   "outputs": [],
   "source": [
    "print_raw_data  = False\n",
    "print_plot_data = False\n",
    "\n",
    "show_plots = False\n",
    "save_plots = False  # show_plots has also to be True\n",
    "\n",
    "modes = ['bert_768', 'bow_50', 'bow_768']\n",
    "\n",
    "detectors = {\n",
    "    #'csdd': \"CosineSimilarity\",\n",
    "    'kts' : \"KernelTwoSample\",\n",
    "    'aks' : \"KS\",\n",
    "    'ammd': \"MMD\"\n",
    "}\n",
    "\n",
    "linewidth = 1.5"
   ]
  },
  {
   "cell_type": "markdown",
   "metadata": {},
   "source": [
    "### print data"
   ]
  },
  {
   "cell_type": "code",
   "execution_count": 4,
   "metadata": {},
   "outputs": [],
   "source": [
    "if(print_raw_data):\n",
    "    pprint.pprint(results_124)\n",
    "    pprint.pprint(results_192)\n",
    "    pprint.pprint(results_480)"
   ]
  },
  {
   "cell_type": "markdown",
   "metadata": {},
   "source": [
    "### extract data"
   ]
  },
  {
   "cell_type": "code",
   "execution_count": 5,
   "metadata": {},
   "outputs": [],
   "source": [
    "if(print_plot_data):\n",
    "    print (\"data like used in twitter_different_dist.ipynb\")\n",
    "    for mode in modes:\n",
    "        for detector in detectors:\n",
    "            res = [np.mean(r[mode][detector]['predictions']) for r in (results_124, results_192, results_480)]\n",
    "            print(res)\n",
    "        \n",
    "data = {}\n",
    "for mode in modes:\n",
    "    data[mode] = {}\n",
    "    for detector in detectors:\n",
    "        data[mode][detectors[detector]] = [np.mean(r[mode][detector]['predictions']) for r in (results_124, results_192, results_480)]\n",
    "        \n",
    "if(print_plot_data):\n",
    "    pprint.pprint(data)        "
   ]
  },
  {
   "cell_type": "markdown",
   "metadata": {},
   "source": [
    "### plot data "
   ]
  },
  {
   "cell_type": "code",
   "execution_count": 6,
   "metadata": {},
   "outputs": [],
   "source": [
    "def plot(mode, max_pvalue):\n",
    "    fig, ax = plt.subplots()\n",
    "\n",
    "    ax.plot(data[mode][\"KS\"],              '-.', label='KS',              linewidth=linewidth, color='tab:green')\n",
    "    ax.plot(data[mode][\"KernelTwoSample\"], '-',  label='KernelTwoSample', linewidth=linewidth, color='tab:purple')\n",
    "    ax.plot(data[mode][\"MMD\"],             '--', label='MMD',             linewidth=linewidth, color='tab:blue')\n",
    "\n",
    "    plt.xticks(ticks=range(0,3), labels=['124 + 24h', '192 + 24h', '480 + 24h'])\n",
    "    plt.legend(loc='upper right')\n",
    "    ax.set(ylabel='p-value')\n",
    "    #ax.set(title='')\n",
    "    ax.grid(color='#dddddd')\n",
    "    ax.set_ylim([-0.025, max_pvalue])\n",
    "\n",
    "    fig.tight_layout()\n",
    "    \n",
    "    print(mode)\n",
    "    if(save_plots):\n",
    "        filename = 'figures/by_dataset/twitter_' + mode + '_diff_dist_all.pdf'\n",
    "        fig.savefig(filename, format='pdf')\n",
    "        print(filename)\n",
    "        plt.show()"
   ]
  },
  {
   "cell_type": "code",
   "execution_count": 7,
   "metadata": {},
   "outputs": [],
   "source": [
    "if(show_plots):\n",
    "    for mode in modes:\n",
    "        plot(mode, 0.5)"
   ]
  },
  {
   "cell_type": "markdown",
   "metadata": {},
   "source": [
    "### plots previous version"
   ]
  },
  {
   "cell_type": "code",
   "execution_count": 8,
   "metadata": {},
   "outputs": [],
   "source": [
    "if(show_plots):\n",
    "    for mode in modes:\n",
    "        for detector in detectors:\n",
    "            res = [np.mean(r[mode][detector]['predictions']) for r in (results_124, results_192, results_480)]\n",
    "            plt.plot(res)\n",
    "        plt.xticks(ticks=range(0,3), labels=['124 + 24h', '192 + 24h', '480 + 24h'], rotation=60)\n",
    "        plt.show()"
   ]
  },
  {
   "cell_type": "code",
   "execution_count": null,
   "metadata": {},
   "outputs": [],
   "source": []
  }
 ],
 "metadata": {
  "kernelspec": {
   "display_name": "Python (EML4U)",
   "language": "python",
   "name": "eml4u"
  },
  "language_info": {
   "codemirror_mode": {
    "name": "ipython",
    "version": 3
   },
   "file_extension": ".py",
   "mimetype": "text/x-python",
   "name": "python",
   "nbconvert_exporter": "python",
   "pygments_lexer": "ipython3",
   "version": "3.8.5"
  }
 },
 "nbformat": 4,
 "nbformat_minor": 4
}

