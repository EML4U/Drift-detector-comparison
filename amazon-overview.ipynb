{
 "cells": [
  {
   "cell_type": "code",
   "execution_count": 1,
   "metadata": {},
   "outputs": [],
   "source": [
    "from datetime import datetime\n",
    "import pickle\n",
    "\n",
    "# https://snap.stanford.edu/data/web-Movies.html\n",
    "file=\"../../data/amazon/movies.txt\"\n",
    "file_counter=\"../../data/amazon/counted-year.pkl\"\n",
    "file_image=\"../../data/amazon/counted-year.svg\""
   ]
  },
  {
   "cell_type": "code",
   "execution_count": 2,
   "metadata": {},
   "outputs": [],
   "source": [
    "# https://stackoverflow.com/a/19201448\n",
    "def save_counter(obj):\n",
    "    with open(file_counter, 'wb') as f:\n",
    "        pickle.dump(obj, f, pickle.HIGHEST_PROTOCOL)\n",
    "\n",
    "def load_counter():\n",
    "    with open(file_counter, 'rb') as f:\n",
    "        return pickle.load(f)"
   ]
  },
  {
   "cell_type": "code",
   "execution_count": 3,
   "metadata": {},
   "outputs": [],
   "source": [
    "# months\n",
    "if(False):\n",
    "    i=0\n",
    "    stop=-100\n",
    "    counter = {}\n",
    "    with open(file, 'r', errors='ignore') as f:\n",
    "        for line in f:\n",
    "            #print(line)\n",
    "            identifier = line.split(':')[0]\n",
    "            if 'review/score' in identifier:\n",
    "                score = line.split(':')[1].strip()\n",
    "                #print(score)\n",
    "            elif 'review/time' in identifier:\n",
    "                time=str(datetime.fromtimestamp(int(line.split(':')[1].strip())))[0:7]\n",
    "                #print(time)\n",
    "            elif 'review/summary' in identifier:\n",
    "                if not time in counter:\n",
    "                    counter[time] = {}\n",
    "                if not score in counter[time]:\n",
    "                    counter[time][score] = 1\n",
    "                else:\n",
    "                    counter[time][score] += 1\n",
    "\n",
    "\n",
    "                #if not time in counter:\n",
    "                #    counter[time] = 1\n",
    "                #else:\n",
    "                #    counter[time] += 1\n",
    "            # dev\n",
    "            i=i+1\n",
    "            if(i==stop):\n",
    "                break\n",
    "\n",
    "    save_counter(counter)\n",
    "\n",
    "# years\n",
    "if(False):\n",
    "    i=0\n",
    "    stop=-100\n",
    "    counter = {}\n",
    "    with open(file, 'r', errors='ignore') as f:\n",
    "        for line in f:\n",
    "            #print(line)\n",
    "            identifier = line.split(':')[0]\n",
    "            if 'review/score' in identifier:\n",
    "                score = line.split(':')[1].strip()\n",
    "                #print(score)\n",
    "            elif 'review/time' in identifier:\n",
    "                time=str(datetime.fromtimestamp(int(line.split(':')[1].strip())))[0:4]\n",
    "                #print(time)\n",
    "            elif 'review/summary' in identifier:\n",
    "                if not time in counter:\n",
    "                    counter[time] = {}\n",
    "                if not score in counter[time]:\n",
    "                    counter[time][score] = 1\n",
    "                else:\n",
    "                    counter[time][score] += 1\n",
    "\n",
    "\n",
    "                #if not time in counter:\n",
    "                #    counter[time] = 1\n",
    "                #else:\n",
    "                #    counter[time] += 1\n",
    "            # dev\n",
    "            i=i+1\n",
    "            if(i==stop):\n",
    "                break\n",
    "\n",
    "    save_counter(counter)"
   ]
  },
  {
   "cell_type": "code",
   "execution_count": 4,
   "metadata": {},
   "outputs": [
    {
     "name": "stdout",
     "output_type": "stream",
     "text": [
      "{'2007': {'3.0': 75239, '5.0': 452009, '4.0': 167632, '1.0': 49521, '2.0': 40205}, '2006': {'5.0': 311252, '1.0': 49049, '4.0': 135581, '2.0': 37992, '3.0': 66128}, '2008': {'2.0': 40138, '5.0': 412870, '3.0': 74057, '4.0': 161693, '1.0': 56076}, '2003': {'5.0': 205916, '4.0': 90527, '3.0': 43323, '1.0': 25734, '2.0': 24183}, '2002': {'5.0': 198712, '4.0': 84276, '3.0': 37798, '1.0': 25311, '2.0': 22641}, '2004': {'5.0': 257603, '4.0': 119160, '2.0': 33117, '1.0': 41016, '3.0': 60489}, '2000': {'5.0': 192002, '4.0': 73314, '1.0': 19944, '2.0': 17808, '3.0': 30907}, '2009': {'5.0': 422403, '4.0': 149771, '3.0': 73178, '2.0': 39680, '1.0': 59099}, '2011': {'3.0': 72055, '5.0': 465918, '4.0': 148457, '1.0': 72957, '2.0': 45767}, '2010': {'5.0': 426248, '1.0': 65343, '3.0': 70279, '4.0': 142000, '2.0': 41430}, '2001': {'5.0': 189638, '3.0': 35395, '4.0': 79152, '1.0': 24221, '2.0': 20320}, '2005': {'4.0': 138000, '5.0': 308080, '3.0': 71012, '1.0': 54744, '2.0': 40868}, '2012': {'5.0': 484650, '3.0': 74826, '4.0': 150248, '1.0': 81276, '2.0': 47356}, '1999': {'4.0': 14178, '5.0': 49866, '3.0': 6458, '2.0': 3631, '1.0': 4844}, '1998': {'5.0': 3313, '4.0': 797, '1.0': 191, '2.0': 262, '3.0': 442}, '1997': {'3.0': 8, '5.0': 64, '4.0': 29, '1.0': 6, '2.0': 1}}\n"
     ]
    }
   ],
   "source": [
    "counter=load_counter()\n",
    "print(counter)"
   ]
  },
  {
   "cell_type": "code",
   "execution_count": 5,
   "metadata": {},
   "outputs": [
    {
     "name": "stdout",
     "output_type": "stream",
     "text": [
      "['1997', '1998', '1999', '2000', '2001', '2002', '2003', '2004', '2005', '2006', '2007', '2008', '2009', '2010', '2011', '2012']\n",
      "[6, 191, 4844, 19944, 24221, 25311, 25734, 41016, 54744, 49049, 49521, 56076, 59099, 65343, 72957, 81276]\n",
      "[1, 262, 3631, 17808, 20320, 22641, 24183, 33117, 40868, 37992, 40205, 40138, 39680, 41430, 45767, 47356]\n",
      "[8, 442, 6458, 30907, 35395, 37798, 43323, 60489, 71012, 66128, 75239, 74057, 73178, 70279, 72055, 74826]\n",
      "[29, 797, 14178, 73314, 79152, 84276, 90527, 119160, 138000, 135581, 167632, 161693, 149771, 142000, 148457, 150248]\n",
      "[64, 3313, 49866, 192002, 189638, 198712, 205916, 257603, 308080, 311252, 452009, 412870, 422403, 426248, 465918, 484650]\n"
     ]
    }
   ],
   "source": [
    "labels=[]\n",
    "list_1=[]\n",
    "list_2=[]\n",
    "list_3=[]\n",
    "list_4=[]\n",
    "list_5=[]\n",
    "\n",
    "def put(values, key, lst):\n",
    "    if not key in values:\n",
    "        lst.append(0)\n",
    "    else:\n",
    "        lst.append(values[key])\n",
    "\n",
    "for key_time in sorted(counter):\n",
    "    labels.append(key_time)\n",
    "    if False:\n",
    "        if not \"1.0\" in counter[key_time]:\n",
    "            list_1.append(0)\n",
    "        else:\n",
    "            list_1.append(counter[key_time][\"1.0\"])\n",
    "    put(counter[key_time], \"1.0\", list_1)\n",
    "    put(counter[key_time], \"2.0\", list_2)\n",
    "    put(counter[key_time], \"3.0\", list_3)\n",
    "    put(counter[key_time], \"4.0\", list_4)\n",
    "    put(counter[key_time], \"5.0\", list_5)\n",
    "                \n",
    "print(labels)\n",
    "print(list_1)\n",
    "print(list_2)\n",
    "print(list_3)\n",
    "print(list_4)\n",
    "print(list_5)"
   ]
  },
  {
   "cell_type": "code",
   "execution_count": 6,
   "metadata": {},
   "outputs": [
    {
     "data": {
      "image/png": "[encoded data removed]",
      "text/plain": [
       "<Figure size 432x288 with 1 Axes>"
      ]
     },
     "metadata": {
      "needs_background": "light"
     },
     "output_type": "display_data"
    }
   ],
   "source": [
    "# https://matplotlib.org/stable/gallery/lines_bars_and_markers/bar_stacked.html\n",
    "\n",
    "import matplotlib.pyplot as plt\n",
    "import numpy as np\n",
    "\n",
    "width = 0.66\n",
    "\n",
    "fig, ax = plt.subplots()\n",
    "\n",
    "if(False):\n",
    "    ax.bar(labels, list_1, width, label='1')\n",
    "    ax.bar(labels, list_2, width, label='2', bottom=list_1)\n",
    "    ax.bar(labels, list_3, width, label='3', bottom=list_2)\n",
    "    ax.bar(labels, list_4, width, label='4', bottom=list_3)\n",
    "    ax.bar(labels, list_5, width, label='5', bottom=list_4)\n",
    "\n",
    "l3bottom = [sum(pair) for pair in zip(list_1, list_2)]\n",
    "l4bottom = [sum(pair) for pair in zip(l3bottom, list_3)]\n",
    "l5bottom = [sum(pair) for pair in zip(l4bottom, list_4)]\n",
    "\n",
    "if(True):\n",
    "    ax.bar(labels, list_1, width, label='1')\n",
    "    ax.bar(labels, list_2, width, label='2', bottom=list_1)\n",
    "    ax.bar(labels, list_3, width, label='3', bottom=l3bottom)\n",
    "    ax.bar(labels, list_4, width, label='4', bottom=l4bottom)\n",
    "    ax.bar(labels, list_5, width, label='5', bottom=l5bottom)\n",
    "\n",
    "ax.set_ylabel('Number of scores')\n",
    "ax.set_xlabel('Years')\n",
    "ax.set_title('Amazon movie review dataset')\n",
    "\n",
    "#ax.legend()\n",
    "ax.legend([1,2,3,4,5], frameon=False, labelspacing=-2.5, bbox_to_anchor=(.17, .7))\n",
    "\n",
    "plt.xticks(rotation = 45)\n",
    "plt.savefig(file_image)\n",
    "plt.show()"
   ]
  },
  {
   "cell_type": "code",
   "execution_count": 7,
   "metadata": {},
   "outputs": [],
   "source": [
    "# https://matplotlib.org/stable/gallery/lines_bars_and_markers/bar_stacked.html\n",
    "\n",
    "if(False):\n",
    "    import matplotlib.pyplot as plt\n",
    "\n",
    "    labels = ['G1', 'G2', 'G3', 'G4', 'G5']\n",
    "    men_means = [20, 35, 30, 35, 27]\n",
    "    women_means = [25, 32, 34, 20, 25]\n",
    "    men_std = [2, 3, 4, 1, 2]\n",
    "    women_std = [3, 5, 2, 3, 3]\n",
    "    width = 0.35       # the width of the bars: can also be len(x) sequence\n",
    "\n",
    "    fig, ax = plt.subplots()\n",
    "\n",
    "    ax.bar(labels, men_means, width, yerr=men_std, label='Men')\n",
    "    ax.bar(labels, women_means, width, yerr=women_std, bottom=men_means,\n",
    "           label='Women')\n",
    "\n",
    "    ax.set_ylabel('Scores')\n",
    "    ax.set_title('Scores by group and gender')\n",
    "    ax.legend()\n",
    "\n",
    "    plt.show()"
   ]
  },
  {
   "cell_type": "code",
   "execution_count": null,
   "metadata": {},
   "outputs": [],
   "source": []
  }
 ],
 "metadata": {
  "kernelspec": {
   "display_name": "Python (EML4U)",
   "language": "python",
   "name": "eml4u"
  },
  "language_info": {
   "codemirror_mode": {
    "name": "ipython",
    "version": 3
   },
   "file_extension": ".py",
   "mimetype": "text/x-python",
   "name": "python",
   "nbconvert_exporter": "python",
   "pygments_lexer": "ipython3",
   "version": "3.8.5"
  }
 },
 "nbformat": 4,
 "nbformat_minor": 4
}

