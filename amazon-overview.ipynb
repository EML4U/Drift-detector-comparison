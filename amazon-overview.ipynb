{
 "cells": [
  {
   "cell_type": "code",
   "execution_count": 1,
   "metadata": {},
   "outputs": [],
   "source": [
    "from datetime import datetime\n",
    "import pickle\n",
    "\n",
    "file=\"../../data/amazon/movies.txt\"\n",
    "file_counter=\"../../data/amazon/counted.pkl\"\n",
    "file_image=\"../../data/amazon/counted.svg\""
   ]
  },
  {
   "cell_type": "code",
   "execution_count": 2,
   "metadata": {},
   "outputs": [],
   "source": [
    "# https://stackoverflow.com/a/19201448\n",
    "def save_counter(obj):\n",
    "    with open(file_counter, 'wb') as f:\n",
    "        pickle.dump(obj, f, pickle.HIGHEST_PROTOCOL)\n",
    "\n",
    "def load_counter():\n",
    "    with open(file_counter, 'rb') as f:\n",
    "        return pickle.load(f)"
   ]
  },
  {
   "cell_type": "code",
   "execution_count": 3,
   "metadata": {},
   "outputs": [],
   "source": [
    "if(False):\n",
    "    i=0\n",
    "    stop=-100\n",
    "    counter = {}\n",
    "    with open(file, 'r', errors='ignore') as f:\n",
    "        for line in f:\n",
    "            #print(line)\n",
    "            identifier = line.split(':')[0]\n",
    "            if 'review/score' in identifier:\n",
    "                score = line.split(':')[1].strip()\n",
    "                #print(score)\n",
    "            elif 'review/time' in identifier:\n",
    "                time=str(datetime.fromtimestamp(int(line.split(':')[1].strip())))[0:7]\n",
    "                #print(time)\n",
    "            elif 'review/summary' in identifier:\n",
    "                if not time in counter:\n",
    "                    counter[time] = {}\n",
    "                if not score in counter[time]:\n",
    "                    counter[time][score] = 1\n",
    "                else:\n",
    "                    counter[time][score] += 1\n",
    "\n",
    "\n",
    "                #if not time in counter:\n",
    "                #    counter[time] = 1\n",
    "                #else:\n",
    "                #    counter[time] += 1\n",
    "            # dev\n",
    "            i=i+1\n",
    "            if(i==stop):\n",
    "                break\n",
    "\n",
    "    save_counter(counter)"
   ]
  },
  {
   "cell_type": "code",
   "execution_count": 4,
   "metadata": {},
   "outputs": [
    {
     "name": "stdout",
     "output_type": "stream",
     "text": [
      "{'2007-06': {'3.0': 5134, '5.0': 30535, '4.0': 11535, '1.0': 3880, '2.0': 2849}, '2006-11': {'5.0': 28872, '1.0': 3163, '3.0': 5299, '4.0': 11814, '2.0': 2845}, '2007-12': {'3.0': 6896, '5.0': 40731, '4.0': 15178, '1.0': 5006, '2.0': 4098}, '2007-08': {'3.0': 6671, '4.0': 13992, '5.0': 33390, '2.0': 3425, '1.0': 3837}, '2008-12': {'2.0': 3700, '5.0': 36715, '4.0': 13831, '1.0': 5857, '3.0': 6687}, '2003-08': {'5.0': 15256, '4.0': 6684, '3.0': 3343, '2.0': 1835, '1.0': 2187}, '2002-12': {'5.0': 16194, '4.0': 7005, '2.0': 1915, '3.0': 3006, '1.0': 2000}, '2003-02': {'5.0': 15485, '4.0': 6480, '2.0': 1395, '3.0': 3296, '1.0': 1572}, '2003-09': {'5.0': 15628, '3.0': 2873, '1.0': 1956, '4.0': 7025, '2.0': 1982}, '2003-01': {'5.0': 19814, '4.0': 8489, '1.0': 2433, '3.0': 4210, '2.0': 1992}, '2003-04': {'4.0': 7719, '5.0': 15882, '2.0': 1845, '3.0': 3466, '1.0': 1700}, '2003-03': {'5.0': 17307, '4.0': 6829, '3.0': 3597, '1.0': 1859, '2.0': 2192}, '2007-04': {'5.0': 25717, '4.0': 10413, '3.0': 5406, '2.0': 3141, '1.0': 3856}, '2008-01': {'5.0': 49024, '4.0': 17100, '1.0': 5608, '3.0': 7892, '2.0': 4267}, '2004-04': {'5.0': 19103, '4.0': 8810, '1.0': 2750, '2.0': 2228, '3.0': 4416}, '2003-11': {'5.0': 18677, '2.0': 2319, '3.0': 4018, '4.0': 7694, '1.0': 2909}, '2004-08': {'5.0': 23471, '4.0': 12036, '3.0': 5692, '1.0': 3959, '2.0': 3067}, '2000-07': {'5.0': 17872, '3.0': 3220, '4.0': 7155, '1.0': 1778, '2.0': 1895}, '2006-05': {'5.0': 22571, '4.0': 10884, '1.0': 5344, '2.0': 3011, '3.0': 5298}, '2006-07': {'5.0': 28041, '2.0': 3485, '4.0': 12817, '1.0': 4240, '3.0': 6207}, '2009-07': {'5.0': 26546, '2.0': 3174, '4.0': 10255, '3.0': 5427, '1.0': 4580}, '2007-05': {'5.0': 42670, '2.0': 3401, '4.0': 15780, '1.0': 4181, '3.0': 6442}, '2011-12': {'3.0': 7066, '4.0': 14693, '5.0': 59167, '2.0': 4904, '1.0': 8544}, '2011-08': {'5.0': 35932, '4.0': 11508, '3.0': 5715, '2.0': 3591, '1.0': 5409}, '2011-03': {'5.0': 37560, '3.0': 6222, '4.0': 12803, '2.0': 4081, '1.0': 5851}, '2010-04': {'5.0': 33107, '4.0': 11431, '1.0': 5212, '3.0': 5504, '2.0': 3445}, '2010-03': {'5.0': 37658, '3.0': 6817, '4.0': 12693, '2.0': 3924, '1.0': 6254}, '2010-01': {'5.0': 44314, '1.0': 6200, '4.0': 14098, '2.0': 4040, '3.0': 6711}, '2009-12': {'5.0': 41700, '4.0': 13414, '3.0': 6624, '2.0': 3896, '1.0': 6243}, '2009-06': {'5.0': 30726, '4.0': 12011, '3.0': 5909, '2.0': 3120, '1.0': 4459}, '2008-10': {'5.0': 32283, '3.0': 5561, '4.0': 12840, '2.0': 2710, '1.0': 4411}, '2002-10': {'4.0': 6744, '5.0': 15843, '1.0': 2055, '2.0': 1894, '3.0': 3018}, '2001-08': {'5.0': 19057, '4.0': 7786, '3.0': 3308, '1.0': 2070, '2.0': 1932}, '2007-01': {'3.0': 9313, '4.0': 24131, '5.0': 72764, '1.0': 5382, '2.0': 4530}, '2009-09': {'5.0': 35166, '4.0': 12131, '2.0': 2866, '3.0': 5822, '1.0': 4621}, '2009-04': {'4.0': 12424, '5.0': 33582, '3.0': 6294, '1.0': 4588, '2.0': 2892}, '2002-01': {'5.0': 18573, '4.0': 7909, '2.0': 1923, '3.0': 3288, '1.0': 2226}, '2005-09': {'4.0': 12816, '5.0': 33964, '3.0': 6275, '2.0': 3372, '1.0': 4703}, '2012-04': {'5.0': 44244, '4.0': 12957, '1.0': 7282, '3.0': 6329, '2.0': 4309}, '2012-01': {'3.0': 8222, '5.0': 63882, '4.0': 16317, '2.0': 5059, '1.0': 8726}, '2012-08': {'4.0': 14349, '5.0': 43665, '1.0': 7972, '2.0': 4231, '3.0': 6774}, '2010-12': {'5.0': 41284, '1.0': 6318, '3.0': 6177, '4.0': 12585, '2.0': 3585}, '2002-08': {'5.0': 17744, '3.0': 3139, '1.0': 2289, '4.0': 6907, '2.0': 1861}, '2010-02': {'3.0': 6686, '5.0': 44433, '1.0': 5655, '4.0': 13069, '2.0': 3568}, '2010-09': {'5.0': 33307, '4.0': 11420, '1.0': 5087, '3.0': 5442, '2.0': 3352}, '2011-01': {'5.0': 48000, '1.0': 6659, '3.0': 7474, '2.0': 4447, '4.0': 16203}, '2010-11': {'5.0': 34583, '4.0': 10809, '1.0': 5549, '3.0': 5568, '2.0': 3543}, '2010-10': {'5.0': 33610, '4.0': 11975, '2.0': 3309, '3.0': 5848, '1.0': 5632}, '2010-05': {'5.0': 30018, '2.0': 2934, '1.0': 4580, '4.0': 10481, '3.0': 5094}, '2012-09': {'5.0': 68992, '4.0': 22063, '1.0': 10168, '2.0': 6597, '3.0': 10695}, '2010-06': {'5.0': 28738, '4.0': 10508, '2.0': 2861, '1.0': 4520, '3.0': 5333}, '2012-03': {'4.0': 14183, '5.0': 46982, '1.0': 8229, '3.0': 7341, '2.0': 4671}, '2011-11': {'5.0': 39331, '1.0': 6983, '2.0': 3833, '3.0': 5858, '4.0': 11876}, '2009-08': {'5.0': 28465, '4.0': 10267, '3.0': 5122, '1.0': 4644, '2.0': 3043}, '2009-03': {'5.0': 35856, '4.0': 13195, '3.0': 5939, '2.0': 3185, '1.0': 5123}, '2009-02': {'4.0': 13140, '5.0': 35577, '1.0': 4682, '3.0': 6509, '2.0': 3163}, '2009-01': {'5.0': 52979, '4.0': 17399, '2.0': 4520, '3.0': 7859, '1.0': 5925}, '2008-11': {'3.0': 5163, '1.0': 4342, '5.0': 31647, '2.0': 2547, '4.0': 12098}, '2008-09': {'5.0': 30588, '1.0': 3747, '4.0': 12450, '2.0': 2918, '3.0': 5504}, '2008-03': {'3.0': 7174, '4.0': 14912, '5.0': 35248, '1.0': 5303, '2.0': 4125}, '2007-11': {'5.0': 31428, '4.0': 11546, '2.0': 3227, '3.0': 5727, '1.0': 3939}, '2007-10': {'4.0': 12661, '5.0': 31900, '3.0': 5626, '2.0': 3011, '1.0': 3903}, '2007-09': {'4.0': 13094, '5.0': 31848, '2.0': 2924, '1.0': 3618, '3.0': 5513}, '2002-03': {'5.0': 17229, '3.0': 3917, '4.0': 7852, '1.0': 2464, '2.0': 2414}, '2005-12': {'5.0': 24179, '2.0': 3562, '3.0': 6243, '1.0': 4635, '4.0': 10660}, '2004-05': {'5.0': 19649, '1.0': 2724, '4.0': 9546, '3.0': 5106, '2.0': 2592}, '2002-11': {'5.0': 14676, '1.0': 1892, '4.0': 5967, '2.0': 1554, '3.0': 2684}, '2006-04': {'4.0': 10407, '3.0': 4638, '5.0': 22552, '2.0': 2970, '1.0': 3680}, '2005-06': {'5.0': 21533, '3.0': 5192, '4.0': 10652, '2.0': 3158, '1.0': 4131}, '2005-01': {'5.0': 25666, '1.0': 5075, '4.0': 12714, '3.0': 7527, '2.0': 4178}, '2003-06': {'3.0': 3175, '4.0': 7860, '5.0': 16701, '1.0': 1718, '2.0': 1954}, '2002-07': {'5.0': 19327, '4.0': 8252, '3.0': 3797, '2.0': 2396, '1.0': 2551}, '2012-10': {'5.0': 50135, '1.0': 8249, '4.0': 15735, '3.0': 7898, '2.0': 5215}, '2002-02': {'5.0': 15104, '4.0': 6277, '2.0': 1733, '3.0': 2714, '1.0': 1925}, '2002-09': {'5.0': 14288, '4.0': 6364, '3.0': 2493, '1.0': 1956, '2.0': 1560}, '2004-01': {'5.0': 22258, '1.0': 3494, '4.0': 9495, '3.0': 5095, '2.0': 3096}, '2012-07': {'5.0': 43143, '1.0': 7436, '4.0': 13836, '3.0': 6890, '2.0': 4596}, '2012-06': {'4.0': 12756, '5.0': 38924, '1.0': 7547, '2.0': 4274, '3.0': 7193}, '2012-05': {'3.0': 7338, '5.0': 41068, '4.0': 15257, '1.0': 7483, '2.0': 4429}, '2012-02': {'5.0': 43615, '4.0': 12795, '3.0': 6146, '1.0': 8184, '2.0': 3975}, '2011-09': {'5.0': 38719, '1.0': 5951, '4.0': 11768, '2.0': 3582, '3.0': 5634}, '2011-07': {'5.0': 32763, '1.0': 5353, '4.0': 11197, '2.0': 3629, '3.0': 5462}, '2011-06': {'5.0': 29803, '4.0': 10797, '3.0': 5337, '2.0': 3368, '1.0': 5236}, '2011-05': {'5.0': 32216, '1.0': 5083, '4.0': 11585, '2.0': 3579, '3.0': 4997}, '2011-04': {'5.0': 35980, '3.0': 6109, '1.0': 5850, '4.0': 11588, '2.0': 3540}, '2011-02': {'5.0': 34214, '4.0': 11668, '3.0': 5709, '1.0': 5581, '2.0': 3487}, '2010-08': {'5.0': 31059, '4.0': 10963, '3.0': 5408, '1.0': 5149, '2.0': 3130}, '2010-07': {'5.0': 34137, '2.0': 3739, '1.0': 5187, '4.0': 11968, '3.0': 5691}, '2009-11': {'5.0': 33994, '3.0': 5740, '2.0': 3325, '4.0': 11292, '1.0': 4973}, '2009-10': {'5.0': 35064, '2.0': 3078, '4.0': 11117, '3.0': 5866, '1.0': 4452}, '2009-05': {'5.0': 32748, '4.0': 13126, '3.0': 6067, '1.0': 4809, '2.0': 3418}, '2008-07': {'4.0': 11997, '5.0': 29111, '3.0': 5634, '1.0': 4499, '2.0': 3225}, '2004-06': {'5.0': 20022, '4.0': 9371, '3.0': 4840, '2.0': 2606, '1.0': 3134}, '2008-04': {'4.0': 15077, '5.0': 36851, '2.0': 3777, '3.0': 6524, '1.0': 4844}, '2006-03': {'5.0': 39095, '3.0': 7023, '4.0': 15369, '1.0': 4925, '2.0': 3954}, '2004-03': {'5.0': 18978, '4.0': 8474, '2.0': 2534, '1.0': 2896, '3.0': 4567}, '2004-02': {'5.0': 18519, '4.0': 9108, '3.0': 4365, '2.0': 2533, '1.0': 3381}, '2002-06': {'4.0': 6901, '5.0': 18546, '3.0': 3056, '1.0': 2180, '2.0': 2070}, '2002-04': {'5.0': 17052, '2.0': 1761, '4.0': 7601, '1.0': 1810, '3.0': 3469}, '2005-03': {'4.0': 11156, '5.0': 24770, '1.0': 4281, '3.0': 5530, '2.0': 3245}, '2005-08': {'5.0': 35647, '3.0': 6857, '4.0': 14720, '2.0': 3786, '1.0': 5905}, '2002-05': {'5.0': 14136, '1.0': 1963, '3.0': 3217, '4.0': 6497, '2.0': 1560}, '2006-01': {'2.0': 3757, '5.0': 29793, '4.0': 12355, '3.0': 6865, '1.0': 5248}, '2008-06': {'5.0': 31687, '3.0': 5938, '4.0': 12229, '1.0': 4263, '2.0': 2997}, '2003-05': {'3.0': 3012, '5.0': 16183, '4.0': 7173, '2.0': 1637, '1.0': 1713}, '2005-02': {'3.0': 5404, '4.0': 10678, '5.0': 21805, '2.0': 2967, '1.0': 4064}, '2006-12': {'2.0': 2959, '5.0': 20947, '4.0': 8746, '1.0': 3933, '3.0': 5086}, '2006-10': {'4.0': 8151, '5.0': 17447, '2.0': 2380, '1.0': 2898, '3.0': 4345}, '2005-07': {'1.0': 4863, '5.0': 27445, '4.0': 12102, '2.0': 3424, '3.0': 6359}, '2004-07': {'1.0': 4040, '5.0': 24058, '3.0': 5304, '4.0': 10992, '2.0': 3444}, '2005-10': {'4.0': 12317, '5.0': 28912, '3.0': 6157, '1.0': 4679, '2.0': 3431}, '2003-12': {'1.0': 2910, '5.0': 19434, '4.0': 8129, '3.0': 4047, '2.0': 2434}, '2004-12': {'5.0': 25208, '2.0': 3023, '4.0': 10896, '3.0': 5356, '1.0': 4233}, '2003-07': {'5.0': 19140, '4.0': 8653, '2.0': 2250, '3.0': 3976, '1.0': 2105}, '2003-10': {'5.0': 16409, '3.0': 4310, '4.0': 7792, '1.0': 2672, '2.0': 2348}, '2007-03': {'5.0': 43138, '4.0': 14762, '1.0': 4674, '3.0': 6734, '2.0': 3504}, '2011-10': {'5.0': 42233, '4.0': 12771, '2.0': 3726, '3.0': 6472, '1.0': 6457}, '2007-07': {'5.0': 35411, '4.0': 11779, '3.0': 5900, '1.0': 3567, '2.0': 3278}, '2006-09': {'5.0': 16393, '3.0': 3912, '4.0': 7649, '1.0': 2828, '2.0': 2497}, '2008-02': {'5.0': 37221, '4.0': 14392, '3.0': 6653, '1.0': 4495, '2.0': 3630}, '2008-05': {'5.0': 32875, '4.0': 12717, '1.0': 4607, '3.0': 5779, '2.0': 3270}, '2001-11': {'3.0': 3035, '1.0': 2119, '4.0': 6500, '5.0': 16894, '2.0': 1732}, '2001-06': {'5.0': 18055, '4.0': 7311, '1.0': 2262, '2.0': 1849, '3.0': 2748}, '2001-04': {'5.0': 13048, '3.0': 2519, '2.0': 1243, '1.0': 1641, '4.0': 5431}, '2000-09': {'5.0': 12451, '1.0': 1567, '4.0': 4869, '2.0': 1277, '3.0': 2197}, '2006-08': {'4.0': 12497, '5.0': 28848, '3.0': 5653, '2.0': 3196, '1.0': 3718}, '2005-11': {'5.0': 21668, '4.0': 9410, '3.0': 4893, '1.0': 4298, '2.0': 3098}, '2005-04': {'5.0': 22383, '4.0': 10734, '3.0': 5488, '2.0': 3487, '1.0': 4030}, '2001-07': {'5.0': 18455, '4.0': 7493, '2.0': 1784, '1.0': 2366, '3.0': 3357}, '2000-12': {'5.0': 12862, '4.0': 5862, '1.0': 1791, '3.0': 2580, '2.0': 1376}, '2005-05': {'5.0': 20108, '3.0': 5087, '1.0': 4080, '2.0': 3160, '4.0': 10041}, '2000-10': {'5.0': 13259, '4.0': 6091, '2.0': 1520, '1.0': 1423, '3.0': 2649}, '2000-02': {'5.0': 15921, '4.0': 5733, '1.0': 1802, '3.0': 1962, '2.0': 1218}, '2006-02': {'5.0': 32027, '3.0': 6342, '4.0': 13607, '2.0': 3608, '1.0': 4749}, '2008-08': {'5.0': 29620, '4.0': 12050, '3.0': 5548, '2.0': 2972, '1.0': 4100}, '1999-04': {'4.0': 809, '5.0': 2463, '1.0': 171, '2.0': 153, '3.0': 342}, '2000-11': {'5.0': 10404, '4.0': 4923, '1.0': 1090, '3.0': 1898, '2.0': 1295}, '2001-05': {'5.0': 15168, '4.0': 6374, '3.0': 2871, '2.0': 1712, '1.0': 2097}, '2004-09': {'3.0': 4898, '2.0': 2448, '5.0': 19876, '1.0': 3179, '4.0': 9437}, '2004-10': {'3.0': 5581, '2.0': 2627, '5.0': 23463, '4.0': 10859, '1.0': 3685}, '2007-02': {'5.0': 32477, '1.0': 3678, '4.0': 12761, '3.0': 5877, '2.0': 2817}, '2006-06': {'4.0': 11285, '5.0': 24666, '3.0': 5460, '1.0': 4323, '2.0': 3330}, '2004-11': {'5.0': 22998, '3.0': 5269, '4.0': 10136, '2.0': 2919, '1.0': 3541}, '2001-01': {'5.0': 12834, '4.0': 6481, '1.0': 2041, '3.0': 3181, '2.0': 1910}, '2001-09': {'5.0': 15096, '4.0': 6466, '2.0': 1559, '1.0': 1773, '3.0': 2900}, '2000-08': {'5.0': 17323, '4.0': 5851, '3.0': 2971, '2.0': 1727, '1.0': 1644}, '2000-04': {'5.0': 17857, '4.0': 6597, '1.0': 1849, '2.0': 1437, '3.0': 2815}, '2000-03': {'5.0': 17512, '2.0': 1221, '4.0': 5576, '3.0': 1753, '1.0': 1559}, '1999-05': {'5.0': 1923, '4.0': 555, '2.0': 165, '3.0': 286, '1.0': 173}, '2000-01': {'5.0': 18408, '4.0': 5566, '2.0': 1388, '3.0': 2221, '1.0': 2078}, '1999-12': {'5.0': 17225, '4.0': 4923, '1.0': 1519, '3.0': 2112, '2.0': 1277}, '2001-03': {'3.0': 2589, '5.0': 14240, '2.0': 1683, '4.0': 6100, '1.0': 1796}, '2000-06': {'5.0': 19531, '2.0': 1826, '4.0': 7593, '3.0': 3518, '1.0': 1717}, '2000-05': {'5.0': 18602, '4.0': 7498, '2.0': 1628, '3.0': 3123, '1.0': 1646}, '2001-10': {'3.0': 3616, '5.0': 16767, '4.0': 6813, '2.0': 1577, '1.0': 1709}, '2001-12': {'4.0': 7101, '5.0': 17783, '3.0': 2861, '2.0': 1717, '1.0': 2245}, '1999-10': {'3.0': 819, '4.0': 1713, '2.0': 406, '5.0': 5677, '1.0': 692}, '2001-02': {'5.0': 12241, '2.0': 1622, '3.0': 2410, '4.0': 5296, '1.0': 2102}, '1999-01': {'2.0': 113, '5.0': 1791, '3.0': 192, '4.0': 486, '1.0': 158}, '1999-03': {'5.0': 1597, '4.0': 416, '1.0': 180, '3.0': 227, '2.0': 77}, '1998-11': {'5.0': 819, '4.0': 188, '3.0': 109, '1.0': 19, '2.0': 39}, '1999-11': {'1.0': 767, '5.0': 8231, '2.0': 408, '4.0': 2073, '3.0': 1023}, '1999-09': {'5.0': 2281, '1.0': 198, '3.0': 353, '2.0': 231, '4.0': 742}, '1999-07': {'4.0': 716, '5.0': 2445, '2.0': 237, '3.0': 263, '1.0': 316}, '1998-12': {'5.0': 1778, '4.0': 446, '1.0': 162, '2.0': 157, '3.0': 250}, '1999-06': {'5.0': 2493, '3.0': 362, '4.0': 679, '2.0': 277, '1.0': 170}, '1999-08': {'5.0': 2348, '4.0': 616, '2.0': 147, '3.0': 326, '1.0': 297}, '1999-02': {'5.0': 1392, '3.0': 153, '4.0': 450, '1.0': 203, '2.0': 140}, '1998-08': {'5.0': 93, '4.0': 62, '3.0': 31, '2.0': 3}, '1998-06': {'5.0': 163, '4.0': 10, '3.0': 9, '2.0': 6, '1.0': 1}, '1998-07': {'4.0': 21, '5.0': 85, '1.0': 3, '2.0': 16, '3.0': 11}, '1997-12': {'3.0': 8, '5.0': 39, '4.0': 13, '1.0': 5, '2.0': 1}, '1998-09': {'5.0': 92, '3.0': 14, '4.0': 20, '1.0': 5, '2.0': 2}, '1998-10': {'3.0': 12, '2.0': 12, '5.0': 94, '4.0': 23}, '1998-05': {'5.0': 37, '4.0': 11, '2.0': 10, '1.0': 1}, '1998-03': {'5.0': 28, '4.0': 5, '2.0': 2}, '1998-04': {'5.0': 35, '2.0': 11, '4.0': 6, '3.0': 5}, '1998-02': {'5.0': 55, '4.0': 5, '2.0': 4, '3.0': 1}, '1997-11': {'5.0': 11, '4.0': 16, '1.0': 1}, '1998-01': {'5.0': 34}, '1997-10': {'5.0': 4}, '1997-08': {'5.0': 10}}\n"
     ]
    }
   ],
   "source": [
    "counter=load_counter()\n",
    "print(counter)"
   ]
  },
  {
   "cell_type": "code",
   "execution_count": 5,
   "metadata": {},
   "outputs": [
    {
     "name": "stdout",
     "output_type": "stream",
     "text": [
      "['1997-08', '1997-10', '1997-11', '1997-12', '1998-01', '1998-02', '1998-03', '1998-04', '1998-05', '1998-06', '1998-07', '1998-08', '1998-09', '1998-10', '1998-11', '1998-12', '1999-01', '1999-02', '1999-03', '1999-04', '1999-05', '1999-06', '1999-07', '1999-08', '1999-09', '1999-10', '1999-11', '1999-12', '2000-01', '2000-02', '2000-03', '2000-04', '2000-05', '2000-06', '2000-07', '2000-08', '2000-09', '2000-10', '2000-11', '2000-12', '2001-01', '2001-02', '2001-03', '2001-04', '2001-05', '2001-06', '2001-07', '2001-08', '2001-09', '2001-10', '2001-11', '2001-12', '2002-01', '2002-02', '2002-03', '2002-04', '2002-05', '2002-06', '2002-07', '2002-08', '2002-09', '2002-10', '2002-11', '2002-12', '2003-01', '2003-02', '2003-03', '2003-04', '2003-05', '2003-06', '2003-07', '2003-08', '2003-09', '2003-10', '2003-11', '2003-12', '2004-01', '2004-02', '2004-03', '2004-04', '2004-05', '2004-06', '2004-07', '2004-08', '2004-09', '2004-10', '2004-11', '2004-12', '2005-01', '2005-02', '2005-03', '2005-04', '2005-05', '2005-06', '2005-07', '2005-08', '2005-09', '2005-10', '2005-11', '2005-12', '2006-01', '2006-02', '2006-03', '2006-04', '2006-05', '2006-06', '2006-07', '2006-08', '2006-09', '2006-10', '2006-11', '2006-12', '2007-01', '2007-02', '2007-03', '2007-04', '2007-05', '2007-06', '2007-07', '2007-08', '2007-09', '2007-10', '2007-11', '2007-12', '2008-01', '2008-02', '2008-03', '2008-04', '2008-05', '2008-06', '2008-07', '2008-08', '2008-09', '2008-10', '2008-11', '2008-12', '2009-01', '2009-02', '2009-03', '2009-04', '2009-05', '2009-06', '2009-07', '2009-08', '2009-09', '2009-10', '2009-11', '2009-12', '2010-01', '2010-02', '2010-03', '2010-04', '2010-05', '2010-06', '2010-07', '2010-08', '2010-09', '2010-10', '2010-11', '2010-12', '2011-01', '2011-02', '2011-03', '2011-04', '2011-05', '2011-06', '2011-07', '2011-08', '2011-09', '2011-10', '2011-11', '2011-12', '2012-01', '2012-02', '2012-03', '2012-04', '2012-05', '2012-06', '2012-07', '2012-08', '2012-09', '2012-10']\n",
      "[0, 0, 1, 5, 0, 0, 0, 0, 1, 1, 3, 0, 5, 0, 19, 162, 158, 203, 180, 171, 173, 170, 316, 297, 198, 692, 767, 1519, 2078, 1802, 1559, 1849, 1646, 1717, 1778, 1644, 1567, 1423, 1090, 1791, 2041, 2102, 1796, 1641, 2097, 2262, 2366, 2070, 1773, 1709, 2119, 2245, 2226, 1925, 2464, 1810, 1963, 2180, 2551, 2289, 1956, 2055, 1892, 2000, 2433, 1572, 1859, 1700, 1713, 1718, 2105, 2187, 1956, 2672, 2909, 2910, 3494, 3381, 2896, 2750, 2724, 3134, 4040, 3959, 3179, 3685, 3541, 4233, 5075, 4064, 4281, 4030, 4080, 4131, 4863, 5905, 4703, 4679, 4298, 4635, 5248, 4749, 4925, 3680, 5344, 4323, 4240, 3718, 2828, 2898, 3163, 3933, 5382, 3678, 4674, 3856, 4181, 3880, 3567, 3837, 3618, 3903, 3939, 5006, 5608, 4495, 5303, 4844, 4607, 4263, 4499, 4100, 3747, 4411, 4342, 5857, 5925, 4682, 5123, 4588, 4809, 4459, 4580, 4644, 4621, 4452, 4973, 6243, 6200, 5655, 6254, 5212, 4580, 4520, 5187, 5149, 5087, 5632, 5549, 6318, 6659, 5581, 5851, 5850, 5083, 5236, 5353, 5409, 5951, 6457, 6983, 8544, 8726, 8184, 8229, 7282, 7483, 7547, 7436, 7972, 10168, 8249]\n",
      "[0, 0, 0, 1, 0, 4, 2, 11, 10, 6, 16, 3, 2, 12, 39, 157, 113, 140, 77, 153, 165, 277, 237, 147, 231, 406, 408, 1277, 1388, 1218, 1221, 1437, 1628, 1826, 1895, 1727, 1277, 1520, 1295, 1376, 1910, 1622, 1683, 1243, 1712, 1849, 1784, 1932, 1559, 1577, 1732, 1717, 1923, 1733, 2414, 1761, 1560, 2070, 2396, 1861, 1560, 1894, 1554, 1915, 1992, 1395, 2192, 1845, 1637, 1954, 2250, 1835, 1982, 2348, 2319, 2434, 3096, 2533, 2534, 2228, 2592, 2606, 3444, 3067, 2448, 2627, 2919, 3023, 4178, 2967, 3245, 3487, 3160, 3158, 3424, 3786, 3372, 3431, 3098, 3562, 3757, 3608, 3954, 2970, 3011, 3330, 3485, 3196, 2497, 2380, 2845, 2959, 4530, 2817, 3504, 3141, 3401, 2849, 3278, 3425, 2924, 3011, 3227, 4098, 4267, 3630, 4125, 3777, 3270, 2997, 3225, 2972, 2918, 2710, 2547, 3700, 4520, 3163, 3185, 2892, 3418, 3120, 3174, 3043, 2866, 3078, 3325, 3896, 4040, 3568, 3924, 3445, 2934, 2861, 3739, 3130, 3352, 3309, 3543, 3585, 4447, 3487, 4081, 3540, 3579, 3368, 3629, 3591, 3582, 3726, 3833, 4904, 5059, 3975, 4671, 4309, 4429, 4274, 4596, 4231, 6597, 5215]\n",
      "[0, 0, 0, 8, 0, 1, 0, 5, 0, 9, 11, 31, 14, 12, 109, 250, 192, 153, 227, 342, 286, 362, 263, 326, 353, 819, 1023, 2112, 2221, 1962, 1753, 2815, 3123, 3518, 3220, 2971, 2197, 2649, 1898, 2580, 3181, 2410, 2589, 2519, 2871, 2748, 3357, 3308, 2900, 3616, 3035, 2861, 3288, 2714, 3917, 3469, 3217, 3056, 3797, 3139, 2493, 3018, 2684, 3006, 4210, 3296, 3597, 3466, 3012, 3175, 3976, 3343, 2873, 4310, 4018, 4047, 5095, 4365, 4567, 4416, 5106, 4840, 5304, 5692, 4898, 5581, 5269, 5356, 7527, 5404, 5530, 5488, 5087, 5192, 6359, 6857, 6275, 6157, 4893, 6243, 6865, 6342, 7023, 4638, 5298, 5460, 6207, 5653, 3912, 4345, 5299, 5086, 9313, 5877, 6734, 5406, 6442, 5134, 5900, 6671, 5513, 5626, 5727, 6896, 7892, 6653, 7174, 6524, 5779, 5938, 5634, 5548, 5504, 5561, 5163, 6687, 7859, 6509, 5939, 6294, 6067, 5909, 5427, 5122, 5822, 5866, 5740, 6624, 6711, 6686, 6817, 5504, 5094, 5333, 5691, 5408, 5442, 5848, 5568, 6177, 7474, 5709, 6222, 6109, 4997, 5337, 5462, 5715, 5634, 6472, 5858, 7066, 8222, 6146, 7341, 6329, 7338, 7193, 6890, 6774, 10695, 7898]\n",
      "[0, 0, 16, 13, 0, 5, 5, 6, 11, 10, 21, 62, 20, 23, 188, 446, 486, 450, 416, 809, 555, 679, 716, 616, 742, 1713, 2073, 4923, 5566, 5733, 5576, 6597, 7498, 7593, 7155, 5851, 4869, 6091, 4923, 5862, 6481, 5296, 6100, 5431, 6374, 7311, 7493, 7786, 6466, 6813, 6500, 7101, 7909, 6277, 7852, 7601, 6497, 6901, 8252, 6907, 6364, 6744, 5967, 7005, 8489, 6480, 6829, 7719, 7173, 7860, 8653, 6684, 7025, 7792, 7694, 8129, 9495, 9108, 8474, 8810, 9546, 9371, 10992, 12036, 9437, 10859, 10136, 10896, 12714, 10678, 11156, 10734, 10041, 10652, 12102, 14720, 12816, 12317, 9410, 10660, 12355, 13607, 15369, 10407, 10884, 11285, 12817, 12497, 7649, 8151, 11814, 8746, 24131, 12761, 14762, 10413, 15780, 11535, 11779, 13992, 13094, 12661, 11546, 15178, 17100, 14392, 14912, 15077, 12717, 12229, 11997, 12050, 12450, 12840, 12098, 13831, 17399, 13140, 13195, 12424, 13126, 12011, 10255, 10267, 12131, 11117, 11292, 13414, 14098, 13069, 12693, 11431, 10481, 10508, 11968, 10963, 11420, 11975, 10809, 12585, 16203, 11668, 12803, 11588, 11585, 10797, 11197, 11508, 11768, 12771, 11876, 14693, 16317, 12795, 14183, 12957, 15257, 12756, 13836, 14349, 22063, 15735]\n",
      "[10, 4, 11, 39, 34, 55, 28, 35, 37, 163, 85, 93, 92, 94, 819, 1778, 1791, 1392, 1597, 2463, 1923, 2493, 2445, 2348, 2281, 5677, 8231, 17225, 18408, 15921, 17512, 17857, 18602, 19531, 17872, 17323, 12451, 13259, 10404, 12862, 12834, 12241, 14240, 13048, 15168, 18055, 18455, 19057, 15096, 16767, 16894, 17783, 18573, 15104, 17229, 17052, 14136, 18546, 19327, 17744, 14288, 15843, 14676, 16194, 19814, 15485, 17307, 15882, 16183, 16701, 19140, 15256, 15628, 16409, 18677, 19434, 22258, 18519, 18978, 19103, 19649, 20022, 24058, 23471, 19876, 23463, 22998, 25208, 25666, 21805, 24770, 22383, 20108, 21533, 27445, 35647, 33964, 28912, 21668, 24179, 29793, 32027, 39095, 22552, 22571, 24666, 28041, 28848, 16393, 17447, 28872, 20947, 72764, 32477, 43138, 25717, 42670, 30535, 35411, 33390, 31848, 31900, 31428, 40731, 49024, 37221, 35248, 36851, 32875, 31687, 29111, 29620, 30588, 32283, 31647, 36715, 52979, 35577, 35856, 33582, 32748, 30726, 26546, 28465, 35166, 35064, 33994, 41700, 44314, 44433, 37658, 33107, 30018, 28738, 34137, 31059, 33307, 33610, 34583, 41284, 48000, 34214, 37560, 35980, 32216, 29803, 32763, 35932, 38719, 42233, 39331, 59167, 63882, 43615, 46982, 44244, 41068, 38924, 43143, 43665, 68992, 50135]\n"
     ]
    }
   ],
   "source": [
    "labels=[]\n",
    "list_1=[]\n",
    "list_2=[]\n",
    "list_3=[]\n",
    "list_4=[]\n",
    "list_5=[]\n",
    "\n",
    "def put(values, key, lst):\n",
    "    if not key in values:\n",
    "        lst.append(0)\n",
    "    else:\n",
    "        lst.append(values[key])\n",
    "\n",
    "for key_time in sorted(counter):\n",
    "    labels.append(key_time)\n",
    "    if False:\n",
    "        if not \"1.0\" in counter[key_time]:\n",
    "            list_1.append(0)\n",
    "        else:\n",
    "            list_1.append(counter[key_time][\"1.0\"])\n",
    "    put(counter[key_time], \"1.0\", list_1)\n",
    "    put(counter[key_time], \"2.0\", list_2)\n",
    "    put(counter[key_time], \"3.0\", list_3)\n",
    "    put(counter[key_time], \"4.0\", list_4)\n",
    "    put(counter[key_time], \"5.0\", list_5)\n",
    "                \n",
    "print(labels)\n",
    "print(list_1)\n",
    "print(list_2)\n",
    "print(list_3)\n",
    "print(list_4)\n",
    "print(list_5)"
   ]
  },
  {
   "cell_type": "code",
   "execution_count": 6,
   "metadata": {},
   "outputs": [
    {
     "data": {
      "image/png": "[encoded data removed]",
      "text/plain": [
       "<Figure size 432x288 with 1 Axes>"
      ]
     },
     "metadata": {
      "needs_background": "light"
     },
     "output_type": "display_data"
    }
   ],
   "source": [
    "# https://matplotlib.org/stable/gallery/lines_bars_and_markers/bar_stacked.html\n",
    "\n",
    "import matplotlib.pyplot as plt\n",
    "\n",
    "width = 0.35       # the width of the bars: can also be len(x) sequence\n",
    "\n",
    "fig, ax = plt.subplots()\n",
    "\n",
    "ax.bar(labels, list_1, width, label='1')\n",
    "ax.bar(labels, list_2, width, bottom=list_1, label='2')\n",
    "ax.bar(labels, list_3, width, bottom=list_2, label='3')\n",
    "ax.bar(labels, list_4, width, bottom=list_3, label='4')\n",
    "ax.bar(labels, list_5, width, bottom=list_4, label='5')\n",
    "\n",
    "ax.set_ylabel('Scores')\n",
    "ax.set_title('Amazon review scores by months')\n",
    "ax.legend()\n",
    "\n",
    "plt.savefig(file_image)\n",
    "plt.show()"
   ]
  },
  {
   "cell_type": "code",
   "execution_count": 7,
   "metadata": {},
   "outputs": [],
   "source": [
    "# https://matplotlib.org/stable/gallery/lines_bars_and_markers/bar_stacked.html\n",
    "\n",
    "if(False):\n",
    "    import matplotlib.pyplot as plt\n",
    "\n",
    "    labels = ['G1', 'G2', 'G3', 'G4', 'G5']\n",
    "    men_means = [20, 35, 30, 35, 27]\n",
    "    women_means = [25, 32, 34, 20, 25]\n",
    "    men_std = [2, 3, 4, 1, 2]\n",
    "    women_std = [3, 5, 2, 3, 3]\n",
    "    width = 0.35       # the width of the bars: can also be len(x) sequence\n",
    "\n",
    "    fig, ax = plt.subplots()\n",
    "\n",
    "    ax.bar(labels, men_means, width, yerr=men_std, label='Men')\n",
    "    ax.bar(labels, women_means, width, yerr=women_std, bottom=men_means,\n",
    "           label='Women')\n",
    "\n",
    "    ax.set_ylabel('Scores')\n",
    "    ax.set_title('Scores by group and gender')\n",
    "    ax.legend()\n",
    "\n",
    "    plt.show()"
   ]
  },
  {
   "cell_type": "code",
   "execution_count": null,
   "metadata": {},
   "outputs": [],
   "source": []
  }
 ],
 "metadata": {
  "kernelspec": {
   "display_name": "Python (EML4U)",
   "language": "python",
   "name": "eml4u"
  },
  "language_info": {
   "codemirror_mode": {
    "name": "ipython",
    "version": 3
   },
   "file_extension": ".py",
   "mimetype": "text/x-python",
   "name": "python",
   "nbconvert_exporter": "python",
   "pygments_lexer": "ipython3",
   "version": "3.8.5"
  }
 },
 "nbformat": 4,
 "nbformat_minor": 4
}

