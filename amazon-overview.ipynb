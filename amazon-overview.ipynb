{
 "cells": [
  {
   "cell_type": "code",
   "execution_count": null,
   "metadata": {},
   "outputs": [],
   "source": [
    "from datetime import datetime\n",
    "import pickle\n",
    "\n",
    "file=\"../../data/amazon/movies.txt\"\n",
    "file_counter=\"../../data/amazon/counted.pkl\"\n",
    "file_image=\"../../data/amazon/counted.svg\""
   ]
  },
  {
   "cell_type": "code",
   "execution_count": null,
   "metadata": {},
   "outputs": [],
   "source": [
    "# https://stackoverflow.com/a/19201448\n",
    "def save_counter(obj):\n",
    "    with open(file_counter, 'wb') as f:\n",
    "        pickle.dump(obj, f, pickle.HIGHEST_PROTOCOL)\n",
    "\n",
    "def load_counter():\n",
    "    with open(file_counter, 'rb') as f:\n",
    "        return pickle.load(f)"
   ]
  },
  {
   "cell_type": "code",
   "execution_count": null,
   "metadata": {},
   "outputs": [],
   "source": [
    "if(False):\n",
    "    i=0\n",
    "    stop=-100\n",
    "    counter = {}\n",
    "    with open(file, 'r', errors='ignore') as f:\n",
    "        for line in f:\n",
    "            #print(line)\n",
    "            identifier = line.split(':')[0]\n",
    "            if 'review/score' in identifier:\n",
    "                score = line.split(':')[1].strip()\n",
    "                #print(score)\n",
    "            elif 'review/time' in identifier:\n",
    "                time=str(datetime.fromtimestamp(int(line.split(':')[1].strip())))[0:7]\n",
    "                #print(time)\n",
    "            elif 'review/summary' in identifier:\n",
    "                if not time in counter:\n",
    "                    counter[time] = {}\n",
    "                if not score in counter[time]:\n",
    "                    counter[time][score] = 1\n",
    "                else:\n",
    "                    counter[time][score] += 1\n",
    "\n",
    "\n",
    "                #if not time in counter:\n",
    "                #    counter[time] = 1\n",
    "                #else:\n",
    "                #    counter[time] += 1\n",
    "            # dev\n",
    "            i=i+1\n",
    "            if(i==stop):\n",
    "                break\n",
    "\n",
    "    save_counter(counter)"
   ]
  },
  {
   "cell_type": "code",
   "execution_count": null,
   "metadata": {},
   "outputs": [],
   "source": [
    "counter=load_counter()\n",
    "print(counter)"
   ]
  },
  {
   "cell_type": "code",
   "execution_count": null,
   "metadata": {},
   "outputs": [],
   "source": [
    "labels=[]\n",
    "list_1=[]\n",
    "list_2=[]\n",
    "list_3=[]\n",
    "list_4=[]\n",
    "list_5=[]\n",
    "\n",
    "def put(values, key, lst):\n",
    "    if not key in values:\n",
    "        lst.append(0)\n",
    "    else:\n",
    "        lst.append(values[key])\n",
    "\n",
    "for key_time in sorted(counter):\n",
    "    labels.append(key_time)\n",
    "    if False:\n",
    "        if not \"1.0\" in counter[key_time]:\n",
    "            list_1.append(0)\n",
    "        else:\n",
    "            list_1.append(counter[key_time][\"1.0\"])\n",
    "    put(counter[key_time], \"1.0\", list_1)\n",
    "    put(counter[key_time], \"2.0\", list_2)\n",
    "    put(counter[key_time], \"3.0\", list_3)\n",
    "    put(counter[key_time], \"4.0\", list_4)\n",
    "    put(counter[key_time], \"5.0\", list_5)\n",
    "                \n",
    "print(labels)\n",
    "print(list_1)\n",
    "print(list_2)\n",
    "print(list_3)\n",
    "print(list_4)\n",
    "print(list_5)"
   ]
  },
  {
   "cell_type": "code",
   "execution_count": null,
   "metadata": {},
   "outputs": [],
   "source": [
    "# https://matplotlib.org/stable/gallery/lines_bars_and_markers/bar_stacked.html\n",
    "\n",
    "import matplotlib.pyplot as plt\n",
    "\n",
    "width = 0.35       # the width of the bars: can also be len(x) sequence\n",
    "\n",
    "fig, ax = plt.subplots()\n",
    "\n",
    "ax.bar(labels, list_1, width, label='1')\n",
    "ax.bar(labels, list_2, width, bottom=list_1, label='2')\n",
    "ax.bar(labels, list_3, width, bottom=list_2, label='3')\n",
    "ax.bar(labels, list_4, width, bottom=list_3, label='4')\n",
    "ax.bar(labels, list_5, width, bottom=list_4, label='5')\n",
    "\n",
    "ax.set_ylabel('Scores')\n",
    "ax.set_title('Amazon review scores by months')\n",
    "ax.legend()\n",
    "\n",
    "plt.savefig(file_image)\n",
    "plt.show()"
   ]
  },
  {
   "cell_type": "code",
   "execution_count": null,
   "metadata": {},
   "outputs": [],
   "source": [
    "# https://matplotlib.org/stable/gallery/lines_bars_and_markers/bar_stacked.html\n",
    "\n",
    "if(False):\n",
    "    import matplotlib.pyplot as plt\n",
    "\n",
    "    labels = ['G1', 'G2', 'G3', 'G4', 'G5']\n",
    "    men_means = [20, 35, 30, 35, 27]\n",
    "    women_means = [25, 32, 34, 20, 25]\n",
    "    men_std = [2, 3, 4, 1, 2]\n",
    "    women_std = [3, 5, 2, 3, 3]\n",
    "    width = 0.35       # the width of the bars: can also be len(x) sequence\n",
    "\n",
    "    fig, ax = plt.subplots()\n",
    "\n",
    "    ax.bar(labels, men_means, width, yerr=men_std, label='Men')\n",
    "    ax.bar(labels, women_means, width, yerr=women_std, bottom=men_means,\n",
    "           label='Women')\n",
    "\n",
    "    ax.set_ylabel('Scores')\n",
    "    ax.set_title('Scores by group and gender')\n",
    "    ax.legend()\n",
    "\n",
    "    plt.show()"
   ]
  },
  {
   "cell_type": "code",
   "execution_count": null,
   "metadata": {},
   "outputs": [],
   "source": []
  }
 ],
 "metadata": {
  "language_info": {
   "name": "python",
   "pygments_lexer": "ipython3"
  }
 },
 "nbformat": 4,
 "nbformat_minor": 4
}
