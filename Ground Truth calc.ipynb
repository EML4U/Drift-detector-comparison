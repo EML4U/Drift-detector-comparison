{
 "cells": [
  {
   "cell_type": "code",
   "execution_count": null,
   "metadata": {},
   "outputs": [],
   "source": [
    "import pickle\n",
    "from datetime import timedelta\n",
    "from Classifier import ScorePredictor, balance"
   ]
  },
  {
   "cell_type": "code",
   "execution_count": null,
   "metadata": {},
   "outputs": [],
   "source": [
    "with open('data/movies/embeddings/amazon_ordered_by_time{}.pickle'.format(''), 'rb') as handle:\n",
    "    embs, key = pickle.load(handle)"
   ]
  },
  {
   "cell_type": "code",
   "execution_count": null,
   "metadata": {},
   "outputs": [],
   "source": [
    "scorePred = ScorePredictor()\n",
    "scorePred.load('classifier')"
   ]
  },
  {
   "cell_type": "code",
   "execution_count": null,
   "metadata": {},
   "outputs": [],
   "source": [
    "acc = []\n",
    "\n",
    "for year in range(16):\n",
    "    data = [x for x in list(zip(embs, key)) if key[0][-1] + timedelta(days=365*year) < x[1][-1] < key[0][-1] + timedelta(days=365*(year+1))] # gather amazon reviews of the third year only\n",
    "    data = [list(t) for t in zip(*data)]\n",
    "    data[1] = [x[0]-1 for x in data[1]] # fix class names from 1..5 to 0..4 for easier 1-hot encoding\n",
    "    \n",
    "    X_test, y_test = balance(data[0], data[1])\n",
    "    acc.append(scorePred.evaluate(X_test, y_test)[1])\n",
    "    print('Accuracy of the classifier in year', year+1, ':', acc[-1], 'This is the year on which the classifier was trained!' if year == 2 else '')"
   ]
  },
  {
   "cell_type": "code",
   "execution_count": null,
   "metadata": {},
   "outputs": [],
   "source": []
  }
 ],
 "metadata": {
  "language_info": {
   "name": "python",
   "pygments_lexer": "ipython3"
  }
 },
 "nbformat": 4,
 "nbformat_minor": 4
}
