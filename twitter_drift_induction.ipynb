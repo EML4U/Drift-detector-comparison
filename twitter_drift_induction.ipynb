{
 "cells": [
  {
   "cell_type": "code",
   "execution_count": 1,
   "metadata": {},
   "outputs": [],
   "source": [
    "import pickle\n",
    "from detectors import *\n",
    "import matplotlib.pyplot as plt\n",
    "import numpy as np\n",
    "import time\n",
    "import os"
   ]
  },
  {
   "cell_type": "code",
   "execution_count": 2,
   "metadata": {},
   "outputs": [],
   "source": [
    "def time_fit(det, data):\n",
    "    time_begin = time.time()\n",
    "        \n",
    "    det = det.fit(np.array(data))\n",
    "    \n",
    "    return det, time.time() - time_begin\n",
    "\n",
    "def time_test(det, data):\n",
    "    time_begin = time.time()\n",
    "        \n",
    "    result = det.predict_proba(np.array(data))\n",
    "    \n",
    "    return det, time.time() - time_begin, result\n"
   ]
  },
  {
   "cell_type": "markdown",
   "metadata": {},
   "source": [
    "# load data"
   ]
  },
  {
   "cell_type": "code",
   "execution_count": 3,
   "metadata": {},
   "outputs": [],
   "source": [
    "permutations = 10\n",
    "modes = ['bert_768', 'bow_50', 'bow_768']\n",
    "subsets = {}\n",
    "\n",
    "result_pickle = 'data/results/twitter_drift_induction.pickle'\n",
    "\n",
    "for mode in modes:\n",
    "    with open('data/twitter/twitter_{mode}_drift.pickle'.format(mode=mode), 'rb') as handle:\n",
    "        subsets[mode] = gradual_dict = pickle.load(handle)\n",
    "        \n",
    "target_percentages = [0.05, 0.1, 0.15, 0.2, 0.25, 0.3, 0.35, 0.4, 0.45, 0.5, 0.55, 0.6, 0.65, 0.7, 0.75, 0.8, 0.85, 0.9, 0.95, 1]"
   ]
  },
  {
   "cell_type": "markdown",
   "metadata": {},
   "source": [
    "# initiate detectors"
   ]
  },
  {
   "cell_type": "code",
   "execution_count": 4,
   "metadata": {},
   "outputs": [],
   "source": [
    "detectors = {\n",
    "    'csdd': CosineSimilarityDriftDetector(),\n",
    "    'kts' : KernelTwoSampleDriftDetector(),\n",
    "    'aks' : AlibiKSDetector(),\n",
    "    'ammd': AlibiMMDDetector()\n",
    "}\n"
   ]
  },
  {
   "cell_type": "markdown",
   "metadata": {},
   "source": [
    "# tests"
   ]
  },
  {
   "cell_type": "code",
   "execution_count": null,
   "metadata": {},
   "outputs": [],
   "source": [
    "if os.path.isfile(result_pickle):  # Do not overwrite\n",
    "    print('Loading result pickle: ', result_pickle)\n",
    "    with open(result_pickle, 'rb') as handle:\n",
    "        results = pickle.load(handle)\n",
    "else:\n",
    "    results = {mode: {detector: {} for detector in detectors} for mode in modes}\n",
    "    \n",
    "\n",
    "for mode in modes:\n",
    "    # generating permutations\n",
    "    gradual_dict_orig = [[x for x in subsets[mode]['orig'][0][i::permutations]] for i in range(permutations)]\n",
    "    gradual_dict_drifted = [[] for i in range(permutations)]\n",
    "    for percentage in subsets[mode]['drifted'][0]:\n",
    "        sliced = [[x for x in percentage[i::permutations]] for i in range(permutations)]\n",
    "        for i in range(permutations):\n",
    "            gradual_dict_drifted[i].append(sliced[i])\n",
    "        \n",
    "    \n",
    "    for detector in detectors:\n",
    "        if not detector in results[mode]:\n",
    "            results[mode][detector] = {}\n",
    "        if 'predictions' in results[mode][detector]: # skip already computed\n",
    "            continue\n",
    "        \n",
    "        results[mode][detector]['predictions'] = {i: [] for i in range(len(gradual_dict_orig))}\n",
    "        results[mode][detector]['time_detect'] = {i: [] for i in range(len(gradual_dict_orig))}\n",
    "        \n",
    "        for permutation in range(permutations):\n",
    "        \n",
    "            det, t = time_fit(detectors[detector], gradual_dict_orig[permutation])\n",
    "            results[mode][detector]['time_fit'] = t\n",
    "\n",
    "            for percentage in gradual_dict_drifted[permutation]:\n",
    "                det_2, t, res = time_test(det, percentage)\n",
    "                results[mode][detector]['predictions'][permutation].append(res)\n",
    "                results[mode][detector]['time_detect'][permutation].append(t)\n",
    "\n",
    "with open(result_pickle, 'wb') as handle:\n",
    "    pickle.dump(results, handle)\n",
    "    "
   ]
  },
  {
   "cell_type": "markdown",
   "metadata": {},
   "source": [
    "# plot graphs"
   ]
  },
  {
   "cell_type": "code",
   "execution_count": null,
   "metadata": {},
   "outputs": [],
   "source": [
    "for mode in modes:\n",
    "    for detector in detectors:\n",
    "        means = []\n",
    "        for n in range(len(results[mode][detector]['predictions'][0])):\n",
    "            nth_entries = [results[mode][detector]['predictions'][i][n] for i in range(permutations)]\n",
    "            means.append(np.mean(nth_entries))\n",
    "            \n",
    "        plt.plot(means)\n",
    "        plt.xticks(ticks=np.arange(len(target_percentages)), labels=target_percentages, rotation=60)\n",
    "        plt.savefig('figures/by_dataset/twitter_{mode}_drift_induction_{detector}.pdf'.format(mode=mode, detector=detector), format='pdf')\n",
    "        plt.show()\n",
    "        \n",
    "    for detector in detectors:\n",
    "        means = []\n",
    "        for n in range(len(results[mode][detector]['predictions'][0])):\n",
    "            nth_entries = [results[mode][detector]['predictions'][i][n] for i in range(permutations)]\n",
    "            means.append(np.mean(nth_entries))\n",
    "            \n",
    "        plt.plot(means)\n",
    "    plt.xticks(ticks=np.arange(len(target_percentages)), labels=target_percentages, rotation=60)\n",
    "    plt.savefig('figures/by_dataset/twitter_{mode}_drift_induction_all.pdf'.format(mode=mode), format='pdf')\n",
    "    plt.show()"
   ]
  },
  {
   "cell_type": "code",
   "execution_count": null,
   "metadata": {},
   "outputs": [],
   "source": [
    "print(results)"
   ]
  },
  {
   "cell_type": "code",
   "execution_count": null,
   "metadata": {},
   "outputs": [],
   "source": []
  }
 ],
 "metadata": {
  "kernelspec": {
   "display_name": "Python 3",
   "language": "python",
   "name": "python3"
  },
  "language_info": {
   "codemirror_mode": {
    "name": "ipython",
    "version": 3
   },
   "file_extension": ".py",
   "mimetype": "text/x-python",
   "name": "python",
   "nbconvert_exporter": "python",
   "pygments_lexer": "ipython3",
   "version": "3.8.5"
  }
 },
 "nbformat": 4,
 "nbformat_minor": 4
}
