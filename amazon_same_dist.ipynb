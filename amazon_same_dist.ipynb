{
 "cells": [
  {
   "cell_type": "code",
   "execution_count": null,
   "metadata": {},
   "outputs": [],
   "source": [
    "import pickle\n",
    "from detectors import *\n",
    "import matplotlib.pyplot as plt\n",
    "import numpy as np\n",
    "import time\n",
    "import os"
   ]
  },
  {
   "cell_type": "code",
   "execution_count": null,
   "metadata": {},
   "outputs": [],
   "source": [
    "def time_fit(det, data, labels):\n",
    "    time_begin = time.time()\n",
    "        \n",
    "    det = det.fit(np.array(data), targets=np.array(labels))\n",
    "    \n",
    "    return det, time.time() - time_begin\n",
    "\n",
    "def time_test(det, data):\n",
    "    time_begin = time.time()\n",
    "        \n",
    "    result = det.predict_proba(np.array(data))\n",
    "    \n",
    "    return det, time.time() - time_begin, result\n"
   ]
  },
  {
   "cell_type": "markdown",
   "metadata": {},
   "source": [
    "# load data"
   ]
  },
  {
   "cell_type": "code",
   "execution_count": null,
   "metadata": {},
   "outputs": [],
   "source": [
    "modes = ['bert_768', 'bow_50', 'bow_768']\n",
    "subsets = {}\n",
    "num_permutations = 10\n",
    "\n",
    "result_pickle = 'data/results/amazon_same_dist.pickle'\n",
    "\n",
    "for mode in modes:\n",
    "    with open('data/movies/embeddings/amazon_{mode}_same_dist.pickle'.format(mode=mode), 'rb') as handle:\n",
    "        subsets[mode] = permutations_embs, permutation_keys = pickle.load(handle)['data']"
   ]
  },
  {
   "cell_type": "markdown",
   "metadata": {},
   "source": [
    "# initiate detectors"
   ]
  },
  {
   "cell_type": "code",
   "execution_count": null,
   "metadata": {},
   "outputs": [],
   "source": [
    "detectors = {\n",
    "    'csdd': CosineSimilarityDriftDetector(),\n",
    "    'kts' : KernelTwoSampleDriftDetector(),\n",
    "    'aks' : AlibiKSDetector(),\n",
    "    'ammd': AlibiMMDDetector(),\n",
    "    'lsdd': AlibiLSDDDetector(),\n",
    "    'cdbd': CDBDDetector()\n",
    "}"
   ]
  },
  {
   "cell_type": "markdown",
   "metadata": {},
   "source": [
    "# tests"
   ]
  },
  {
   "cell_type": "code",
   "execution_count": null,
   "metadata": {},
   "outputs": [],
   "source": [
    "\n",
    "if os.path.isfile(result_pickle):  # Do not overwrite\n",
    "    print('Loading result pickle: ', result_pickle)\n",
    "    with open(result_pickle, 'rb') as handle:\n",
    "        results = pickle.load(handle)\n",
    "else:\n",
    "    results = {mode: {detector: {} for detector in detectors} for mode in modes}\n",
    "\n",
    "for detector in detectors:\n",
    "    for mode in modes:\n",
    "        if not detector in results[mode]:\n",
    "            results[mode][detector] = {}\n",
    "        if 'predictions' in results[mode][detector]: # skip already computed\n",
    "            continue\n",
    "        \n",
    "        results[mode][detector]['predictions'] = []\n",
    "        \n",
    "        if detector == 'cdbd':\n",
    "            fit_set = subsets[mode][0][0]\n",
    "            for p in subsets[mode][0][num_permutations+1:]:\n",
    "                fit_set.extend(p)\n",
    "            fit_label = [x[1] for x in subsets[mode][1][0]]\n",
    "            for p in subsets[mode][0][num_permutations+1:]:\n",
    "                fit_set.extend(p)\n",
    "        else:\n",
    "            fit_set = subsets[mode][0][0]\n",
    "            fit_label = [x[1] for x in subsets[mode][1][0]]\n",
    "            for p in subsets[mode][1][num_permutations+1:]:\n",
    "                fit_label.extend(p)\n",
    "        \n",
    "        det, t = time_fit(detectors[detector],\n",
    "                          fit_set,\n",
    "                          fit_label\n",
    "                          )\n",
    "        results[mode][detector]['time_fit'] = t\n",
    "        results[mode][detector]['time_detect'] = []\n",
    "        \n",
    "        for permutation in subsets[mode][0][1:num_permutations+1]:\n",
    "            det_2, t, res = time_test(det, permutation)\n",
    "            results[mode][detector]['predictions'].append(res)\n",
    "            results[mode][detector]['time_detect'].append(t)\n",
    "\n",
    "with open(result_pickle, 'wb') as handle:\n",
    "    pickle.dump(results, handle)"
   ]
  },
  {
   "cell_type": "code",
   "execution_count": null,
   "metadata": {},
   "outputs": [],
   "source": [
    "print(results)"
   ]
  },
  {
   "cell_type": "code",
   "execution_count": null,
   "metadata": {},
   "outputs": [],
   "source": []
  }
 ],
 "metadata": {
  "language_info": {
   "name": "python",
   "pygments_lexer": "ipython3"
  }
 },
 "nbformat": 4,
 "nbformat_minor": 4
}
