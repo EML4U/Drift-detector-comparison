{
 "cells": [
  {
   "cell_type": "code",
   "execution_count": null,
   "metadata": {},
   "outputs": [],
   "source": [
    "import pickle\n",
    "from detectors import *\n",
    "import matplotlib.pyplot as plt\n",
    "import numpy as np"
   ]
  },
  {
   "cell_type": "markdown",
   "metadata": {},
   "source": [
    "# load data"
   ]
  },
  {
   "cell_type": "code",
   "execution_count": null,
   "metadata": {},
   "outputs": [],
   "source": [
    "with open('data/movies/embeddings/amazon_drift_bert_768.pickle', 'rb') as handle:\n",
    "    gradual_dict = pickle.load(handle)\n",
    "    \n",
    "from generator_amazon_movie_drift_data import target_percentages"
   ]
  },
  {
   "cell_type": "markdown",
   "metadata": {},
   "source": [
    "# initiate detectors"
   ]
  },
  {
   "cell_type": "code",
   "execution_count": null,
   "metadata": {},
   "outputs": [],
   "source": [
    "detectors = {}\n",
    "\n",
    "csdd = CosineSimilarityDriftDetector()\n",
    "csdd.fit(gradual_dict['orig'][0])\n",
    "detectors['csdd'] = csdd\n",
    "\n",
    "kts = KernelTwoSampleDriftDetector()\n",
    "kts.fit(gradual_dict['orig'][0])\n",
    "detectors['kts'] = kts\n",
    "\n",
    "aks = AlibiKSDetector()\n",
    "aks.fit(gradual_dict['orig'][0])\n",
    "detectors['aks'] = aks\n",
    "\n",
    "acs = AlibiChiSquaredDetector()\n",
    "acs.fit(gradual_dict['orig'][0])\n",
    "detectors['acs'] = acs\n",
    "\n",
    "ammd = AlibiMMDDetector()\n",
    "ammd.fit(gradual_dict['orig'][0])\n",
    "detectors['ammd'] = ammd"
   ]
  },
  {
   "cell_type": "markdown",
   "metadata": {},
   "source": [
    "# tests"
   ]
  },
  {
   "cell_type": "code",
   "execution_count": null,
   "metadata": {},
   "outputs": [],
   "source": [
    "results = {x: [] for x in detectors}\n",
    "\n",
    "for detector in detectors:\n",
    "    for percentage in gradual_dict['drifted'][0]:\n",
    "        results[detector].append(detectors[detector].predict_proba(percentage))"
   ]
  },
  {
   "cell_type": "markdown",
   "metadata": {},
   "source": [
    "# plot graphs"
   ]
  },
  {
   "cell_type": "code",
   "execution_count": null,
   "metadata": {},
   "outputs": [],
   "source": [
    "for result in results:\n",
    "    plt.plot(results[result])\n",
    "    plt.xticks(ticks=np.arange(len(target_percentages)), labels=target_percentages, rotation=60)\n",
    "    plt.savefig('figures/by_dataset/amazon_bert_768_drift_induction/{}.pdf'.format(result), format='pdf')\n",
    "    plt.show()\n",
    "    \n",
    "for result in results:\n",
    "    plt.plot(results[result])\n",
    "\n",
    "plt.xticks(ticks=np.arange(len(target_percentages)), labels=target_percentages, rotation=60)\n",
    "plt.savefig('figures/by_dataset/amazon_bert_768_drift_induction/{}.pdf'.format('all'), format='pdf')\n",
    "plt.show()"
   ]
  },
  {
   "cell_type": "code",
   "execution_count": null,
   "metadata": {},
   "outputs": [],
   "source": [
    "print(results)"
   ]
  },
  {
   "cell_type": "code",
   "execution_count": null,
   "metadata": {},
   "outputs": [],
   "source": []
  }
 ],
 "metadata": {
  "language_info": {
   "name": "python",
   "pygments_lexer": "ipython3"
  }
 },
 "nbformat": 4,
 "nbformat_minor": 4
}
