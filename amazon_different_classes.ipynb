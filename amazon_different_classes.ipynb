{
 "cells": [
  {
   "cell_type": "code",
   "execution_count": 1,
   "metadata": {},
   "outputs": [],
   "source": [
    "import pickle\n",
    "from detectors import *\n",
    "import matplotlib.pyplot as plt\n",
    "import numpy as np\n",
    "import random\n",
    "import time\n",
    "import os"
   ]
  },
  {
   "cell_type": "code",
   "execution_count": 2,
   "metadata": {},
   "outputs": [],
   "source": [
    "def time_fit(det, data):\n",
    "    time_begin = time.time()\n",
    "        \n",
    "    det = det.fit(np.array(data))\n",
    "    \n",
    "    return det, time.time() - time_begin\n",
    "\n",
    "def time_test(det, data):\n",
    "    time_begin = time.time()\n",
    "        \n",
    "    result = det.predict_proba(np.array(data))\n",
    "    \n",
    "    return det, time.time() - time_begin, result\n"
   ]
  },
  {
   "cell_type": "markdown",
   "metadata": {},
   "source": [
    "# load data"
   ]
  },
  {
   "cell_type": "code",
   "execution_count": 3,
   "metadata": {},
   "outputs": [],
   "source": [
    "modes = ['bert_768', 'bow_50', 'bow_768']\n",
    "subsets = {}\n",
    "permutations = 10\n",
    "max_length = 1000\n",
    "\n",
    "result_pickle = 'data/results/amazon_diff_classes.pickle'\n",
    "\n",
    "for mode in modes:\n",
    "    subsets[mode] = {}\n",
    "    with open('data/movies/embeddings/amazon_{mode}_different_classes.pickle'.format(mode=mode), 'rb') as handle:\n",
    "        data = pickle.load(handle)\n",
    "        for _class in range(len(data)):\n",
    "            unpermutated = data[_class][0]\n",
    "            random.shuffle(unpermutated)\n",
    "            unpermutated = unpermutated[:max_length*permutations]\n",
    "            permutated = [[x for x in unpermutated[i::permutations]] for i in range(permutations)]\n",
    "            subsets[mode][_class] = permutated\n",
    "    "
   ]
  },
  {
   "cell_type": "markdown",
   "metadata": {},
   "source": [
    "# initiate detectors"
   ]
  },
  {
   "cell_type": "code",
   "execution_count": 4,
   "metadata": {},
   "outputs": [],
   "source": [
    "detectors = {\n",
    "    'csdd': CosineSimilarityDriftDetector(),\n",
    "    'kts' : KernelTwoSampleDriftDetector(),\n",
    "    'aks' : AlibiKSDetector(),\n",
    "    'ammd': AlibiMMDDetector(),\n",
    "    'lsdd': AlibiLSDDDetector(),\n",
    "}"
   ]
  },
  {
   "cell_type": "markdown",
   "metadata": {},
   "source": [
    "# tests"
   ]
  },
  {
   "cell_type": "code",
   "execution_count": 5,
   "metadata": {},
   "outputs": [
    {
     "name": "stdout",
     "output_type": "stream",
     "text": [
      "Loading result pickle:  data/results/amazon_diff_classes.pickle\n"
     ]
    },
    {
     "name": "stderr",
     "output_type": "stream",
     "text": [
      "/home/rfeldhans/.local/lib/python3.8/site-packages/alibi_detect/utils/pytorch/distance.py:143: UserWarning: This overload of nonzero is deprecated:\n",
      "\tnonzero()\n",
      "Consider using one of the following signatures instead:\n",
      "\tnonzero(*, bool as_tuple) (Triggered internally at  /pytorch/torch/csrc/utils/python_arg_parser.cpp:766.)\n",
      "  lam_index = (rds < lam_rd_max).nonzero()[0]\n"
     ]
    }
   ],
   "source": [
    "\n",
    "if os.path.isfile(result_pickle):  # Do not overwrite\n",
    "    print('Loading result pickle: ', result_pickle)\n",
    "    with open(result_pickle, 'rb') as handle:\n",
    "        results = pickle.load(handle)\n",
    "else:\n",
    "    results = {mode: {detector: {} for detector in detectors} for mode in modes}\n",
    "\n",
    "    \n",
    "for detector in detectors:\n",
    "    for mode in modes:\n",
    "        if not detector in results[mode]:\n",
    "            results[mode][detector] = {}\n",
    "        if 'predictions' in results[mode][detector]: # skip already computed\n",
    "            continue\n",
    "        \n",
    "        results[mode][detector]['predictions'] = []\n",
    "        results[mode][detector]['time_detect'] = []\n",
    "        \n",
    "        for perm in range(permutations):\n",
    "            det, t = time_fit(detectors[detector], subsets[mode][0][perm])\n",
    "            results[mode][detector]['time_fit'] = t\n",
    "            det_2, t, res = time_test(det, subsets[mode][4][perm])\n",
    "            results[mode][detector]['predictions'].append(res)\n",
    "            results[mode][detector]['time_detect'].append(t)\n",
    "\n",
    "with open(result_pickle, 'wb') as handle:\n",
    "    pickle.dump(results, handle)"
   ]
  },
  {
   "cell_type": "code",
   "execution_count": 6,
   "metadata": {},
   "outputs": [
    {
     "name": "stdout",
     "output_type": "stream",
     "text": [
      "{'bert_768': {'csdd': {'predictions': [0.40200058, 0.39733264, 0.41016585, 0.4184376, 0.399518, 0.4051092, 0.4195111, 0.39835742, 0.39016247, 0.40259495], 'time_detect': [0.017508983612060547, 0.018219947814941406, 0.024643421173095703, 0.03472256660461426, 0.03407645225524902, 0.03410911560058594, 0.02477240562438965, 0.018114566802978516, 0.01798391342163086, 0.018001794815063477], 'time_fit': 0.0019843578338623047}, 'kts': {'predictions': [0.002, 0.002, 0.002, 0.002, 0.002, 0.002, 0.002, 0.002, 0.002, 0.002], 'time_detect': [35.03440976142883, 34.81064295768738, 34.487727880477905, 34.523043155670166, 34.594449520111084, 35.124234199523926, 34.7649872303009, 34.72741913795471, 34.75870084762573, 34.87713027000427], 'time_fit': 0.0014495849609375}, 'aks': {'predictions': [0.010624684, 0.011450323, 0.011923821, 0.013114604, 0.012836535, 0.014982406, 0.012036391, 0.01291044, 0.013991681, 0.01180784], 'time_detect': [0.1708979606628418, 0.1697983741760254, 0.16942143440246582, 0.16883230209350586, 0.1690959930419922, 0.16893434524536133, 0.16965961456298828, 0.16887354850769043, 0.1695258617401123, 0.1685199737548828], 'time_fit': 0.0011029243469238281}, 'ammd': {'predictions': [0.0, 0.0, 0.0, 0.0, 0.0, 0.0, 0.0, 0.0, 0.0, 0.0], 'time_detect': [1.1438426971435547, 1.1597225666046143, 1.1550750732421875, 1.1271629333496094, 1.2387211322784424, 1.093740463256836, 1.2047805786132812, 1.2297542095184326, 1.1226565837860107, 1.0569953918457031], 'time_fit': 0.11774230003356934}, 'lsdd': {'predictions': [0.0, 0.0, 0.0, 0.0, 0.0, 0.0, 0.0, 0.0, 0.0, 0.0], 'time_detect': [0.015075922012329102, 0.010416507720947266, 0.010491609573364258, 0.010246753692626953, 0.010165691375732422, 0.010215997695922852, 0.010329723358154297, 0.010254621505737305, 0.010143041610717773, 0.010123729705810547], 'time_fit': 0.0068128108978271484}}, 'bow_50': {'csdd': {'predictions': [0.8272977, 0.81624013, 0.82339483, 0.82782096, 0.8280771, 0.82252425, 0.8272151, 0.82464725, 0.8252102, 0.8278559], 'time_detect': [0.01590895652770996, 0.01606440544128418, 0.01571035385131836, 0.015659570693969727, 0.015885591506958008, 0.01585078239440918, 0.015761137008666992, 0.016061067581176758, 0.01601409912109375, 0.015794992446899414], 'time_fit': 0.0010478496551513672}, 'kts': {'predictions': [0.002, 0.002, 0.002, 0.002, 0.002, 0.002, 0.002, 0.002, 0.002, 0.002], 'time_detect': [36.19678807258606, 36.35773730278015, 36.3496675491333, 36.5372314453125, 36.636290311813354, 36.360992193222046, 36.40388584136963, 36.31585478782654, 36.55750298500061, 36.522167682647705], 'time_fit': 0.00043773651123046875}, 'aks': {'predictions': [0.052384533, 0.09099466, 0.052684136, 0.06751662, 0.08028912, 0.08077151, 0.08170125, 0.08626898, 0.06659903, 0.049637746], 'time_detect': [0.011280059814453125, 0.011287927627563477, 0.01124119758605957, 0.011212587356567383, 0.01118326187133789, 0.011269330978393555, 0.011274576187133789, 0.011219024658203125, 0.011162042617797852, 0.011173725128173828], 'time_fit': 0.00046443939208984375}, 'ammd': {'predictions': [0.0, 0.0, 0.0, 0.0, 0.0, 0.0, 0.0, 0.0, 0.0, 0.0], 'time_detect': [1.0158107280731201, 1.159637451171875, 1.049166202545166, 1.1431162357330322, 1.0961158275604248, 1.0348222255706787, 1.0314240455627441, 1.0410804748535156, 1.0361435413360596, 1.0433800220489502], 'time_fit': 0.11390328407287598}, 'lsdd': {'predictions': [0.0, 0.0, 0.0, 0.0, 0.0, 0.0, 0.0, 0.0, 0.0, 0.0], 'time_detect': [0.008888483047485352, 0.008776426315307617, 0.00889444351196289, 0.009660005569458008, 0.008836507797241211, 0.008735418319702148, 0.008710145950317383, 0.008715391159057617, 0.008699417114257812, 0.008717536926269531], 'time_fit': 0.003916025161743164}}, 'bow_768': {'csdd': {'predictions': [0.93174136, 0.9354361, 0.9307468, 0.93482375, 0.93594515, 0.9346288, 0.93545663, 0.93232715, 0.93335426, 0.92964494], 'time_detect': [0.017840147018432617, 0.017930269241333008, 0.0181272029876709, 0.017890453338623047, 0.017908096313476562, 0.01807403564453125, 0.018050193786621094, 0.018033981323242188, 0.01818680763244629, 0.017946958541870117], 'time_fit': 0.002077817916870117}, 'kts': {'predictions': [0.002, 0.002, 0.002, 0.002, 0.002, 0.002, 0.002, 0.002, 0.002, 0.002], 'time_detect': [35.14144849777222, 35.2908992767334, 35.408196687698364, 35.48240399360657, 35.38255834579468, 35.37439560890198, 35.402215003967285, 35.71391558647156, 35.427239418029785, 35.38431477546692], 'time_fit': 0.0014615058898925781}, 'aks': {'predictions': [0.11011252, 0.0967941, 0.08084756, 0.08645319, 0.098976396, 0.068673685, 0.10819801, 0.07004648, 0.08835477, 0.061076347], 'time_detect': [0.17075562477111816, 0.17081856727600098, 0.170609712600708, 0.17069149017333984, 0.1708087921142578, 0.1706373691558838, 0.1706528663635254, 0.1704237461090088, 0.17074012756347656, 0.17061090469360352], 'time_fit': 0.0011262893676757812}, 'ammd': {'predictions': [0.0, 0.0, 0.0, 0.0, 0.0, 0.0, 0.0, 0.0, 0.0, 0.0], 'time_detect': [1.0720429420471191, 1.0883781909942627, 1.0522284507751465, 1.0609312057495117, 1.0117402076721191, 1.024007797241211, 1.0752594470977783, 1.0513153076171875, 1.0157053470611572, 1.036977767944336], 'time_fit': 0.12664294242858887}, 'lsdd': {'predictions': [0.0, 0.0, 0.0, 0.0, 0.0, 0.0, 0.0, 0.0, 0.0, 0.0], 'time_detect': [0.010188817977905273, 0.010151147842407227, 0.010092020034790039, 0.010102033615112305, 0.010138750076293945, 0.010111808776855469, 0.010203838348388672, 0.01010894775390625, 0.010128021240234375, 0.010119915008544922], 'time_fit': 0.00680851936340332}}}\n"
     ]
    }
   ],
   "source": [
    "print(results)"
   ]
  },
  {
   "cell_type": "code",
   "execution_count": null,
   "metadata": {},
   "outputs": [],
   "source": []
  }
 ],
 "metadata": {
  "kernelspec": {
   "display_name": "Python 3",
   "language": "python",
   "name": "python3"
  },
  "language_info": {
   "codemirror_mode": {
    "name": "ipython",
    "version": 3
   },
   "file_extension": ".py",
   "mimetype": "text/x-python",
   "name": "python",
   "nbconvert_exporter": "python",
   "pygments_lexer": "ipython3",
   "version": "3.8.5"
  }
 },
 "nbformat": 4,
 "nbformat_minor": 4
}
