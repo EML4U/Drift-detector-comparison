{
 "cells": [
  {
   "cell_type": "code",
   "execution_count": 1,
   "metadata": {},
   "outputs": [],
   "source": [
    "import pickle\n",
    "from detectors import *\n",
    "import matplotlib.pyplot as plt\n",
    "import numpy as np\n",
    "import random\n",
    "import time\n",
    "import os"
   ]
  },
  {
   "cell_type": "code",
   "execution_count": 2,
   "metadata": {},
   "outputs": [],
   "source": [
    "def time_fit(det, data):\n",
    "    time_begin = time.time()\n",
    "        \n",
    "    det = det.fit(np.array(data))\n",
    "    \n",
    "    return det, time.time() - time_begin\n",
    "\n",
    "def time_test(det, data):\n",
    "    time_begin = time.time()\n",
    "        \n",
    "    result = det.predict_proba(np.array(data))\n",
    "    \n",
    "    return det, time.time() - time_begin, result\n"
   ]
  },
  {
   "cell_type": "markdown",
   "metadata": {},
   "source": [
    "# load data"
   ]
  },
  {
   "cell_type": "code",
   "execution_count": 3,
   "metadata": {},
   "outputs": [],
   "source": [
    "modes = ['bert_768', 'bow_50', 'bow_768']\n",
    "subsets = {}\n",
    "permutations = 10\n",
    "max_length = 1000\n",
    "\n",
    "result_pickle = 'data/results/amazon_diff_classes.pickle'\n",
    "\n",
    "for mode in modes:\n",
    "    subsets[mode] = {}\n",
    "    with open('data/movies/embeddings/amazon_{mode}_different_classes.pickle'.format(mode=mode), 'rb') as handle:\n",
    "        data = pickle.load(handle)\n",
    "        for _class in range(len(data)):\n",
    "            unpermutated = data[_class][0]\n",
    "            random.shuffle(unpermutated)\n",
    "            unpermutated = unpermutated[:max_length*permutations]\n",
    "            permutated = [[x for x in unpermutated[i::permutations]] for i in range(permutations)]\n",
    "            subsets[mode][_class] = permutated\n",
    "    "
   ]
  },
  {
   "cell_type": "markdown",
   "metadata": {},
   "source": [
    "# initiate detectors"
   ]
  },
  {
   "cell_type": "code",
   "execution_count": 4,
   "metadata": {},
   "outputs": [],
   "source": [
    "detectors = {\n",
    "    'csdd': CosineSimilarityDriftDetector(),\n",
    "    'kts' : KernelTwoSampleDriftDetector(),\n",
    "    'aks' : AlibiKSDetector(),\n",
    "    'ammd': AlibiMMDDetector()\n",
    "}"
   ]
  },
  {
   "cell_type": "markdown",
   "metadata": {},
   "source": [
    "# tests"
   ]
  },
  {
   "cell_type": "code",
   "execution_count": null,
   "metadata": {},
   "outputs": [],
   "source": [
    "\n",
    "if os.path.isfile(result_pickle):  # Do not overwrite\n",
    "    print('Loading result pickle: ', result_pickle)\n",
    "    with open(result_pickle, 'rb') as handle:\n",
    "        results = pickle.load(handle)\n",
    "else:\n",
    "    results = {mode: {detector: {} for detector in detectors} for mode in modes}\n",
    "\n",
    "    \n",
    "for detector in detectors:\n",
    "    for mode in modes:\n",
    "        if not detector in results[mode]:\n",
    "            results[mode][detector] = {}\n",
    "        if 'predictions' in results[mode][detector]: # skip already computed\n",
    "            continue\n",
    "        \n",
    "        results[mode][detector]['predictions'] = []\n",
    "        results[mode][detector]['time_detect'] = []\n",
    "        \n",
    "        for perm in range(permutations):\n",
    "            det, t = time_fit(detectors[detector], subsets[mode][0][perm])\n",
    "            results[mode][detector]['time_fit'] = t\n",
    "            det_2, t, res = time_test(det, subsets[mode][4][perm])\n",
    "            results[mode][detector]['predictions'].append(res)\n",
    "            results[mode][detector]['time_detect'].append(t)\n",
    "\n",
    "with open(result_pickle, 'wb') as handle:\n",
    "    pickle.dump(results, handle)"
   ]
  },
  {
   "cell_type": "code",
   "execution_count": null,
   "metadata": {},
   "outputs": [],
   "source": [
    "print(results)"
   ]
  },
  {
   "cell_type": "code",
   "execution_count": null,
   "metadata": {},
   "outputs": [],
   "source": []
  }
 ],
 "metadata": {
  "kernelspec": {
   "display_name": "Python 3",
   "language": "python",
   "name": "python3"
  },
  "language_info": {
   "codemirror_mode": {
    "name": "ipython",
    "version": 3
   },
   "file_extension": ".py",
   "mimetype": "text/x-python",
   "name": "python",
   "nbconvert_exporter": "python",
   "pygments_lexer": "ipython3",
   "version": "3.8.5"
  }
 },
 "nbformat": 4,
 "nbformat_minor": 4
}
