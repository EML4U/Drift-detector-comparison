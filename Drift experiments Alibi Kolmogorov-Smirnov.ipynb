{
 "cells": [
  {
   "cell_type": "markdown",
   "metadata": {},
   "source": [
    "# Alibi Detect / Kolmogorov-Smirnov\n",
    "\n",
    "See: https://docs.seldon.io/projects/alibi-detect/en/stable/methods/ksdrift.html"
   ]
  },
  {
   "cell_type": "code",
   "execution_count": 1,
   "metadata": {},
   "outputs": [],
   "source": [
    "import pickle\n",
    "import matplotlib.pyplot as plt\n",
    "\n",
    "from detectors.AlibiKSDetector import AlibiKSDetector"
   ]
  },
  {
   "cell_type": "markdown",
   "metadata": {},
   "source": [
    "# load data"
   ]
  },
  {
   "cell_type": "code",
   "execution_count": 2,
   "metadata": {},
   "outputs": [],
   "source": [
    "# Robert\n",
    "file = 'data/movies/embeddings/amazon_small_gradual_drift.pickle'\n",
    "\n",
    "# EML4U Experiment server\n",
    "file = '../../data/amazon/amazon_small_gradual_drift.pickle'\n",
    "\n",
    "with open(file, 'rb') as handle:\n",
    "    gradual_dict = pickle.load(handle)"
   ]
  },
  {
   "cell_type": "markdown",
   "metadata": {},
   "source": [
    "# initiate detector"
   ]
  },
  {
   "cell_type": "code",
   "execution_count": 3,
   "metadata": {},
   "outputs": [
    {
     "data": {
      "text/plain": [
       "AlibiKSDetector()"
      ]
     },
     "execution_count": 3,
     "metadata": {},
     "output_type": "execute_result"
    }
   ],
   "source": [
    "aks = AlibiKSDetector()\n",
    "aks.fit(gradual_dict['orig'][0])"
   ]
  },
  {
   "cell_type": "markdown",
   "metadata": {},
   "source": [
    "# general tests"
   ]
  },
  {
   "cell_type": "code",
   "execution_count": 4,
   "metadata": {},
   "outputs": [
    {
     "name": "stdout",
     "output_type": "stream",
     "text": [
      "[1, 1, 1, 1, 1, 1, 1, 1, 1, 1, 1]\n",
      "[0.5200144, 0.5191645, 0.51923823, 0.5192277, 0.519272, 0.51934284, 0.519196, 0.51936626, 0.5192465, 0.51937175, 0.51935405]\n"
     ]
    }
   ],
   "source": [
    "# Boolean values\n",
    "if(True):\n",
    "    p_s = []\n",
    "    for percentage in gradual_dict['drifted'][0]:\n",
    "        p_s.append(aks.predict(percentage))\n",
    "    print(p_s)\n",
    "\n",
    "# Float values\n",
    "if(True):\n",
    "    p_s = []\n",
    "    for percentage in gradual_dict['drifted'][0]:\n",
    "        p_s.append(aks.predict_proba(percentage))\n",
    "    print(p_s)\n",
    "\n",
    "# Tests parameter 'alternative'\n",
    "#\n",
    "# less\n",
    "#[1, 1, 1, 1, 1, 1, 1, 1, 1, 1, 1]\n",
    "#[0.4987054, 0.4982303, 0.49879575, 0.49862203, 0.49844822, 0.49860978, 0.4985071, 0.49870992, 0.49863553, 0.49857917, 0.49852252]\n",
    "#\n",
    "# greater\n",
    "#[0, 0, 0, 0, 0, 0, 0, 0, 0, 0, 0]\n",
    "#[0.51410437, 0.51441544, 0.51414794, 0.51432794, 0.51405597, 0.5141818, 0.51396865, 0.5141569, 0.51398176, 0.5140256, 0.51404124]\n",
    "#\n",
    "# no alternative\n",
    "#[1, 1, 1, 1, 1, 1, 1, 1, 1, 1, 1]\n",
    "#[0.5200144, 0.5191645, 0.51923823, 0.5192277, 0.519272, 0.51934284, 0.519196, 0.51936626, 0.5192465, 0.51937175, 0.51935405]"
   ]
  },
  {
   "cell_type": "markdown",
   "metadata": {},
   "source": [
    "# plotting results"
   ]
  },
  {
   "cell_type": "code",
   "execution_count": 5,
   "metadata": {},
   "outputs": [
    {
     "data": {
      "text/plain": [
       "[<matplotlib.lines.Line2D at 0x7fdc6ad7a970>]"
      ]
     },
     "execution_count": 5,
     "metadata": {},
     "output_type": "execute_result"
    },
    {
     "data": {
      "image/png": "[encoded data removed]",
      "text/plain": [
       "<Figure size 432x288 with 1 Axes>"
      ]
     },
     "metadata": {
      "needs_background": "light"
     },
     "output_type": "display_data"
    }
   ],
   "source": [
    "plt.plot(p_s)"
   ]
  },
  {
   "cell_type": "code",
   "execution_count": null,
   "metadata": {},
   "outputs": [],
   "source": []
  }
 ],
 "metadata": {
  "kernelspec": {
   "display_name": "Python (EML4U)",
   "language": "python",
   "name": "eml4u"
  },
  "language_info": {
   "codemirror_mode": {
    "name": "ipython",
    "version": 3
   },
   "file_extension": ".py",
   "mimetype": "text/x-python",
   "name": "python",
   "nbconvert_exporter": "python",
   "pygments_lexer": "ipython3",
   "version": "3.8.5"
  }
 },
 "nbformat": 4,
 "nbformat_minor": 4
}

