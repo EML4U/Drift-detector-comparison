{
 "cells": [
  {
   "cell_type": "code",
   "execution_count": null,
   "metadata": {},
   "outputs": [],
   "source": [
    "import pickle\n",
    "from detectors import *\n",
    "import matplotlib.pyplot as plt\n",
    "import numpy as np\n",
    "import random"
   ]
  },
  {
   "cell_type": "markdown",
   "metadata": {},
   "source": [
    "# load data"
   ]
  },
  {
   "cell_type": "code",
   "execution_count": null,
   "metadata": {},
   "outputs": [],
   "source": [
    "with open('data/twitter/biden_embeddings.pickle', 'rb') as handle:\n",
    "    biden = pickle.load(handle)\n",
    "with open('data/twitter/trump_embeddings.pickle', 'rb') as handle:\n",
    "    trump = pickle.load(handle)"
   ]
  },
  {
   "cell_type": "code",
   "execution_count": null,
   "metadata": {},
   "outputs": [],
   "source": [
    "random.shuffle(biden)\n",
    "random.shuffle(trump)\n",
    "\n",
    "chunk_size = 1000\n",
    "\n",
    "biden_chunks = [[list(x) for x in zip(*biden[i:i + chunk_size])][1] for i in range(0, len(biden), chunk_size)]\n",
    "trump_chunks = [[list(x) for x in zip(*trump[i:i + chunk_size])][1] for i in range(0, len(trump), chunk_size)]"
   ]
  },
  {
   "cell_type": "markdown",
   "metadata": {},
   "source": [
    "# initiate detectors"
   ]
  },
  {
   "cell_type": "code",
   "execution_count": null,
   "metadata": {},
   "outputs": [],
   "source": [
    "detectors = {}\n",
    "\n",
    "csdd = CosineSimilarityDriftDetector()\n",
    "detectors['csdd'] = csdd\n",
    "\n",
    "kts = KernelTwoSampleDriftDetector()\n",
    "detectors['kts'] = kts\n",
    "\n",
    "aks = AlibiKSDetector()\n",
    "detectors['aks'] = aks\n",
    "\n",
    "acs = AlibiChiSquaredDetector()\n",
    "detectors['acs'] = acs\n",
    "\n",
    "ammd = AlibiMMDDetector()\n",
    "detectors['ammd'] = ammd"
   ]
  },
  {
   "cell_type": "markdown",
   "metadata": {},
   "source": [
    "# tests"
   ]
  },
  {
   "cell_type": "code",
   "execution_count": null,
   "metadata": {},
   "outputs": [],
   "source": [
    "results = {x: [] for x in detectors}\n",
    "\n",
    "\n",
    "for i in range(20):\n",
    "    for detector in detectors:\n",
    "        detectors[detector].fit(np.array(biden_chunks[i]))\n",
    "        results[detector].append(detectors[detector].predict_proba(np.array(trump_chunks[i])))"
   ]
  },
  {
   "cell_type": "markdown",
   "metadata": {},
   "source": [
    "# plot graphs"
   ]
  },
  {
   "cell_type": "code",
   "execution_count": null,
   "metadata": {},
   "outputs": [],
   "source": [
    "for result in results:\n",
    "    plt.plot(results[result])\n",
    "    #plt.xticks(ticks=np.arange(len(target_percentages)), labels=target_percentages, rotation=60)\n",
    "    plt.savefig('figures/by_dataset/twitter_bert_768_different_classes/{}.pdf'.format(result), format='pdf')\n",
    "    plt.show()\n",
    "    \n",
    "for result in results:\n",
    "    plt.plot(results[result])\n",
    "\n",
    "#plt.xticks(ticks=np.arange(len(target_percentages)), labels=target_percentages, rotation=60)\n",
    "plt.savefig('figures/by_dataset/twitter_bert_768_different_classes/{}.pdf'.format('all'), format='pdf')\n",
    "plt.show()"
   ]
  },
  {
   "cell_type": "code",
   "execution_count": null,
   "metadata": {},
   "outputs": [],
   "source": [
    "print(results)"
   ]
  },
  {
   "cell_type": "code",
   "execution_count": null,
   "metadata": {},
   "outputs": [],
   "source": []
  }
 ],
 "metadata": {
  "language_info": {
   "name": "python",
   "pygments_lexer": "ipython3"
  }
 },
 "nbformat": 4,
 "nbformat_minor": 4
}
