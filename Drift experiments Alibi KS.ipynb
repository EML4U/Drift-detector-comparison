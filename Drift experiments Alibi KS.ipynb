{
 "cells": [
  {
   "cell_type": "markdown",
   "metadata": {},
   "source": [
    "# Alibi Detect / Kolmogorov-Smirnov\n",
    "\n",
    "See: https://docs.seldon.io/projects/alibi-detect/en/stable/methods/ksdrift.html"
   ]
  },
  {
   "cell_type": "code",
   "execution_count": null,
   "metadata": {},
   "outputs": [],
   "source": [
    "import pickle\n",
    "import matplotlib.pyplot as plt\n",
    "\n",
    "from detectors.AlibiKSDetector import AlibiKSDetector\n",
    "import numpy as np"
   ]
  },
  {
   "cell_type": "markdown",
   "metadata": {},
   "source": [
    "# load data"
   ]
  },
  {
   "cell_type": "code",
   "execution_count": null,
   "metadata": {},
   "outputs": [],
   "source": [
    "# Robert\n",
    "file = 'data/movies/embeddings/amazon_bert_finetuned_b.pickle'\n",
    "\n",
    "# EML4U Experiment server\n",
    "#file = '../../data/amazon/amazon_small_gradual_drift.pickle'\n",
    "\n",
    "with open(file, 'rb') as handle:\n",
    "    gradual_dict = pickle.load(handle)\n",
    "    \n",
    "target_percentages = [0, 0.005, 0.01, 0.02, 0.04, 0.1, 0.2, 0.4, 0.6, 0.8, 1.0, 2.0, 4.0, 10.0, 20.0, 50.0, 100.0]"
   ]
  },
  {
   "cell_type": "markdown",
   "metadata": {},
   "source": [
    "# initiate detector"
   ]
  },
  {
   "cell_type": "code",
   "execution_count": null,
   "metadata": {},
   "outputs": [],
   "source": [
    "detector = AlibiKSDetector()\n",
    "detector.fit(gradual_dict['orig'][0])"
   ]
  },
  {
   "cell_type": "markdown",
   "metadata": {},
   "source": [
    "# general tests"
   ]
  },
  {
   "cell_type": "code",
   "execution_count": null,
   "metadata": {},
   "outputs": [],
   "source": [
    "# Boolean values\n",
    "if(True):\n",
    "    p_s = []\n",
    "    for percentage in gradual_dict['drifted'][0]:\n",
    "        p_s.append(detector.predict(percentage))\n",
    "    print(p_s)\n",
    "\n",
    "# Float values\n",
    "if(True):\n",
    "    p_s = []\n",
    "    for percentage in gradual_dict['drifted'][0]:\n",
    "        p_s.append(detector.predict_proba(percentage))\n",
    "    print(p_s)\n",
    "\n",
    "# Tests parameter 'alternative'\n",
    "#\n",
    "# less\n",
    "#[1, 1, 1, 1, 1, 1, 1, 1, 1, 1, 1]\n",
    "#[0.4987054, 0.4982303, 0.49879575, 0.49862203, 0.49844822, 0.49860978, 0.4985071, 0.49870992, 0.49863553, 0.49857917, 0.49852252]\n",
    "#\n",
    "# greater\n",
    "#[0, 0, 0, 0, 0, 0, 0, 0, 0, 0, 0]\n",
    "#[0.51410437, 0.51441544, 0.51414794, 0.51432794, 0.51405597, 0.5141818, 0.51396865, 0.5141569, 0.51398176, 0.5140256, 0.51404124]\n",
    "#\n",
    "# no alternative\n",
    "#[1, 1, 1, 1, 1, 1, 1, 1, 1, 1, 1]\n",
    "#[0.5200144, 0.5191645, 0.51923823, 0.5192277, 0.519272, 0.51934284, 0.519196, 0.51936626, 0.5192465, 0.51937175, 0.51935405]"
   ]
  },
  {
   "cell_type": "markdown",
   "metadata": {},
   "source": [
    "# plotting results"
   ]
  },
  {
   "cell_type": "code",
   "execution_count": null,
   "metadata": {},
   "outputs": [],
   "source": [
    "plt.plot(p_s)\n",
    "plt.xticks(ticks=np.arange(len(target_percentages)), labels=target_percentages, rotation=60)\n",
    "plt.savefig('figures/drift_detectors/alibi/ks_finetuned_b.pdf', format='pdf')"
   ]
  },
  {
   "cell_type": "code",
   "execution_count": null,
   "metadata": {},
   "outputs": [],
   "source": []
  }
 ],
 "metadata": {
  "language_info": {
   "name": "python",
   "pygments_lexer": "ipython3"
  }
 },
 "nbformat": 4,
 "nbformat_minor": 4
}
