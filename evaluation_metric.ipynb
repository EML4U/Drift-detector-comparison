{
 "cells": [
  {
   "cell_type": "markdown",
   "metadata": {},
   "source": [
    "# Evaluation tests\n",
    "\n",
    "Notes\n",
    "- https://scikit-learn.org/stable/model_selection.html\n",
    "- https://towardsdatascience.com/the-5-classification-evaluation-metrics-you-must-know-aa97784ff226"
   ]
  },
  {
   "cell_type": "code",
   "execution_count": 1,
   "metadata": {},
   "outputs": [
    {
     "name": "stdout",
     "output_type": "stream",
     "text": [
      "/home/eml4u/EML4U/data/amazon/results_a\n"
     ]
    }
   ],
   "source": [
    "# load results\n",
    "\n",
    "import yaml\n",
    "import os.path\n",
    "import pickle\n",
    "\n",
    "# Set data paths\n",
    "config          = yaml.safe_load(open(\"config.yaml\", \"r\"))\n",
    "results_file = os.path.join(config[\"EXPERIMENTS_DIRECTORY\"], \"results_a\")\n",
    "\n",
    "print(results_file)\n",
    "if os.path.isfile(results_file):\n",
    "    with open(results_file, \"rb\") as handle:\n",
    "        results = pickle.load(handle)"
   ]
  },
  {
   "cell_type": "code",
   "execution_count": 2,
   "metadata": {},
   "outputs": [],
   "source": [
    "# remove cosine similarity, as it contains no p-values\n",
    "del results[\"bow_50\"][\"CosineDetector\"]\n",
    "del results[\"bow_768\"][\"CosineDetector\"]\n",
    "\n",
    "# remove AlibiChiSquaredDetector, as every value is around 0.5\n",
    "del results[\"bow_50\"][\"AlibiChiSquaredDetector\"]\n",
    "del results[\"bow_50\"][\"AlibiChiSquaredDetector-FDR\"]"
   ]
  },
  {
   "cell_type": "code",
   "execution_count": 3,
   "metadata": {},
   "outputs": [
    {
     "name": "stdout",
     "output_type": "stream",
     "text": [
      "negative_words_percentage [0.    0.025 0.05  0.075 0.1   0.125 0.15  0.175 0.2   0.225 0.25  0.275\n",
      " 0.3   0.325 0.35  0.375 0.4   0.425 0.45  0.475 0.5  ]\n"
     ]
    }
   ],
   "source": [
    "# percent of injected words\n",
    "\n",
    "import numpy\n",
    "target_percentages = [0, 0.05, 0.1, 0.15, 0.2, 0.25, 0.3, 0.35, 0.4, 0.45, 0.5, 0.55, 0.6, 0.65, 0.7, 0.75, 0.8, 0.85, 0.9, 0.95, 1]\n",
    "negative_words_percentage = numpy.divide(target_percentages, 2)\n",
    "print(\"negative_words_percentage\", negative_words_percentage)"
   ]
  },
  {
   "cell_type": "code",
   "execution_count": 4,
   "metadata": {},
   "outputs": [
    {
     "name": "stdout",
     "output_type": "stream",
     "text": [
      "[0.83333333 0.04       0.02       0.01333333 0.01       0.008\n",
      " 0.00666667 0.00571429 0.005      0.00444444 0.004      0.00363636\n",
      " 0.00333333 0.00307692 0.00285714 0.00266667 0.0025     0.00235294\n",
      " 0.00222222 0.00210526 0.002     ]\n",
      "[0.83333333 0.4        0.2        0.13333333 0.1        0.08\n",
      " 0.06666667 0.05714286 0.05       0.04444444 0.04       0.03636364\n",
      " 0.03333333 0.03076923 0.02857143 0.02666667 0.025      0.02352941\n",
      " 0.02222222 0.02105263 0.02      ]\n",
      "[1, 0, 0, 0, 0, 0, 0, 0, 0, 0, 0, 0, 0, 0, 0, 0, 0, 0, 0, 0, 0]\n"
     ]
    }
   ],
   "source": [
    "fake_predictions = negative_words_percentage\n",
    "fake_predictions[0] = .0012\n",
    "fake_predictions = numpy.divide(.001, fake_predictions)\n",
    "results['bow_50']['fake'] = {}\n",
    "results['bow_50']['fake']['predictions'] = fake_predictions\n",
    "results['bow_768']['fake'] = {}\n",
    "results['bow_768']['fake']['predictions'] = fake_predictions\n",
    "print(fake_predictions)\n",
    "\n",
    "fake_predictions = negative_words_percentage\n",
    "fake_predictions[0] = .012\n",
    "fake_predictions = numpy.divide(.01, fake_predictions)\n",
    "results['bow_50']['fake2'] = {}\n",
    "results['bow_50']['fake2']['predictions'] = fake_predictions\n",
    "results['bow_768']['fake2'] = {}\n",
    "results['bow_768']['fake2']['predictions'] = fake_predictions\n",
    "print(fake_predictions)\n",
    "\n",
    "fake_predictions = [0] * 21\n",
    "fake_predictions[0] = 1\n",
    "results['bow_50']['perfect'] = {}\n",
    "results['bow_50']['perfect']['predictions'] = fake_predictions\n",
    "results['bow_768']['perfect'] = {}\n",
    "results['bow_768']['perfect']['predictions'] = fake_predictions\n",
    "print(fake_predictions)"
   ]
  },
  {
   "cell_type": "code",
   "execution_count": 5,
   "metadata": {},
   "outputs": [],
   "source": [
    "# plot results\n",
    "\n",
    "from matplotlib.ticker import (MultipleLocator, AutoMinorLocator)\n",
    "import matplotlib.pyplot as plt\n",
    "\n",
    "def plot_results():\n",
    "    linewidth=1.5\n",
    "    fig, ax = plt.subplots()\n",
    "    ax.plot(negative_words_percentage, results[\"bow_50\"][\"fake\"][\"predictions\"], '--', label='fake', color='tab:gray', linewidth=linewidth)\n",
    "    ax.plot(negative_words_percentage, results[\"bow_50\"][\"fake2\"][\"predictions\"], ':', label='fake2', color='tab:gray', linewidth=linewidth)\n",
    "    ax.plot(negative_words_percentage, results[\"bow_50\"][\"perfect\"][\"predictions\"], '-.', label='perfect', color='tab:gray', linewidth=linewidth)\n",
    "    ax.plot(negative_words_percentage, results[\"bow_50\"][\"AlibiKSDetector\"][\"predictions\"], label='KS', color='tab:green', linewidth=linewidth)\n",
    "    ax.plot(negative_words_percentage, results[\"bow_50\"][\"AlibiLSDDDetector\"][\"predictions\"], label='LSDD', color='tab:orange', linewidth=linewidth)\n",
    "    ax.plot(negative_words_percentage, results[\"bow_50\"][\"AlibiMMDDetector\"][\"predictions\"], '--', label='MMD', color='tab:red', linewidth=linewidth)\n",
    "    ax.plot(negative_words_percentage, results[\"bow_50\"][\"FCITDetector\"][\"predictions\"], ':', label='FCIT', color='tab:blue', linewidth=linewidth)\n",
    "    plt.legend(loc='center right')\n",
    "    ax.set(xlabel='Percentage of injected negative words', ylabel='p-value',\n",
    "           title='Drift detection: Bag of Words with 50 dimensions')\n",
    "    ax.grid(color='#dddddd')\n",
    "    ax.xaxis.set_minor_locator(AutoMinorLocator(4))\n",
    "    fig.set_size_inches(9, 5)\n",
    "    plt.show()\n",
    "\n",
    "    fig, ax = plt.subplots()\n",
    "    ax.plot(negative_words_percentage, results[\"bow_768\"][\"fake\"][\"predictions\"], '--', label='fake', color='tab:gray', linewidth=linewidth)\n",
    "    ax.plot(negative_words_percentage, results[\"bow_768\"][\"fake2\"][\"predictions\"], ':', label='fake2', color='tab:gray', linewidth=linewidth)\n",
    "    ax.plot(negative_words_percentage, results[\"bow_768\"][\"perfect\"][\"predictions\"], '-.', label='perfect', color='tab:gray', linewidth=linewidth)\n",
    "    ax.plot(negative_words_percentage, results[\"bow_768\"][\"AlibiKSDetector\"][\"predictions\"], label='KS', color='tab:green', linewidth=linewidth)\n",
    "    ax.plot(negative_words_percentage, results[\"bow_768\"][\"AlibiLSDDDetector\"][\"predictions\"], label='LSDD', color='tab:orange', linewidth=linewidth)\n",
    "    ax.plot(negative_words_percentage, results[\"bow_768\"][\"AlibiMMDDetector\"][\"predictions\"], '--', label='MMD', color='tab:red', linewidth=linewidth)\n",
    "    plt.legend(loc='center right')\n",
    "    ax.set(xlabel='Percentage of injected negative words', ylabel='p-value',\n",
    "       title='Drift detection: Bag of Words with 768 dimensions')\n",
    "    ax.grid(color='#dddddd')\n",
    "    ax.xaxis.set_minor_locator(AutoMinorLocator(4))\n",
    "    fig.set_size_inches(9, 5)\n",
    "    plt.show()"
   ]
  },
  {
   "cell_type": "code",
   "execution_count": 6,
   "metadata": {},
   "outputs": [],
   "source": [
    "# applies method on arrays 'expected' and all results 'drift_predictions'\n",
    "def evaluate(method, print_info = False):\n",
    "    eval_results = {}\n",
    "    for data_id in results:\n",
    "        data_id_results = {}\n",
    "        for detector_id in results[data_id]:\n",
    "            if(print_info):\n",
    "                print()\n",
    "                print(data_id, detector_id)\n",
    "            data_id_results[detector_id] = method(negative_words_percentage, results[data_id][detector_id]['predictions'])\n",
    "        eval_results[data_id] = data_id_results\n",
    "    return eval_results\n",
    "\n",
    "# prints lists of tuples\n",
    "def print_eval(eval_results, reverse=False):\n",
    "    print()\n",
    "    if(reverse):\n",
    "        print(\"Final scores (higher values are better)\")\n",
    "    else:\n",
    "        print(\"Final scores (lower values are better)\")\n",
    "    for data_id in eval_results:\n",
    "        print(data_id)\n",
    "        sorted_results = sorted(eval_results[data_id].items(), key=lambda item: item[1], reverse=reverse)\n",
    "        for i in range(len(sorted_results)):\n",
    "            print(str(\"{:.4f}\".format(sorted_results[i][1])).zfill(10), sorted_results[i][0])"
   ]
  },
  {
   "cell_type": "code",
   "execution_count": 7,
   "metadata": {},
   "outputs": [
    {
     "name": "stdout",
     "output_type": "stream",
     "text": [
      "\n",
      "Final scores (lower values are better)\n",
      "bow_50\n",
      "-0000.7490 FCITDetector\n",
      "-0000.7029 fake\n",
      "-0000.7018 perfect\n",
      "-0000.6999 AlibiMMDDetector\n",
      "-0000.6975 AlibiLSDDDetector\n",
      "-0000.6412 fake2\n",
      "-0000.5510 AlibiKSDetector\n",
      "bow_768\n",
      "-0000.7029 fake\n",
      "-0000.7018 perfect\n",
      "-0000.6909 AlibiMMDDetector\n",
      "-0000.6412 fake2\n",
      "-0000.5885 AlibiLSDDDetector\n",
      "-0000.4278 AlibiKSDetector\n"
     ]
    }
   ],
   "source": [
    "# simple difference\n",
    "# problem: first index [0] has no drift and should be handled specially\n",
    "def difference(negative_words_percentage, p_values):\n",
    "    inverted_p = numpy.subtract(1, p_values)\n",
    "    return numpy.average(numpy.subtract(negative_words_percentage, inverted_p))\n",
    "\n",
    "print_eval(evaluate(difference))\n",
    "\n",
    "if(False):\n",
    "    plot_results()"
   ]
  },
  {
   "cell_type": "code",
   "execution_count": 8,
   "metadata": {},
   "outputs": [
    {
     "name": "stdout",
     "output_type": "stream",
     "text": [
      "\n",
      "bow_50 AlibiKSDetector\n",
      "1.0439099460840224 = 0.5546988040208817 + 0.48921114206314087\n",
      "\n",
      "bow_50 FCITDetector\n",
      "1.7370211390620431 = 0.7370308530032778 + 0.9999902860587654\n",
      "\n",
      "bow_50 AlibiMMDDetector\n",
      "0.9065000072121621 = 0.7265000000596047 + 0.18000000715255737\n",
      "\n",
      "bow_50 AlibiLSDDDetector\n",
      "0.8754999762400985 = 0.7255000000819564 + 0.1499999761581421\n",
      "\n",
      "bow_50 fake\n",
      "0.8969711873523791 = 0.7303045206857125 + 0.16666666666666663\n",
      "\n",
      "bow_50 fake2\n",
      "0.8322118735237929 = 0.6655452068571263 + 0.16666666666666663\n",
      "\n",
      "bow_50 perfect\n",
      "0.7375 = 0.7375 + 0\n",
      "\n",
      "bow_768 AlibiKSDetector\n",
      "0.9152301579713822 = 0.42531329691410064 + 0.4899168610572815\n",
      "\n",
      "bow_768 AlibiMMDDetector\n",
      "1.2865000038407743 = 0.6965000002644957 + 0.5900000035762787\n",
      "\n",
      "bow_768 AlibiLSDDDetector\n",
      "0.9510000236332417 = 0.6009999997913837 + 0.3500000238418579\n",
      "\n",
      "bow_768 fake\n",
      "0.8969711873523791 = 0.7303045206857125 + 0.16666666666666663\n",
      "\n",
      "bow_768 fake2\n",
      "0.8322118735237929 = 0.6655452068571263 + 0.16666666666666663\n",
      "\n",
      "bow_768 perfect\n",
      "0.7375 = 0.7375 + 0\n",
      "\n",
      "Final scores (lower values are better)\n",
      "bow_50\n",
      "00000.7375 perfect\n",
      "00000.8322 fake2\n",
      "00000.8755 AlibiLSDDDetector\n",
      "00000.8970 fake\n",
      "00000.9065 AlibiMMDDetector\n",
      "00001.0439 AlibiKSDetector\n",
      "00001.7370 FCITDetector\n",
      "bow_768\n",
      "00000.7375 perfect\n",
      "00000.8322 fake2\n",
      "00000.8970 fake\n",
      "00000.9152 AlibiKSDetector\n",
      "00000.9510 AlibiLSDDDetector\n",
      "00001.2865 AlibiMMDDetector\n"
     ]
    }
   ],
   "source": [
    "# difference with penalty (detected drift in no-drift-data)\n",
    "# better: 50 model\n",
    "# problem: usage of absulute values in expected values\n",
    "#          (best would be detected drift == 1, and not p-value)\n",
    "#          see 768 model\n",
    "def difference_penalty(negative_words_percentage, p_values):\n",
    "    \n",
    "    # remove first element (no injected drift)\n",
    "    neg_percentage = negative_words_percentage[1:]\n",
    "    p_vals = p_values[1:]\n",
    "    \n",
    "    inverted_p_vals = numpy.subtract(1, p_vals)\n",
    "    \n",
    "    # p-value first element (no injected drift)\n",
    "    penalty = 1 - p_values[0]\n",
    "    \n",
    "    absolute_differences = numpy.absolute(numpy.subtract(neg_percentage, inverted_p_vals))\n",
    "    \n",
    "    average_differences = numpy.average(absolute_differences)\n",
    "    \n",
    "    score = average_differences + penalty\n",
    "    if(True):\n",
    "        print(score, \"=\", average_differences, \"+\", penalty)\n",
    "    \n",
    "    return score\n",
    "\n",
    "print_eval(evaluate(difference_penalty, True))\n",
    "\n",
    "if(False):\n",
    "    plot_results()"
   ]
  },
  {
   "cell_type": "markdown",
   "metadata": {},
   "source": [
    "# Evaluation metric\n",
    "\n",
    "$d$ drift detector  \n",
    "$n$ number experiments  \n",
    "$w_i$ percentage of injected negative words of experiment $i$   \n",
    "$w_1=0$ experiment without injected drift  \n",
    "$p_i$ p-value of experiment $i$  \n",
    "\n",
    "$S(d_i) = (1 - p_i) - (1 - p_1)$ evaluation score of experiment $i$ and detector $d$   \n",
    "\n",
    "$S(d) = \\sum_{i=2}^{n} \\frac{S(d_i)}{w_i} \\cdot \\left[ \\sum_{i=2}^{n} \\frac{1}{w_i} \\right]^{-1} $  scores weighted by injection"
   ]
  },
  {
   "cell_type": "code",
   "execution_count": 9,
   "metadata": {},
   "outputs": [
    {
     "name": "stdout",
     "output_type": "stream",
     "text": [
      "\n",
      "bow_50 AlibiKSDetector\n",
      "16.34397605806589 difference score\n",
      "0.48921114206314087 penalty; p-value without drift: 0.51078886\n",
      "6.559753216803074 penalty score\n",
      "\n",
      "bow_50 FCITDetector\n",
      "19.990617060065556 difference score\n",
      "0.9999902860587654 penalty; p-value without drift: 9.713941234650133e-06\n",
      "-0.009188661109751806 penalty score\n",
      "\n",
      "bow_50 AlibiMMDDetector\n",
      "19.780000001192093 difference score\n",
      "0.18000000715255737 penalty; p-value without drift: 0.8199999928474426\n",
      "16.179999858140945 penalty score\n",
      "\n",
      "bow_50 AlibiLSDDDetector\n",
      "19.760000001639128 difference score\n",
      "0.1499999761581421 penalty; p-value without drift: 0.8500000238418579\n",
      "16.760000478476286 penalty score\n",
      "\n",
      "bow_50 fake\n",
      "19.856090413714256 difference score\n",
      "0.16666666666666663 penalty; p-value without drift: 0.8333333333333334\n",
      "16.52275708038092 penalty score\n",
      "\n",
      "bow_50 fake2\n",
      "18.56090413714253 difference score\n",
      "0.16666666666666663 penalty; p-value without drift: 0.8333333333333334\n",
      "15.227570803809193 penalty score\n",
      "\n",
      "bow_50 perfect\n",
      "20 difference score\n",
      "0 penalty; p-value without drift: 1\n",
      "20 penalty score\n",
      "\n",
      "bow_768 AlibiKSDetector\n",
      "13.756265878677368 difference score\n",
      "0.4899168610572815 penalty; p-value without drift: 0.51008314\n",
      "3.9579286575317383 penalty score\n",
      "\n",
      "bow_768 AlibiMMDDetector\n",
      "19.180000005289912 difference score\n",
      "0.5900000035762787 penalty; p-value without drift: 0.4099999964237213\n",
      "7.3799999337643385 penalty score\n",
      "\n",
      "bow_768 AlibiLSDDDetector\n",
      "17.269999995827675 difference score\n",
      "0.3500000238418579 penalty; p-value without drift: 0.6499999761581421\n",
      "10.269999518990517 penalty score\n",
      "\n",
      "bow_768 fake\n",
      "19.856090413714256 difference score\n",
      "0.16666666666666663 penalty; p-value without drift: 0.8333333333333334\n",
      "16.52275708038092 penalty score\n",
      "\n",
      "bow_768 fake2\n",
      "18.56090413714253 difference score\n",
      "0.16666666666666663 penalty; p-value without drift: 0.8333333333333334\n",
      "15.227570803809193 penalty score\n",
      "\n",
      "bow_768 perfect\n",
      "20 difference score\n",
      "0 penalty; p-value without drift: 1\n",
      "20 penalty score\n",
      "\n",
      "Final scores (higher values are better)\n",
      "bow_50\n",
      "00001.0000 perfect\n",
      "00000.8156 fake\n",
      "00000.7861 AlibiLSDDDetector\n",
      "00000.7589 AlibiMMDDetector\n",
      "00000.6559 fake2\n",
      "00000.2249 AlibiKSDetector\n",
      "-0000.0004 FCITDetector\n",
      "bow_768\n",
      "00001.0000 perfect\n",
      "00000.8156 fake\n",
      "00000.6559 fake2\n",
      "00000.2998 AlibiLSDDDetector\n",
      "00000.2571 AlibiMMDDetector\n",
      "00000.1014 AlibiKSDetector\n"
     ]
    }
   ],
   "source": [
    "def eval_metric(negative_words_percentage, p_values):\n",
    "    \n",
    "    # remove first element (no injected drift)\n",
    "    neg_percentage = negative_words_percentage[1:]\n",
    "    p_vals = p_values[1:]\n",
    "        \n",
    "    # Scores 0 (bad) to 1 (good)\n",
    "    scores = []\n",
    "    for i in range(len(p_vals)):\n",
    "        scores.append(1 - p_vals[i])\n",
    "    if(True):\n",
    "        print(numpy.sum(scores), \"difference score\")\n",
    "    \n",
    "    # No injected drift in first element\n",
    "    # High penalty for low p-value\n",
    "    penalty = 1 - p_values[0]    \n",
    "    for i in range(len(scores)):\n",
    "        scores[i] = scores[i] - penalty\n",
    "    if(True):\n",
    "        print(penalty, \"penalty; p-value without drift:\", p_values[0])\n",
    "        print(numpy.sum(scores), \"penalty score\")\n",
    "        \n",
    "    # Earlier drift detection is better (sensitivity)\n",
    "    sum_rating = 0\n",
    "    for i in range(len(scores)):\n",
    "        rating = 1/neg_percentage[i]\n",
    "        sum_rating += rating\n",
    "        scores[i] = scores[i] * rating\n",
    "    \n",
    "    return numpy.sum(scores) / sum_rating\n",
    "\n",
    "print_eval(evaluate(eval_metric, True), True)\n",
    "\n",
    "if(False):\n",
    "    plot_results()"
   ]
  },
  {
   "cell_type": "markdown",
   "metadata": {},
   "source": [
    "**Why is LSDD better rated than MMD?**  \n",
    "Because of the bad prediction for no injected drift (penalty = 1 - p_values[0])  \n",
    "bow_768 AlibiMMDDetector  0.5900000035762787 penalty; p-value without drift: 0.4099999964237213  \n",
    "bow_768 AlibiLSDDDetector 0.3500000238418579 penalty; p-value without drift: 0.6499999761581421"
   ]
  },
  {
   "cell_type": "code",
   "execution_count": 10,
   "metadata": {},
   "outputs": [
    {
     "data": {
      "image/png": "[encoded data removed]",
      "text/plain": [
       "<Figure size 648x360 with 1 Axes>"
      ]
     },
     "metadata": {
      "needs_background": "light"
     },
     "output_type": "display_data"
    },
    {
     "data": {
      "image/png": "[encoded data removed]",
      "text/plain": [
       "<Figure size 648x360 with 1 Axes>"
      ]
     },
     "metadata": {
      "needs_background": "light"
     },
     "output_type": "display_data"
    }
   ],
   "source": [
    "# visual check\n",
    "\n",
    "plot_results()"
   ]
  },
  {
   "cell_type": "code",
   "execution_count": null,
   "metadata": {},
   "outputs": [],
   "source": []
  }
 ],
 "metadata": {
  "kernelspec": {
   "display_name": "Python (EML4U)",
   "language": "python",
   "name": "eml4u"
  },
  "language_info": {
   "codemirror_mode": {
    "name": "ipython",
    "version": 3
   },
   "file_extension": ".py",
   "mimetype": "text/x-python",
   "name": "python",
   "nbconvert_exporter": "python",
   "pygments_lexer": "ipython3",
   "version": "3.8.5"
  }
 },
 "nbformat": 4,
 "nbformat_minor": 4
}

