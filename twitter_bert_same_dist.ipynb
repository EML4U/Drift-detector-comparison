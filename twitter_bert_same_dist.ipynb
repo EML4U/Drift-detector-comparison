{
 "cells": [
  {
   "cell_type": "code",
   "execution_count": null,
   "metadata": {},
   "outputs": [],
   "source": [
    "import pickle\n",
    "from detectors import *\n",
    "import matplotlib.pyplot as plt\n",
    "import numpy as np"
   ]
  },
  {
   "cell_type": "markdown",
   "metadata": {},
   "source": [
    "# load data"
   ]
  },
  {
   "cell_type": "code",
   "execution_count": null,
   "metadata": {},
   "outputs": [],
   "source": [
    "with open('data/twitter/twitter_bert_768_same_dist.pickle', 'rb') as handle:\n",
    "    permutations_embs, permutation_keys = pickle.load(handle)['data']"
   ]
  },
  {
   "cell_type": "markdown",
   "metadata": {},
   "source": [
    "# initiate detectors"
   ]
  },
  {
   "cell_type": "code",
   "execution_count": null,
   "metadata": {},
   "outputs": [],
   "source": [
    "detectors = {}\n",
    "\n",
    "csdd = CosineSimilarityDriftDetector()\n",
    "csdd.fit(permutations_embs[0])\n",
    "detectors['csdd'] = csdd\n",
    "\n",
    "kts = KernelTwoSampleDriftDetector()\n",
    "kts.fit(permutations_embs[0])\n",
    "detectors['kts'] = kts\n",
    "\n",
    "aks = AlibiKSDetector()\n",
    "aks.fit(permutations_embs[0])\n",
    "detectors['aks'] = aks\n",
    "\n",
    "acs = AlibiChiSquaredDetector()\n",
    "acs.fit(permutations_embs[0])\n",
    "detectors['acs'] = acs\n",
    "\n",
    "ammd = AlibiMMDDetector()\n",
    "ammd.fit(permutations_embs[0])\n",
    "detectors['ammd'] = ammd"
   ]
  },
  {
   "cell_type": "markdown",
   "metadata": {},
   "source": [
    "# tests"
   ]
  },
  {
   "cell_type": "code",
   "execution_count": null,
   "metadata": {},
   "outputs": [],
   "source": [
    "results = {x: [] for x in detectors}\n",
    "\n",
    "for detector in detectors:\n",
    "    for perm in permutations_embs[1:]:\n",
    "        results[detector].append(detectors[detector].predict_proba(perm))"
   ]
  },
  {
   "cell_type": "markdown",
   "metadata": {},
   "source": [
    "# plot graphs"
   ]
  },
  {
   "cell_type": "code",
   "execution_count": null,
   "metadata": {},
   "outputs": [],
   "source": [
    "for result in results:\n",
    "    #plt.plot(results[result])\n",
    "    plt.hist(results[result])\n",
    "    #plt.xticks(ticks=np.arange(len(target_percentages)), labels=target_percentages, rotation=60)\n",
    "    plt.savefig('figures/by_dataset/twitter_bert_768_same_dist/{}.pdf'.format(result), format='pdf')\n",
    "    plt.show()\n",
    "    \n",
    "    \n",
    "for result in results:\n",
    "    plt.hist(results[result])\n",
    "\n",
    "#plt.xticks(ticks=np.arange(len(target_percentages)), labels=target_percentages, rotation=60)\n",
    "plt.savefig('figures/by_dataset/twitter_bert_768_same_dist/{}.pdf'.format('all'), format='pdf')\n",
    "plt.show()"
   ]
  },
  {
   "cell_type": "code",
   "execution_count": null,
   "metadata": {},
   "outputs": [],
   "source": [
    "print(results)"
   ]
  },
  {
   "cell_type": "code",
   "execution_count": null,
   "metadata": {},
   "outputs": [],
   "source": []
  }
 ],
 "metadata": {
  "language_info": {
   "name": "python",
   "pygments_lexer": "ipython3"
  }
 },
 "nbformat": 4,
 "nbformat_minor": 4
}
