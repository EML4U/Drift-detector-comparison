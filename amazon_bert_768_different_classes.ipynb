{
 "cells": [
  {
   "cell_type": "code",
   "execution_count": null,
   "metadata": {},
   "outputs": [],
   "source": [
    "import pickle\n",
    "from detectors import *\n",
    "import matplotlib.pyplot as plt\n",
    "import numpy as np"
   ]
  },
  {
   "cell_type": "markdown",
   "metadata": {},
   "source": [
    "# load data"
   ]
  },
  {
   "cell_type": "code",
   "execution_count": null,
   "metadata": {},
   "outputs": [],
   "source": [
    "with open('data/movies/embeddings/amazon_bert_768_different_classes.pickle', 'rb') as handle:\n",
    "    classes = pickle.load(handle)"
   ]
  },
  {
   "cell_type": "markdown",
   "metadata": {},
   "source": [
    "# initiate detectors for class 0"
   ]
  },
  {
   "cell_type": "code",
   "execution_count": null,
   "metadata": {},
   "outputs": [],
   "source": [
    "detectors = {}\n",
    "\n",
    "csdd = CosineSimilarityDriftDetector()\n",
    "csdd.fit(np.array(classes[0][0]))\n",
    "detectors['csdd'] = csdd\n",
    "\n",
    "kts = KernelTwoSampleDriftDetector()\n",
    "kts.fit(np.array(classes[0][0]))\n",
    "detectors['kts'] = kts\n",
    "\n",
    "aks = AlibiKSDetector()\n",
    "aks.fit(np.array(classes[0][0]))\n",
    "detectors['aks'] = aks\n",
    "\n",
    "acs = AlibiChiSquaredDetector()\n",
    "acs.fit(np.array(classes[0][0]))\n",
    "detectors['acs'] = acs\n",
    "\n",
    "ammd = AlibiMMDDetector()\n",
    "ammd.fit(np.array(classes[0][0]))\n",
    "detectors['ammd'] = ammd"
   ]
  },
  {
   "cell_type": "markdown",
   "metadata": {},
   "source": [
    "# tests for class 0 base"
   ]
  },
  {
   "cell_type": "code",
   "execution_count": null,
   "metadata": {},
   "outputs": [],
   "source": [
    "results = {x: [] for x in detectors}\n",
    "\n",
    "for detector in detectors:\n",
    "    for class_ in classes[1:]:\n",
    "        results[detector].append(detectors[detector].predict_proba(np.array(class_[0])))"
   ]
  },
  {
   "cell_type": "markdown",
   "metadata": {},
   "source": [
    "# plot graphs"
   ]
  },
  {
   "cell_type": "code",
   "execution_count": null,
   "metadata": {},
   "outputs": [],
   "source": [
    "for result in results:\n",
    "    plt.plot(results[result])\n",
    "    plt.xticks(ticks=range(-1,4), labels=['class ' + str(i) for i in range(1,6)], rotation=60)\n",
    "    plt.savefig('figures/by_dataset/amazon_bert_768_different_classes/{}.pdf'.format(result), format='pdf')\n",
    "    plt.show()\n",
    "    \n",
    "for result in results:\n",
    "    plt.plot(results[result])\n",
    "\n",
    "plt.xticks(ticks=range(-1,4), labels=['class ' + str(i) for i in range(1,6)], rotation=60)\n",
    "plt.savefig('figures/by_dataset/amazon_bert_768_different_classes/{}.pdf'.format('all'), format='pdf')\n",
    "plt.show()"
   ]
  },
  {
   "cell_type": "code",
   "execution_count": null,
   "metadata": {},
   "outputs": [],
   "source": [
    "print(results)"
   ]
  },
  {
   "cell_type": "markdown",
   "metadata": {},
   "source": [
    "# initiate detectors for class 1"
   ]
  },
  {
   "cell_type": "code",
   "execution_count": null,
   "metadata": {},
   "outputs": [],
   "source": [
    "detectors = {}\n",
    "\n",
    "csdd = CosineSimilarityDriftDetector()\n",
    "csdd.fit(np.array(classes[1][0]))\n",
    "detectors['csdd'] = csdd\n",
    "\n",
    "kts = KernelTwoSampleDriftDetector()\n",
    "kts.fit(np.array(classes[1][0]))\n",
    "detectors['kts'] = kts\n",
    "\n",
    "aks = AlibiKSDetector()\n",
    "aks.fit(np.array(classes[1][0]))\n",
    "detectors['aks'] = aks\n",
    "\n",
    "acs = AlibiChiSquaredDetector()\n",
    "acs.fit(np.array(classes[1][0]))\n",
    "detectors['acs'] = acs\n",
    "\n",
    "ammd = AlibiMMDDetector()\n",
    "ammd.fit(np.array(classes[1][0]))\n",
    "detectors['ammd'] = ammd"
   ]
  },
  {
   "cell_type": "markdown",
   "metadata": {},
   "source": [
    "# tests for class 1"
   ]
  },
  {
   "cell_type": "code",
   "execution_count": null,
   "metadata": {},
   "outputs": [],
   "source": [
    "results = {x: [] for x in detectors}\n",
    "\n",
    "for detector in detectors:\n",
    "    for class_ in classes[2:]:\n",
    "        results[detector].append(detectors[detector].predict_proba(np.array(class_[0])))"
   ]
  },
  {
   "cell_type": "markdown",
   "metadata": {},
   "source": [
    "# plots for class 1"
   ]
  },
  {
   "cell_type": "code",
   "execution_count": null,
   "metadata": {},
   "outputs": [],
   "source": [
    "for result in results:\n",
    "    plt.plot(results[result])\n",
    "    plt.xticks(ticks=range(-1,4), labels=['class ' + str(i) for i in range(1,6)], rotation=60)\n",
    "    plt.savefig('figures/by_dataset/amazon_bert_768_different_classes/{}_class1.pdf'.format(result), format='pdf')\n",
    "    plt.show()\n",
    "    \n",
    "for result in results:\n",
    "    plt.plot(results[result])\n",
    "\n",
    "plt.xticks(ticks=range(-1,4), labels=['class ' + str(i) for i in range(1,6)], rotation=60)\n",
    "plt.savefig('figures/by_dataset/amazon_bert_768_different_classes/{}_class1.pdf'.format('all'), format='pdf')\n",
    "plt.show()"
   ]
  },
  {
   "cell_type": "code",
   "execution_count": null,
   "metadata": {},
   "outputs": [],
   "source": [
    "print(results)"
   ]
  },
  {
   "cell_type": "code",
   "execution_count": null,
   "metadata": {},
   "outputs": [],
   "source": []
  }
 ],
 "metadata": {
  "language_info": {
   "name": "python",
   "pygments_lexer": "ipython3"
  }
 },
 "nbformat": 4,
 "nbformat_minor": 4
}
