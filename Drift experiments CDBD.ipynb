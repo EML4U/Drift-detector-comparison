{
 "metadata": {
  "language_info": {
   "codemirror_mode": {
    "name": "ipython",
    "version": 3
   },
   "file_extension": ".py",
   "mimetype": "text/x-python",
   "name": "python",
   "nbconvert_exporter": "python",
   "pygments_lexer": "ipython3",
   "version": "3.8.5"
  },
  "orig_nbformat": 4,
  "kernelspec": {
   "name": "python3",
   "display_name": "Python 3.8.5 64-bit ('Drift-detector-comparison-xdlKOLuj': venv)"
  },
  "interpreter": {
   "hash": "35a0ec09d1959f20cbbe90c6dbdd3d7764580d4185c8646dea867f08ccf47c05"
  }
 },
 "nbformat": 4,
 "nbformat_minor": 2,
 "cells": [
  {
   "cell_type": "code",
   "execution_count": 1,
   "metadata": {},
   "outputs": [
    {
     "output_type": "error",
     "ename": "ImportError",
     "evalue": "cannot import name 'CDBDDetector' from 'detectors.CDBDDetector' (/home/mhshaker/Documents/projects/EML4U/Drift-detector-comparison/detectors/CDBDDetector.py)",
     "traceback": [
      "\u001b[0;31m---------------------------------------------------------------------------\u001b[0m",
      "\u001b[0;31mImportError\u001b[0m                               Traceback (most recent call last)",
      "\u001b[0;32m<ipython-input-1-ff2aa53dd1f2>\u001b[0m in \u001b[0;36m<module>\u001b[0;34m\u001b[0m\n\u001b[1;32m      2\u001b[0m \u001b[0;32mimport\u001b[0m \u001b[0mpickle\u001b[0m\u001b[0;34m\u001b[0m\u001b[0;34m\u001b[0m\u001b[0m\n\u001b[1;32m      3\u001b[0m \u001b[0;32mimport\u001b[0m \u001b[0mmatplotlib\u001b[0m\u001b[0;34m.\u001b[0m\u001b[0mpyplot\u001b[0m \u001b[0;32mas\u001b[0m \u001b[0mplt\u001b[0m\u001b[0;34m\u001b[0m\u001b[0;34m\u001b[0m\u001b[0m\n\u001b[0;32m----> 4\u001b[0;31m \u001b[0;32mfrom\u001b[0m \u001b[0mdetectors\u001b[0m\u001b[0;34m.\u001b[0m\u001b[0mCDBDDetector\u001b[0m \u001b[0;32mimport\u001b[0m \u001b[0mCDBD\u001b[0m\u001b[0;34m\u001b[0m\u001b[0;34m\u001b[0m\u001b[0m\n\u001b[0m\u001b[1;32m      5\u001b[0m \u001b[0;32mfrom\u001b[0m \u001b[0msklearn\u001b[0m\u001b[0;34m.\u001b[0m\u001b[0mensemble\u001b[0m \u001b[0;32mimport\u001b[0m \u001b[0mRandomForestClassifier\u001b[0m\u001b[0;34m\u001b[0m\u001b[0;34m\u001b[0m\u001b[0m\n\u001b[1;32m      6\u001b[0m \u001b[0;32mfrom\u001b[0m \u001b[0msklearn\u001b[0m\u001b[0;34m.\u001b[0m\u001b[0mmodel_selection\u001b[0m \u001b[0;32mimport\u001b[0m \u001b[0mtrain_test_split\u001b[0m\u001b[0;34m\u001b[0m\u001b[0;34m\u001b[0m\u001b[0m\n",
      "\u001b[0;32m~/Documents/projects/EML4U/Drift-detector-comparison/detectors/__init__.py\u001b[0m in \u001b[0;36m<module>\u001b[0;34m\u001b[0m\n\u001b[1;32m      6\u001b[0m \u001b[0;32mfrom\u001b[0m \u001b[0;34m.\u001b[0m\u001b[0mAlibiChiSquaredDetector\u001b[0m \u001b[0;32mimport\u001b[0m \u001b[0mAlibiChiSquaredDetector\u001b[0m\u001b[0;34m\u001b[0m\u001b[0;34m\u001b[0m\u001b[0m\n\u001b[1;32m      7\u001b[0m \u001b[0;32mfrom\u001b[0m \u001b[0;34m.\u001b[0m\u001b[0mFCITDetector\u001b[0m \u001b[0;32mimport\u001b[0m \u001b[0mFCITDriftDetector\u001b[0m\u001b[0;34m\u001b[0m\u001b[0;34m\u001b[0m\u001b[0m\n\u001b[0;32m----> 8\u001b[0;31m \u001b[0;32mfrom\u001b[0m \u001b[0;34m.\u001b[0m\u001b[0mCDBDDetector\u001b[0m \u001b[0;32mimport\u001b[0m \u001b[0mCDBDDetector\u001b[0m\u001b[0;34m\u001b[0m\u001b[0;34m\u001b[0m\u001b[0m\n\u001b[0m",
      "\u001b[0;31mImportError\u001b[0m: cannot import name 'CDBDDetector' from 'detectors.CDBDDetector' (/home/mhshaker/Documents/projects/EML4U/Drift-detector-comparison/detectors/CDBDDetector.py)"
     ]
    }
   ],
   "source": [
    "import numpy as np\n",
    "import pickle\n",
    "import matplotlib.pyplot as plt\n",
    "from detectors.CDBDDetector import CDBDDetector\n",
    "from sklearn.ensemble import RandomForestClassifier\n",
    "from sklearn.model_selection import train_test_split"
   ]
  },
  {
   "source": [
    "# load data"
   ],
   "cell_type": "markdown",
   "metadata": {}
  },
  {
   "cell_type": "code",
   "execution_count": null,
   "metadata": {},
   "outputs": [],
   "source": [
    "# file = '../data/amazon_bert_finetuned.pickle'\n",
    "# file = '../data/amazon_drift_bow_50.pickle'\n",
    "file = '../data/amazon_drift_bow_768.pickle'\n",
    "\n",
    "# load the data\n",
    "with open(file, 'rb') as handle:\n",
    "    gradual_dict = pickle.load(handle)"
   ]
  },
  {
   "source": [
    "# train model"
   ],
   "cell_type": "markdown",
   "metadata": {}
  },
  {
   "cell_type": "code",
   "execution_count": null,
   "metadata": {},
   "outputs": [],
   "source": [
    "# get training data\n",
    "features = gradual_dict['orig'][0]\n",
    "targets = np.array(gradual_dict['orig'][1])[:,1] # take the labels from dictionary, convert to np.array and slice to only get the scores\n",
    "targets = targets.astype('int')\n",
    "\n",
    "# split to train and test. Here, test will be used to train the CDBD drift detector\n",
    "x_train, x_test, y_train, y_test = train_test_split(features, targets, test_size=0.33, random_state=42)\n",
    "\n",
    "# train a model\n",
    "model = None\n",
    "model = SVC(kernel='linear') # SVM model\n",
    "model.fit(x_train, y_train)\n",
    "acc = model.score(x_test, y_test)\n",
    "# print(\"acc of the model on training data \", acc)"
   ]
  },
  {
   "source": [
    "# initiate detector"
   ],
   "cell_type": "markdown",
   "metadata": {}
  },
  {
   "cell_type": "code",
   "execution_count": null,
   "metadata": {},
   "outputs": [],
   "source": [
    "detector = CDBDDetector(model)\n",
    "detector.fit(x_test)"
   ]
  },
  {
   "source": [
    "# general test"
   ],
   "cell_type": "markdown",
   "metadata": {}
  },
  {
   "cell_type": "code",
   "execution_count": null,
   "metadata": {},
   "outputs": [],
   "source": [
    "# dfirt detection on the original train data\n",
    "# print(\"dfirt detection train\")\n",
    "# detector.predict(x_train)\n",
    "# print(\"dfirt detection test\")\n",
    "# detector.predict(x_test)\n",
    "# print(\"--------------\")\n",
    "# exit()\n",
    "\n",
    "# Do drift detection: general test\n",
    "p_s = []\n",
    "for percentage in gradual_dict['drifted'][0]:\n",
    "    p_s.append(detector.predict_proba(percentage))"
   ]
  },
  {
   "source": [
    "# plotting results"
   ],
   "cell_type": "markdown",
   "metadata": {}
  },
  {
   "cell_type": "code",
   "execution_count": null,
   "metadata": {},
   "outputs": [],
   "source": [
    "plt.plot(p_s)\n",
    "# plt.savefig(\"figures/drift_detectors/uncertainty/unc_drift_avg.png\")"
   ]
  }
 ]
}