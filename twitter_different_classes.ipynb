{
 "cells": [
  {
   "cell_type": "code",
   "execution_count": null,
   "metadata": {},
   "outputs": [],
   "source": [
    "import pickle\n",
    "from detectors import *\n",
    "import matplotlib.pyplot as plt\n",
    "import numpy as np\n",
    "import random\n",
    "import time\n",
    "import os"
   ]
  },
  {
   "cell_type": "code",
   "execution_count": null,
   "metadata": {},
   "outputs": [],
   "source": [
    "def time_fit(det, data):\n",
    "    time_begin = time.time()\n",
    "        \n",
    "    det = det.fit(np.array(data))\n",
    "    \n",
    "    return det, time.time() - time_begin\n",
    "\n",
    "def time_test(det, data):\n",
    "    time_begin = time.time()\n",
    "        \n",
    "    result = det.predict_proba(np.array(data))\n",
    "    \n",
    "    return det, time.time() - time_begin, result\n"
   ]
  },
  {
   "cell_type": "markdown",
   "metadata": {},
   "source": [
    "# load data"
   ]
  },
  {
   "cell_type": "code",
   "execution_count": null,
   "metadata": {},
   "outputs": [],
   "source": [
    "modes = ['bert_768', 'bow_50', 'bow_768']\n",
    "subsets = {}\n",
    "permutations = 10\n",
    "max_length = 1000\n",
    "\n",
    "result_pickle = 'data/results/twitter_diff_classes.pickle'\n",
    "\n",
    "for mode in modes:\n",
    "    subsets[mode] = {}\n",
    "    with open('data/twitter/biden_{mode}_embeddings.pickle'.format(mode=mode), 'rb') as handle:\n",
    "        data = pickle.load(handle)\n",
    "        random.shuffle(data)\n",
    "        data = [list(x) for x in zip(*data)][0][:max_length*permutations]\n",
    "        data_permutated = [[x for x in data[i::permutations]] for i in range(permutations)]\n",
    "        subsets[mode]['biden'] = data_permutated\n",
    "    with open('data/twitter/trump_{mode}_embeddings.pickle'.format(mode=mode), 'rb') as handle:\n",
    "        data = pickle.load(handle)\n",
    "        random.shuffle(data)\n",
    "        data = [list(x) for x in zip(*data)][0][:max_length*permutations]\n",
    "        data_permutated = [[x for x in data[i::permutations]] for i in range(permutations)]\n",
    "        subsets[mode]['trump'] = data_permutated\n",
    "    "
   ]
  },
  {
   "cell_type": "markdown",
   "metadata": {},
   "source": [
    "# initiate detectors"
   ]
  },
  {
   "cell_type": "code",
   "execution_count": null,
   "metadata": {},
   "outputs": [],
   "source": [
    "detectors = {\n",
    "    'csdd': CosineSimilarityDriftDetector(),\n",
    "    'kts' : KernelTwoSampleDriftDetector(),\n",
    "    'aks' : AlibiKSDetector(),\n",
    "    'ammd': AlibiMMDDetector(),\n",
    "    'lsdd': AlibiLSDDDetector(),\n",
    "}"
   ]
  },
  {
   "cell_type": "markdown",
   "metadata": {},
   "source": [
    "# tests"
   ]
  },
  {
   "cell_type": "code",
   "execution_count": null,
   "metadata": {},
   "outputs": [],
   "source": [
    "\n",
    "if os.path.isfile(result_pickle):  # Do not overwrite\n",
    "    print('Loading result pickle: ', result_pickle)\n",
    "    with open(result_pickle, 'rb') as handle:\n",
    "        results = pickle.load(handle)\n",
    "else:\n",
    "    results = {mode: {detector: {} for detector in detectors} for mode in modes}\n",
    "\n",
    "    \n",
    "for detector in detectors:\n",
    "    for mode in modes:\n",
    "        if not detector in results[mode]:\n",
    "            results[mode][detector] = {}\n",
    "        if 'predictions' in results[mode][detector]: # skip already computed\n",
    "            continue\n",
    "        \n",
    "        results[mode][detector]['predictions'] = []\n",
    "        results[mode][detector]['time_detect'] = []\n",
    "        \n",
    "        for perm in range(permutations):\n",
    "            det, t = time_fit(detectors[detector], subsets[mode]['biden'][perm])\n",
    "            results[mode][detector]['time_fit'] = t\n",
    "            det_2, t, res = time_test(det, subsets[mode]['trump'][perm])\n",
    "            results[mode][detector]['predictions'].append(res)\n",
    "            results[mode][detector]['time_detect'].append(t)\n",
    "\n",
    "with open(result_pickle, 'wb') as handle:\n",
    "    pickle.dump(results, handle)"
   ]
  },
  {
   "cell_type": "code",
   "execution_count": null,
   "metadata": {},
   "outputs": [],
   "source": [
    "print(results)"
   ]
  },
  {
   "cell_type": "code",
   "execution_count": null,
   "metadata": {},
   "outputs": [],
   "source": []
  }
 ],
 "metadata": {
  "language_info": {
   "name": "python",
   "pygments_lexer": "ipython3"
  }
 },
 "nbformat": 4,
 "nbformat_minor": 4
}
