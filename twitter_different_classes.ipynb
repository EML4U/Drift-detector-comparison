{
 "cells": [
  {
   "cell_type": "code",
   "execution_count": 1,
   "metadata": {},
   "outputs": [],
   "source": [
    "import pickle\n",
    "from detectors import *\n",
    "import matplotlib.pyplot as plt\n",
    "import numpy as np\n",
    "import random\n",
    "import time\n",
    "import os"
   ]
  },
  {
   "cell_type": "code",
   "execution_count": 2,
   "metadata": {},
   "outputs": [],
   "source": [
    "def time_fit(det, data):\n",
    "    time_begin = time.time()\n",
    "        \n",
    "    det = det.fit(np.array(data))\n",
    "    \n",
    "    return det, time.time() - time_begin\n",
    "\n",
    "def time_test(det, data):\n",
    "    time_begin = time.time()\n",
    "        \n",
    "    result = det.predict_proba(np.array(data))\n",
    "    \n",
    "    return det, time.time() - time_begin, result\n"
   ]
  },
  {
   "cell_type": "markdown",
   "metadata": {},
   "source": [
    "# load data"
   ]
  },
  {
   "cell_type": "code",
   "execution_count": 3,
   "metadata": {},
   "outputs": [],
   "source": [
    "modes = ['bert_768', 'bow_50', 'bow_768']\n",
    "subsets = {}\n",
    "permutations = 10\n",
    "max_length = 1000\n",
    "\n",
    "result_pickle = 'data/results/twitter_diff_classes.pickle'\n",
    "\n",
    "for mode in modes:\n",
    "    subsets[mode] = {}\n",
    "    with open('data/twitter/biden_{mode}_embeddings.pickle'.format(mode=mode), 'rb') as handle:\n",
    "        data = pickle.load(handle)\n",
    "        random.shuffle(data)\n",
    "        data = [list(x) for x in zip(*data)][0][:max_length*permutations]\n",
    "        data_permutated = [[x for x in data[i::permutations]] for i in range(permutations)]\n",
    "        subsets[mode]['biden'] = data_permutated\n",
    "    with open('data/twitter/trump_{mode}_embeddings.pickle'.format(mode=mode), 'rb') as handle:\n",
    "        data = pickle.load(handle)\n",
    "        random.shuffle(data)\n",
    "        data = [list(x) for x in zip(*data)][0][:max_length*permutations]\n",
    "        data_permutated = [[x for x in data[i::permutations]] for i in range(permutations)]\n",
    "        subsets[mode]['trump'] = data_permutated\n",
    "    "
   ]
  },
  {
   "cell_type": "markdown",
   "metadata": {},
   "source": [
    "# initiate detectors"
   ]
  },
  {
   "cell_type": "code",
   "execution_count": 4,
   "metadata": {},
   "outputs": [],
   "source": [
    "detectors = {\n",
    "    'csdd': CosineSimilarityDriftDetector(),\n",
    "    'kts' : KernelTwoSampleDriftDetector(),\n",
    "    'aks' : AlibiKSDetector(),\n",
    "    'ammd': AlibiMMDDetector()\n",
    "}"
   ]
  },
  {
   "cell_type": "markdown",
   "metadata": {},
   "source": [
    "# tests"
   ]
  },
  {
   "cell_type": "code",
   "execution_count": 5,
   "metadata": {},
   "outputs": [],
   "source": [
    "\n",
    "if os.path.isfile(result_pickle):  # Do not overwrite\n",
    "    print('Loading result pickle: ', result_pickle)\n",
    "    with open(result_pickle, 'rb') as handle:\n",
    "        results = pickle.load(handle)\n",
    "else:\n",
    "    results = {mode: {detector: {} for detector in detectors} for mode in modes}\n",
    "\n",
    "    \n",
    "for detector in detectors:\n",
    "    for mode in modes:\n",
    "        if not detector in results[mode]:\n",
    "            results[mode][detector] = {}\n",
    "        if 'predictions' in results[mode][detector]: # skip already computed\n",
    "            continue\n",
    "        \n",
    "        results[mode][detector]['predictions'] = []\n",
    "        results[mode][detector]['time_detect'] = []\n",
    "        \n",
    "        for perm in range(permutations):\n",
    "            det, t = time_fit(detectors[detector], subsets[mode]['biden'][perm])\n",
    "            results[mode][detector]['time_fit'] = t\n",
    "            det_2, t, res = time_test(det, subsets[mode]['trump'][perm])\n",
    "            results[mode][detector]['predictions'].append(res)\n",
    "            results[mode][detector]['time_detect'].append(t)\n",
    "\n",
    "with open(result_pickle, 'wb') as handle:\n",
    "    pickle.dump(results, handle)"
   ]
  },
  {
   "cell_type": "code",
   "execution_count": 6,
   "metadata": {},
   "outputs": [
    {
     "name": "stdout",
     "output_type": "stream",
     "text": [
      "{'bert_768': {'csdd': {'predictions': [0.98833007, 0.9880465, 0.9884946, 0.9881815, 0.98884106, 0.9879347, 0.98828864, 0.9886123, 0.98833466, 0.98849905], 'time_detect': [0.017789602279663086, 0.01818990707397461, 0.018229007720947266, 0.018047094345092773, 0.01820230484008789, 0.018177509307861328, 0.01817035675048828, 0.017960309982299805, 0.01801753044128418, 0.01800704002380371], 'time_fit': 0.002301454544067383}, 'kts': {'predictions': [0.002, 0.002, 0.002, 0.002, 0.002, 0.002, 0.002, 0.002, 0.002, 0.002], 'time_detect': [35.90825295448303, 35.781091928482056, 35.58414053916931, 35.540162086486816, 35.59471845626831, 35.55984044075012, 35.3651020526886, 35.36636662483215, 35.380627155303955, 35.456114292144775], 'time_fit': 0.0016121864318847656}, 'aks': {'predictions': [0.124501504, 0.11660701, 0.12784125, 0.11647242, 0.12715572, 0.1229193, 0.114967845, 0.120046295, 0.120141506, 0.11399152], 'time_detect': [0.193558931350708, 0.22043752670288086, 0.22019100189208984, 0.22057771682739258, 0.23760175704956055, 0.2155749797821045, 0.21919798851013184, 0.21819829940795898, 0.21524262428283691, 0.21749663352966309], 'time_fit': 0.0016009807586669922}, 'ammd': {'predictions': [0.0, 0.0, 0.0, 0.0, 0.0, 0.0, 0.0, 0.0, 0.0, 0.0], 'time_detect': [1.0550799369812012, 1.0986220836639404, 1.093435287475586, 1.1570816040039062, 1.1077337265014648, 1.0557661056518555, 1.0429205894470215, 1.060760498046875, 1.0310051441192627, 1.0413429737091064], 'time_fit': 0.12156367301940918}}, 'bow_50': {'csdd': {'predictions': [0.89125407, 0.88355666, 0.89097446, 0.89920545, 0.8922022, 0.8861585, 0.88684815, 0.8822598, 0.8886167, 0.8845945], 'time_detect': [0.015277862548828125, 0.015205144882202148, 0.015141725540161133, 0.016088247299194336, 0.015291690826416016, 0.015291690826416016, 0.015292882919311523, 0.015156269073486328, 0.01517033576965332, 0.015362739562988281], 'time_fit': 0.0013148784637451172}, 'kts': {'predictions': [0.002, 0.002, 0.002, 0.002, 0.002, 0.002, 0.002, 0.002, 0.002, 0.002], 'time_detect': [36.61327314376831, 36.75414991378784, 36.79228353500366, 37.063352823257446, 36.993643045425415, 36.76947569847107, 36.80506873130798, 36.773462772369385, 37.292468547821045, 36.84214377403259], 'time_fit': 0.000606536865234375}, 'aks': {'predictions': [0.11385079, 0.06729866, 0.11381651, 0.1322649, 0.10049284, 0.11616481, 0.116335146, 0.06999044, 0.08118245, 0.09767257], 'time_detect': [0.014757394790649414, 0.014239788055419922, 0.015232324600219727, 0.013782501220703125, 0.015773534774780273, 0.01436614990234375, 0.014609813690185547, 0.014051198959350586, 0.014768600463867188, 0.013892650604248047], 'time_fit': 0.0006036758422851562}, 'ammd': {'predictions': [0.0, 0.0, 0.0, 0.0, 0.0, 0.0, 0.0, 0.0, 0.0, 0.0], 'time_detect': [1.0358588695526123, 1.0579581260681152, 1.0613648891448975, 1.058410406112671, 1.0428006649017334, 1.0359737873077393, 1.0807547569274902, 1.0994975566864014, 1.1399314403533936, 1.1181135177612305], 'time_fit': 0.12496519088745117}}, 'bow_768': {'csdd': {'predictions': [0.483989, 0.46937114, 0.5026999, 0.4778736, 0.5164887, 0.51670253, 0.4840123, 0.48470703, 0.4894302, 0.5075848], 'time_detect': [0.01831364631652832, 0.018011093139648438, 0.018386125564575195, 0.018378257751464844, 0.01828932762145996, 0.018373489379882812, 0.01811075210571289, 0.018290281295776367, 0.018586158752441406, 0.018100500106811523], 'time_fit': 0.0023276805877685547}, 'kts': {'predictions': [0.002, 0.002, 0.002, 0.002, 0.002, 0.002, 0.002, 0.002, 0.002, 0.002], 'time_detect': [35.53918671607971, 35.53378105163574, 35.67869734764099, 35.698819160461426, 35.348546504974365, 35.20605444908142, 35.74572825431824, 35.59086346626282, 35.53211426734924, 38.949782371520996], 'time_fit': 0.0016131401062011719}, 'aks': {'predictions': [0.26313886, 0.28237492, 0.21344237, 0.23860566, 0.26892707, 0.2842781, 0.21713297, 0.2821951, 0.22190215, 0.25019142], 'time_detect': [0.19372224807739258, 0.2067570686340332, 0.21978092193603516, 0.22158336639404297, 0.21742796897888184, 0.21398305892944336, 0.18854212760925293, 0.21844100952148438, 0.21756243705749512, 0.23052477836608887], 'time_fit': 0.0016410350799560547}, 'ammd': {'predictions': [0.0, 0.0, 0.0, 0.0, 0.0, 0.0, 0.0, 0.0, 0.0, 0.0], 'time_detect': [1.149702548980713, 1.2006642818450928, 1.1786296367645264, 1.1360270977020264, 1.1219310760498047, 1.1166157722473145, 1.109717845916748, 1.09879732131958, 1.1379544734954834, 1.1016910076141357], 'time_fit': 0.13994216918945312}}}\n"
     ]
    }
   ],
   "source": [
    "print(results)"
   ]
  },
  {
   "cell_type": "code",
   "execution_count": null,
   "metadata": {},
   "outputs": [],
   "source": []
  }
 ],
 "metadata": {
  "kernelspec": {
   "display_name": "Python 3",
   "language": "python",
   "name": "python3"
  },
  "language_info": {
   "codemirror_mode": {
    "name": "ipython",
    "version": 3
   },
   "file_extension": ".py",
   "mimetype": "text/x-python",
   "name": "python",
   "nbconvert_exporter": "python",
   "pygments_lexer": "ipython3",
   "version": "3.8.5"
  }
 },
 "nbformat": 4,
 "nbformat_minor": 4
}
